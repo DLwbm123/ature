{
 "cells": [
  {
   "cell_type": "code",
   "execution_count": null,
   "metadata": {},
   "outputs": [],
   "source": [
    "#!/home/akhanal1/Spring2018/pl-env/bin/python3.5\n",
    "import os\n",
    "import sys\n",
    "import path_config as pth\n",
    "import numpy as np\n",
    "import itertools as itr\n",
    "from random import shuffle\n",
    "from testing.segmentation_test import AtureTestMat, AtureTest\n",
    "\n",
    "sep = os.sep\n",
    "data_file_path = pth.DATA_PATH + sep + 'DRIVE' + sep + 'test' + sep + 'images'\n",
    "av_data = pth.DATA_PATH + sep + 'av_wide_data_set'\n",
    "\n",
    "mask_path = pth.DATA_PATH + sep + 'DRIVE' + sep + 'test' + sep + 'mask'\n",
    "ground_truth_path = pth.DATA_PATH + sep + 'DRIVE' + sep + 'test' + sep + '1st_manual'\n",
    "\n",
    "# for ubuntu\n",
    "sys.path.append(pth.CONTEXT_PATH)\n",
    "os.chdir(pth.CONTEXT_PATH)\n",
    "\n",
    "\n",
    "def get_mask_file(file_name): return file_name.split('_')[0] + '_test_mask.gif'\n",
    "\n",
    "\n",
    "def get_ground_truth_file(file_name): return file_name.split('_')[0] + '_manual1.gif'\n",
    "\n",
    "\n",
    "SK_THRESHOLD_PARAMS = np.arange(40, 61, 20)\n",
    "ALPHA_PARAMS = np.arange(5, 7, 0.5)\n",
    "GABOR_CONTRIBUTION_PARAMS = np.arange(0.6, 1.1, 0.2)\n",
    "SEGMENTATION_THRESHOLD_PARAMS = np.arange(9, 15, 0.5)\n",
    "\n",
    "PARAMS_ITR = itr.product(SK_THRESHOLD_PARAMS, ALPHA_PARAMS, GABOR_CONTRIBUTION_PARAMS, SEGMENTATION_THRESHOLD_PARAMS)\n",
    "\n",
    "PARAMS_COMBINATION = list(PARAMS_ITR)\n",
    "shuffle(PARAMS_COMBINATION)\n",
    "\n",
    "keys = ('sk_threshold', 'alpha', 'gabor_contrib', 'seg_threshold')\n",
    "\n",
    "all_params = list(dict(zip(keys, param)) for param in PARAMS_COMBINATION)\n",
    "\n",
    "params = {'sk_threshold': 60,\n",
    "          'alpha': 5.0,\n",
    "          'gabor_contrib': 1.3,\n",
    "          'seg_threshold': 10.5}"
   ]
  },
  {
   "cell_type": "code",
   "execution_count": null,
   "metadata": {},
   "outputs": [],
   "source": [
    "\n",
    "# Run for image files with in-time mask erosion\n",
    "tester = AtureTest(data_dir=data_file_path, log_dir=os.path.join(pth.OUT_PATH, 'out_ak'))\n",
    "tester.load_mask(mask_dir=mask_path, fget_mask_file=get_mask_file, erode_mask=True)\n",
    "tester.load_ground_truth(ground_truth_dir=ground_truth_path, fget_ground_truth_file=get_ground_truth_file)\n",
    "tester.run_for_one_image(file_name='01_test.tif', params_combination=[params], save=True)\n",
    "tester.run_for_all_images(params_combination=all_params)\n",
    "\n",
    "mask_path = pth.DATA_PATH + sep + 'DRIVE' + sep + 'test' + sep + 'mask_fixed'\n",
    "# Run for mask fixed by Dr. Estrada\n",
    "tester = AtureTest(data_dir=data_file_path, log_dir=os.path.join(pth.OUT_PATH, 'out_rj'))\n",
    "tester.load_mask(mask_dir=mask_path, fget_mask_file=get_mask_file, erode_mask=False)\n",
    "tester.load_ground_truth(ground_truth_dir=ground_truth_path, fget_ground_truth_file=get_ground_truth_file)\n",
    "tester.run_for_one_image(file_name='01_test.tif', params_combination=[params], save=True)\n",
    "tester.run_for_all_images(params_combination=all_params)\n",
    "\n",
    "# Run for mat files in av_wide_data_set dir\n",
    "tester = AtureTestMat(data_dir=data_file_path, log_dir=os.path.join(pth.OUT_PATH, 'out_ak'))\n",
    "tester.load_mask(mask_dir=mask_path, fget_mask_file=get_mask_file)\n",
    "tester.load_ground_truth(ground_truth_dir=ground_truth_path, fget_ground_truth_file=get_ground_truth_file)\n",
    "tester.run_for_one_image(test_file_name='wide_image_03.mat', params=params)"
   ]
  },
  {
   "cell_type": "code",
   "execution_count": null,
   "metadata": {},
   "outputs": [],
   "source": [
    "import pandas as pd\n",
    "df = pd.read_csv('out/out_ak/segmentation_result.csv')"
   ]
  },
  {
   "cell_type": "code",
   "execution_count": null,
   "metadata": {},
   "outputs": [],
   "source": [
    "grouped = df.groupby(['SKELETONIZE_THRESHOLD','IMG_LATTICE_COST_ASSIGNMENT_ALPHA',\n",
    "                      'IMG_LATTICE_COST_GABOR_IMAGE_CONTRIBUTION',\n",
    "                      'SEGMENTATION_THRESHOLD']).mean().reset_index()\n",
    "grouped.sort_values(by='FSCORE', ascending=False)"
   ]
  }
 ],
 "metadata": {
  "kernelspec": {
   "display_name": "ature_env",
   "language": "python",
   "name": "pl-env"
  },
  "language_info": {
   "codemirror_mode": {
    "name": "ipython",
    "version": 3
   },
   "file_extension": ".py",
   "mimetype": "text/x-python",
   "name": "python",
   "nbconvert_exporter": "python",
   "pygments_lexer": "ipython3",
   "version": "3.5.2"
  }
 },
 "nbformat": 4,
 "nbformat_minor": 2
}
