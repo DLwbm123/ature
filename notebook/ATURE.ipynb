{
 "cells": [
  {
   "cell_type": "code",
   "execution_count": 36,
   "metadata": {},
   "outputs": [],
   "source": [
    "import os\n",
    "\n",
    "base_path = \"C:\\\\Projects\\\\ature\\\\\" #WINDOWS\n",
    "# base_path = \"home/ak/Projects/ature/\" #LINUX\n",
    "\n",
    "data_file_path = base_path + \"\\\\data\\\\DRIVE\\\\test\\\\images\"\n",
    "mask_path = base_path + \"\\\\data\\\\DRIVE\\\\test\\\\mask\"\n",
    "ground_truth_path = base_path + \"\\\\data\\\\DRIVE\\\\test\\\\1st_manual\"\n",
    "    \n",
    "os.chdir(base_path)\n",
    "\n",
    "from commons.IMAGE import Image\n",
    "from commons.ImgLATTICE import Lattice\n",
    "import preprocess.utils.img_utils as imgutils\n",
    "from commons.MAT import Mat\n",
    "from PIL import Image as IMG\n",
    "import numpy as np\n",
    "from commons import constants as const\n",
    "import cv2\n",
    "from preprocess.algorithms import fast_mst as fmst\n",
    "import itertools as itr"
   ]
  },
  {
   "cell_type": "code",
   "execution_count": 37,
   "metadata": {},
   "outputs": [],
   "source": [
    "#########Load av wide mat file#########\n",
    "# os.chdir(pth.join(data_path, 'av_wide_data_set'))\n",
    "# file = Mat(file_name='wide_image_06.mat')\n",
    "# original = file.get_image('I2')\n",
    "# img = Image(image_arr=original[:,:,1])\n",
    "# img.apply_bilateral()\n",
    "# img.apply_gabor(kernel_bank=imgutils.get_chosen_gabor_bank() )"
   ]
  },
  {
   "cell_type": "code",
   "execution_count": 38,
   "metadata": {},
   "outputs": [],
   "source": [
    "#######Load image directly##########\n",
    "# os.chdir(data_file_path)\n",
    "# original = IMG.open('01_test.tif')\n",
    "# original = np.array(original.getdata(), np.uint8).reshape(original.size[1], original.size[0], 3)\n",
    "# img = Image(image_arr=original[:,:,1])\n",
    "# img.apply_bilateral()\n",
    "# img.apply_gabor(kernel_bank=imgutils.get_chosen_gabor_bank())"
   ]
  },
  {
   "cell_type": "code",
   "execution_count": 39,
   "metadata": {},
   "outputs": [],
   "source": [
    "# -------CONSTANTS--------\n",
    "# SKELETONIZE_THRESHOLD = 20\n",
    "\n",
    "# # Image lattice constants\n",
    "# IMG_LATTICE_COST_ASSIGNMENT_ALPHA = 5\n",
    "\n",
    "# IMG_LATTICE_COST_GABOR_IMAGE_CONTRIBUTION = 0.6\n",
    "\n",
    "# # MST algorithm parameters\n",
    "# SEGMENTATION_THRESHOLD = 8"
   ]
  },
  {
   "cell_type": "code",
   "execution_count": 40,
   "metadata": {},
   "outputs": [
    {
     "data": {
      "text/plain": [
       "127"
      ]
     },
     "execution_count": 40,
     "metadata": {},
     "output_type": "execute_result"
    }
   ],
   "source": [
    "log_file = open(\"output.txt\",'w')\n",
    "log_file.write(\"FSCORE,SKELETONIZE_THRESHOLD,IMG_LATTICE_COST_ASSIGNMENT_ALPHA,IMG_LATTICE_COST_GABOR_IMAGE_CONTRIBUTION,SEGMENTATION_THRESHOLD\\n\")"
   ]
  },
  {
   "cell_type": "code",
   "execution_count": 41,
   "metadata": {},
   "outputs": [],
   "source": [
    "def run(img, params, mask, truth):\n",
    "    \n",
    "    #####Unpack all params\n",
    "    SKELETONIZE_THRESHOLD, IMG_LATTICE_COST_ASSIGNMENT_ALPHA, IMG_LATTICE_COST_GABOR_IMAGE_CONTRIBUTION, SEGMENTATION_THRESHOLD = params\n",
    "    \n",
    "    #####Create skeleton based on threshold\n",
    "    img.create_skeleton(threshold=SKELETONIZE_THRESHOLD, kernels=imgutils.get_chosen_skeleton_filter())\n",
    "    seed_node_list = imgutils.get_seed_node_list(img.img_skeleton)\n",
    "\n",
    "    #####Run segmnetation\n",
    "    graph = fmst.run_segmentation(image_object=img,\n",
    "                          lattice_object=lattice,\n",
    "                          seed_list=seed_node_list,\n",
    "                          segmentation_threshold=SEGMENTATION_THRESHOLD,\n",
    "                          alpha=IMG_LATTICE_COST_ASSIGNMENT_ALPHA,\n",
    "                          img_gabor_contribution=IMG_LATTICE_COST_GABOR_IMAGE_CONTRIBUTION,\n",
    "                          img_original_contribution=1-IMG_LATTICE_COST_GABOR_IMAGE_CONTRIBUTION)\n",
    "    \n",
    "    #####Apply mask\n",
    "    segmented = cv2.bitwise_and(lattice.accumulator, lattice.accumulator, mask=mask)\n",
    "\n",
    "    #####Calculate F1 measure\n",
    "    TP = 0 #True Positive\n",
    "    FP = 0 #False Positive\n",
    "    FN = 0 #False Negative\n",
    "    for i in range(0, segmented.shape[0]):\n",
    "        for j in range(0, segmented.shape[1]):\n",
    "            if segmented[i, j] == 255 and truth[i, j] == 255:\n",
    "                TP+=1\n",
    "            if segmented[i, j] == 255 and truth[i, j] == 0:\n",
    "                FP+=1\n",
    "            if segmented[i, j] == 0 and truth[i, j] == 0:\n",
    "                FN += 1\n",
    "    F_score = 2 * TP / (2 * TP + FP + FN) \n",
    "    \n",
    "    #####Log result\n",
    "    parms = str(round(F_score, 3)) + ',' + str(SKELETONIZE_THRESHOLD) + ',' + str(IMG_LATTICE_COST_ASSIGNMENT_ALPHA) + ',' + str(IMG_LATTICE_COST_GABOR_IMAGE_CONTRIBUTION)+ ',' + str(SEGMENTATION_THRESHOLD)\n",
    "    log_file.write(parms+'\\n')\n",
    "    log_file.flush()"
   ]
  },
  {
   "cell_type": "code",
   "execution_count": 42,
   "metadata": {},
   "outputs": [
    {
     "name": "stdout",
     "output_type": "stream",
     "text": [
      "WORKING ON: 01_test.tif\n",
      "MASK LOADED: 01_test_mask.gif\n",
      "GROUND TRUTH LOADED: 01_manual1.gif\n"
     ]
    },
    {
     "ename": "KeyboardInterrupt",
     "evalue": "",
     "output_type": "error",
     "traceback": [
      "\u001b[1;31m---------------------------------------------------------------------------\u001b[0m",
      "\u001b[1;31mKeyboardInterrupt\u001b[0m                         Traceback (most recent call last)",
      "\u001b[1;32m<ipython-input-42-05a933229cab>\u001b[0m in \u001b[0;36m<module>\u001b[1;34m()\u001b[0m\n\u001b[0;32m     38\u001b[0m \u001b[1;33m\u001b[0m\u001b[0m\n\u001b[0;32m     39\u001b[0m     \u001b[1;32mfor\u001b[0m \u001b[0mparams\u001b[0m \u001b[1;32min\u001b[0m \u001b[0mPARAMS_COMBINATION\u001b[0m\u001b[1;33m:\u001b[0m\u001b[1;33m\u001b[0m\u001b[0m\n\u001b[1;32m---> 40\u001b[1;33m         \u001b[0mrun\u001b[0m\u001b[1;33m(\u001b[0m\u001b[0mimg\u001b[0m\u001b[1;33m,\u001b[0m \u001b[0mparams\u001b[0m\u001b[1;33m,\u001b[0m \u001b[0mmask\u001b[0m\u001b[1;33m,\u001b[0m \u001b[0mtruth\u001b[0m\u001b[1;33m)\u001b[0m\u001b[1;33m\u001b[0m\u001b[0m\n\u001b[0m\u001b[0;32m     41\u001b[0m \u001b[0mlog_file\u001b[0m\u001b[1;33m.\u001b[0m\u001b[0mclose\u001b[0m\u001b[1;33m(\u001b[0m\u001b[1;33m)\u001b[0m\u001b[1;33m\u001b[0m\u001b[0m\n",
      "\u001b[1;32m<ipython-input-41-54906b01dcfc>\u001b[0m in \u001b[0;36mrun\u001b[1;34m(img, params, mask, truth)\u001b[0m\n\u001b[0;32m     29\u001b[0m                 \u001b[0mTP\u001b[0m\u001b[1;33m+=\u001b[0m\u001b[1;36m1\u001b[0m\u001b[1;33m\u001b[0m\u001b[0m\n\u001b[0;32m     30\u001b[0m             \u001b[1;32mif\u001b[0m \u001b[0msegmented\u001b[0m\u001b[1;33m[\u001b[0m\u001b[0mi\u001b[0m\u001b[1;33m,\u001b[0m \u001b[0mj\u001b[0m\u001b[1;33m]\u001b[0m \u001b[1;33m==\u001b[0m \u001b[1;36m255\u001b[0m \u001b[1;32mand\u001b[0m \u001b[0mtruth\u001b[0m\u001b[1;33m[\u001b[0m\u001b[0mi\u001b[0m\u001b[1;33m,\u001b[0m \u001b[0mj\u001b[0m\u001b[1;33m]\u001b[0m \u001b[1;33m==\u001b[0m \u001b[1;36m0\u001b[0m\u001b[1;33m:\u001b[0m\u001b[1;33m\u001b[0m\u001b[0m\n\u001b[1;32m---> 31\u001b[1;33m                 \u001b[0mFP\u001b[0m\u001b[1;33m+=\u001b[0m\u001b[1;36m1\u001b[0m\u001b[1;33m\u001b[0m\u001b[0m\n\u001b[0m\u001b[0;32m     32\u001b[0m             \u001b[1;32mif\u001b[0m \u001b[0msegmented\u001b[0m\u001b[1;33m[\u001b[0m\u001b[0mi\u001b[0m\u001b[1;33m,\u001b[0m \u001b[0mj\u001b[0m\u001b[1;33m]\u001b[0m \u001b[1;33m==\u001b[0m \u001b[1;36m0\u001b[0m \u001b[1;32mand\u001b[0m \u001b[0mtruth\u001b[0m\u001b[1;33m[\u001b[0m\u001b[0mi\u001b[0m\u001b[1;33m,\u001b[0m \u001b[0mj\u001b[0m\u001b[1;33m]\u001b[0m \u001b[1;33m==\u001b[0m \u001b[1;36m0\u001b[0m\u001b[1;33m:\u001b[0m\u001b[1;33m\u001b[0m\u001b[0m\n\u001b[0;32m     33\u001b[0m                 \u001b[0mFN\u001b[0m \u001b[1;33m+=\u001b[0m \u001b[1;36m1\u001b[0m\u001b[1;33m\u001b[0m\u001b[0m\n",
      "\u001b[1;31mKeyboardInterrupt\u001b[0m: "
     ]
    }
   ],
   "source": [
    "#############ENTRY POINT HERE###############\n",
    "############################################\n",
    "SK_THRESHOLD_PARAMS = np.arange(0, 50, 5)\n",
    "ALPHA_PARAMS = np.arange(1, 11, 1)\n",
    "GABOR_CONTRIBUTION_PARAMS = np.arange(0.1, 1.1, 0.1)\n",
    "SEGMENTATION_THRESHOLD_PARAMS = np.arange(2, 22, 2)\n",
    "\n",
    "PARAMS_COMBINATION = itr.product(SK_THRESHOLD_PARAMS, ALPHA_PARAMS, GABOR_CONTRIBUTION_PARAMS, SEGMENTATION_THRESHOLD_PARAMS)\n",
    "\n",
    "####Work on all images in a directory\n",
    "os.chdir(data_file_path)\n",
    "for test_image in os.listdir(os.getcwd()):\n",
    "    \n",
    "    print('WORKING ON: ' + test_image)\n",
    "    original = IMG.open(test_image)\n",
    "    original = np.array(original.getdata(), np.uint8).reshape(original.size[1], original.size[0], 3)\n",
    "    img = Image(image_arr=original[:,:,1])\n",
    "    img.apply_bilateral()\n",
    "    img.apply_gabor(kernel_bank=imgutils.get_chosen_gabor_bank())\n",
    "    \n",
    "    #### Load the corresponding mask as array\n",
    "    os.chdir(mask_path)\n",
    "    ####Read image as array\n",
    "    mask_file = test_image[:2] + '_test_mask.gif'\n",
    "    mask = IMG.open(mask_file)\n",
    "    print(\"MASK LOADED: \" + mask_file)\n",
    "    mask = np.array(mask.getdata(), np.uint8).reshape(mask.size[1], mask.size[0], 1)[:,:,0]\n",
    "\n",
    "    ####Load ground truth segmented result as an array\n",
    "    os.chdir(ground_truth_path)\n",
    "    ground_truth_file = test_image[:2] + '_manual1.gif'\n",
    "    truth = IMG.open(ground_truth_file)\n",
    "    print(\"GROUND TRUTH LOADED: \" + ground_truth_file)\n",
    "    truth = np.array(truth.getdata(), np.uint8).reshape(truth.size[1], truth.size[0], 1)[:,:,0]\n",
    "    \n",
    "    lattice = Lattice(image_arr_2d=img.img_gabor)\n",
    "    lattice.generate_lattice_graph()\n",
    "    \n",
    "    for params in PARAMS_COMBINATION:\n",
    "        run(img, params, mask, truth)\n",
    "log_file.close()"
   ]
  },
  {
   "cell_type": "code",
   "execution_count": 31,
   "metadata": {},
   "outputs": [],
   "source": [
    "import datetime"
   ]
  },
  {
   "cell_type": "code",
   "execution_count": 35,
   "metadata": {},
   "outputs": [
    {
     "data": {
      "text/plain": [
       "datetime.datetime(2018, 1, 22, 20, 58, 4, 789605)"
      ]
     },
     "execution_count": 35,
     "metadata": {},
     "output_type": "execute_result"
    }
   ],
   "source": [
    "datetime.datetime.today()"
   ]
  },
  {
   "cell_type": "code",
   "execution_count": null,
   "metadata": {},
   "outputs": [],
   "source": []
  }
 ],
 "metadata": {
  "kernelspec": {
   "display_name": "ature_env",
   "language": "python",
   "name": "ature_env"
  },
  "language_info": {
   "codemirror_mode": {
    "name": "ipython",
    "version": 3
   },
   "file_extension": ".py",
   "mimetype": "text/x-python",
   "name": "python",
   "nbconvert_exporter": "python",
   "pygments_lexer": "ipython3",
   "version": "3.6.2"
  }
 },
 "nbformat": 4,
 "nbformat_minor": 2
}
