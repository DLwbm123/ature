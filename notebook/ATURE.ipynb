{
 "cells": [
  {
   "cell_type": "code",
   "execution_count": 25,
   "metadata": {},
   "outputs": [],
   "source": [
    "import os\n",
    "\n",
    "### CHANGE path HERE\n",
    "base_path_win = \"C:\\\\Projects\\\\ature\\\\\" # WINDOWS\n",
    "base_path_lin = \"/home/akhanal1/Spring2018/ature\" # LINUX"
   ]
  },
  {
   "cell_type": "code",
   "execution_count": 24,
   "metadata": {},
   "outputs": [],
   "source": [
    "if os.name == 'nt':\n",
    "    base_path = base_path_win\n",
    "else:\n",
    "    base_path = base_path_lin\n",
    "\n",
    "sep = os.sep\n",
    "data_file_path = base_path + sep + 'data' + sep + 'DRIVE' + 'test' + sep + 'images'\n",
    "mask_path = base_path + sep + 'data' + sep + 'DRIVE' + sep + 'test' + sep + 'mask'\n",
    "ground_truth_path = base_path + sep + 'data' + sep + 'DRIVE' + sep + sep + 'test' + sep + '1st_manual'\n",
    "log_path = base_path + sep + 'logs'\n",
    "  \n",
    "os.chdir(base_path)\n",
    "\n",
    "from commons.IMAGE import Image\n",
    "from commons.ImgLATTICE import Lattice\n",
    "import preprocess.utils.img_utils as imgutils\n",
    "from commons.MAT import Mat\n",
    "from PIL import Image as IMG\n",
    "import numpy as np\n",
    "from commons import constants as const\n",
    "import cv2\n",
    "from preprocess.algorithms import fast_mst as fmst\n",
    "import itertools as itr\n",
    "from itertools import count\n",
    "import matplotlib.pyplot as plt\n",
    "from random import shuffle"
   ]
  },
  {
   "cell_type": "code",
   "execution_count": 13,
   "metadata": {},
   "outputs": [
    {
     "name": "stdout",
     "output_type": "stream",
     "text": [
      "The autoreload extension is already loaded. To reload it, use:\n",
      "  %reload_ext autoreload\n"
     ]
    }
   ],
   "source": [
    "%load_ext autoreload\n",
    "%autoreload 2"
   ]
  },
  {
   "cell_type": "code",
   "execution_count": 14,
   "metadata": {},
   "outputs": [],
   "source": [
    "def run_segmentation(img_obj, lattice_obj, params):\n",
    "    \n",
    "    ##### Unpack all params\n",
    "    SKELETONIZE_THRESHOLD, IMG_LATTICE_COST_ASSIGNMENT_ALPHA, IMG_LATTICE_COST_GABOR_IMAGE_CONTRIBUTION, SEGMENTATION_THRESHOLD = params\n",
    "    \n",
    "    ##### Create skeleton based on threshold\n",
    "    img_obj.create_skeleton(threshold=SKELETONIZE_THRESHOLD, kernels=imgutils.get_chosen_skeleton_filter())\n",
    "    seed_node_list = imgutils.get_seed_node_list(img_obj.img_skeleton)     \n",
    "\n",
    "    ##### Run segmnetation\n",
    "    graph = fmst.run_segmentation(image_object=img_obj,\n",
    "                          lattice_object=lattice_obj,\n",
    "                          seed_list=seed_node_list,\n",
    "                          segmentation_threshold=SEGMENTATION_THRESHOLD,\n",
    "                          alpha=IMG_LATTICE_COST_ASSIGNMENT_ALPHA,\n",
    "                          img_gabor_contribution=IMG_LATTICE_COST_GABOR_IMAGE_CONTRIBUTION,\n",
    "                          img_original_contribution=1.5-IMG_LATTICE_COST_GABOR_IMAGE_CONTRIBUTION)"
   ]
  },
  {
   "cell_type": "code",
   "execution_count": 15,
   "metadata": {},
   "outputs": [],
   "source": [
    "def get_precision_recall_accuracy(segmented, truth):\n",
    "\n",
    "    TP = 0 #True Positive\n",
    "    FP = 0 #False Positive\n",
    "    FN = 0 #False Negative\n",
    "    TN = 0 #True Negative\n",
    "    for i in range(0, segmented.shape[0]):\n",
    "        for j in range(0, segmented.shape[1]):\n",
    "            if segmented[i, j] == 255 and truth[i, j] == 255:\n",
    "                TP+=1\n",
    "            if segmented[i, j] == 255 and truth[i, j] == 0:\n",
    "                FP+=1\n",
    "            if segmented[i, j] == 0 and truth[i, j] == 255:\n",
    "                FN += 1\n",
    "            if segmented[i, j] == 0 and truth[i, j] == 0:\n",
    "                TN += 1\n",
    "    \n",
    "    return TP / (TP + FP), TP / (TP + FN), (TP + TN)/(TP + FP + FN + TN)"
   ]
  },
  {
   "cell_type": "code",
   "execution_count": 16,
   "metadata": {},
   "outputs": [],
   "source": [
    "def generate_precision_recall_plot(log_file):\n",
    "    os.chdir(log_path)\n",
    "    log = np.loadtxt('01_test.tif_result.csv', skiprows=1, delimiter=',')\n",
    "    plt.title('Precision vs Recall plot')\n",
    "    plt.xlabel('Recall')\n",
    "    plt.ylabel('Precision')\n",
    "    plt.scatter(log[:,2], log[:,3], label='Recall')\n",
    "    plt.xlim((0,1))\n",
    "    plt.ylim((0,1))\n",
    "    plt.savefig('01_test.tif_result.csv' + '.png')"
   ]
  },
  {
   "cell_type": "code",
   "execution_count": 17,
   "metadata": {},
   "outputs": [
    {
     "data": {
      "text/plain": [
       "'/home/akhanal1/Spring2018/ature/data/DRIVE/test/images'"
      ]
     },
     "execution_count": 17,
     "metadata": {},
     "output_type": "execute_result"
    }
   ],
   "source": [
    "data_file_path"
   ]
  },
  {
   "cell_type": "code",
   "execution_count": 18,
   "metadata": {},
   "outputs": [
    {
     "name": "stdout",
     "output_type": "stream",
     "text": [
      "starting..\n",
      "### WORKING ON: 17_test.tif\n",
      "Mask loaded: 17_test_mask.gif\n",
      "Ground truth loaded: 17_manual1.gif\n",
      "Filter applied.\n",
      "Lattice created.\n",
      "Number of parameter combinations tried: 8\r"
     ]
    },
    {
     "ename": "KeyboardInterrupt",
     "evalue": "",
     "traceback": [
      "\u001b[0;31m---------------------------------------------------------------------------\u001b[0m",
      "\u001b[0;31mKeyboardInterrupt\u001b[0m                         Traceback (most recent call last)",
      "\u001b[0;32m<ipython-input-18-eb391a12aaab>\u001b[0m in \u001b[0;36m<module>\u001b[0;34m()\u001b[0m\n\u001b[1;32m     84\u001b[0m \u001b[0;34m\u001b[0m\u001b[0m\n\u001b[1;32m     85\u001b[0m         \u001b[0mi\u001b[0m \u001b[0;34m=\u001b[0m \u001b[0mnext\u001b[0m\u001b[0;34m(\u001b[0m\u001b[0mc\u001b[0m\u001b[0;34m)\u001b[0m\u001b[0;34m\u001b[0m\u001b[0m\n\u001b[0;32m---> 86\u001b[0;31m         \u001b[0mrun_segmentation\u001b[0m\u001b[0;34m(\u001b[0m\u001b[0mimg_obj\u001b[0m\u001b[0;34m,\u001b[0m \u001b[0mlattice_obj\u001b[0m\u001b[0;34m,\u001b[0m \u001b[0mparams\u001b[0m\u001b[0;34m)\u001b[0m\u001b[0;34m\u001b[0m\u001b[0m\n\u001b[0m\u001b[1;32m     87\u001b[0m \u001b[0;34m\u001b[0m\u001b[0m\n\u001b[1;32m     88\u001b[0m         \u001b[0mprecision\u001b[0m\u001b[0;34m,\u001b[0m \u001b[0mrecall\u001b[0m\u001b[0;34m,\u001b[0m \u001b[0maccuracy\u001b[0m \u001b[0;34m=\u001b[0m \u001b[0mget_precision_recall_accuracy\u001b[0m\u001b[0;34m(\u001b[0m\u001b[0mlattice_obj\u001b[0m\u001b[0;34m.\u001b[0m\u001b[0maccumulator\u001b[0m\u001b[0;34m,\u001b[0m \u001b[0mtruth\u001b[0m\u001b[0;34m)\u001b[0m\u001b[0;34m\u001b[0m\u001b[0m\n",
      "\u001b[0;32m<ipython-input-14-e77327a956ef>\u001b[0m in \u001b[0;36mrun_segmentation\u001b[0;34m(img_obj, lattice_obj, params)\u001b[0m\n\u001b[1;32m     15\u001b[0m                           \u001b[0malpha\u001b[0m\u001b[0;34m=\u001b[0m\u001b[0mIMG_LATTICE_COST_ASSIGNMENT_ALPHA\u001b[0m\u001b[0;34m,\u001b[0m\u001b[0;34m\u001b[0m\u001b[0m\n\u001b[1;32m     16\u001b[0m                           \u001b[0mimg_gabor_contribution\u001b[0m\u001b[0;34m=\u001b[0m\u001b[0mIMG_LATTICE_COST_GABOR_IMAGE_CONTRIBUTION\u001b[0m\u001b[0;34m,\u001b[0m\u001b[0;34m\u001b[0m\u001b[0m\n\u001b[0;32m---> 17\u001b[0;31m                           img_original_contribution=1.5-IMG_LATTICE_COST_GABOR_IMAGE_CONTRIBUTION)\n\u001b[0m",
      "\u001b[0;32m~/Spring2018/ature/preprocess/algorithms/fast_mst.py\u001b[0m in \u001b[0;36mrun_segmentation\u001b[0;34m(image_object, lattice_object, seed_list, segmentation_threshold, alpha, img_gabor_contribution, img_original_contribution)\u001b[0m\n\u001b[1;32m     31\u001b[0m \u001b[0;34m\u001b[0m\u001b[0m\n\u001b[1;32m     32\u001b[0m     \u001b[0;32mfor\u001b[0m \u001b[0mcomponent\u001b[0m \u001b[0;32min\u001b[0m \u001b[0mnx\u001b[0m\u001b[0;34m.\u001b[0m\u001b[0mconnected_components\u001b[0m\u001b[0;34m(\u001b[0m\u001b[0mgraph\u001b[0m\u001b[0;34m)\u001b[0m\u001b[0;34m:\u001b[0m\u001b[0;34m\u001b[0m\u001b[0m\n\u001b[0;32m---> 33\u001b[0;31m         \u001b[0;32mif\u001b[0m \u001b[0mcomponent\u001b[0m\u001b[0;34m.\u001b[0m\u001b[0misdisjoint\u001b[0m\u001b[0;34m(\u001b[0m\u001b[0mseed_list\u001b[0m\u001b[0;34m)\u001b[0m \u001b[0;32mis\u001b[0m \u001b[0;32mFalse\u001b[0m\u001b[0;34m:\u001b[0m\u001b[0;34m\u001b[0m\u001b[0m\n\u001b[0m\u001b[1;32m     34\u001b[0m             \u001b[0;32mfor\u001b[0m \u001b[0mnode\u001b[0m \u001b[0;32min\u001b[0m \u001b[0mcomponent\u001b[0m\u001b[0;34m:\u001b[0m\u001b[0;34m\u001b[0m\u001b[0m\n\u001b[1;32m     35\u001b[0m                 \u001b[0mlattice_object\u001b[0m\u001b[0;34m.\u001b[0m\u001b[0maccumulator\u001b[0m\u001b[0;34m[\u001b[0m\u001b[0mnode\u001b[0m\u001b[0;34m]\u001b[0m \u001b[0;34m=\u001b[0m \u001b[0;36m255\u001b[0m\u001b[0;34m\u001b[0m\u001b[0m\n",
      "\u001b[0;31mKeyboardInterrupt\u001b[0m: "
     ],
     "output_type": "error"
    }
   ],
   "source": [
    "############# ENTRY POINT HERE ###############\n",
    "############################################\n",
    "print('starting..')\n",
    "SK_THRESHOLD_PARAMS = np.arange(40, 61, 20)\n",
    "ALPHA_PARAMS = np.arange(5, 7, 0.5)\n",
    "GABOR_CONTRIBUTION_PARAMS = np.arange(0.9, 1.4, 0.2)\n",
    "SEGMENTATION_THRESHOLD_PARAMS = np.arange(8, 13, 0.5)\n",
    "\n",
    "PARAMS_ITR = itr.product(SK_THRESHOLD_PARAMS, ALPHA_PARAMS, GABOR_CONTRIBUTION_PARAMS, SEGMENTATION_THRESHOLD_PARAMS)\n",
    "\n",
    "PARAMS_COMBINATION = list(PARAMS_ITR)\n",
    "\n",
    "shuffle(PARAMS_COMBINATION)\n",
    "\n",
    "#### Work on all images in a directory\n",
    "os.chdir(data_file_path)\n",
    "for test_image in os.listdir(os.getcwd()):\n",
    "    \n",
    "    c = count()\n",
    "    next(c)\n",
    "    \n",
    "    print('### WORKING ON: ' + test_image)\n",
    "    ### Load image as array\n",
    "    original = IMG.open(test_image)\n",
    "    original = np.array(original.getdata(), np.uint8).reshape(original.size[1], original.size[0], 3)\n",
    "    \n",
    "    #### Load the corresponding mask as array\n",
    "    os.chdir(mask_path)\n",
    "    mask_file = test_image.split('_')[0] + '_test_mask.gif'\n",
    "    mask = IMG.open(mask_file)\n",
    "    mask = np.array(mask.getdata(), np.uint8).reshape(mask.size[1], mask.size[0], 1)[:,:,0]\n",
    "    print(\"Mask loaded: \" + mask_file)\n",
    "    \n",
    "    ### Dialate mask\n",
    "    dialate_kern = np.array([\n",
    "        [0.0, 0.0, 0.5, 0.0, 0.0],\n",
    "        [0.0, 0.2, 1.0, 0.2, 0.0],\n",
    "        [0.5, 1.0, 1.0, 1.0, 0.5],\n",
    "        [0.0, 0.2, 1.0, 0.2, 0.0],\n",
    "        [0.0, 0.0, 0.5, 0.0, 0.0],\n",
    "    ], np.uint8)\n",
    "    \n",
    "    mask = cv2.erode(mask, dialate_kern, iterations=4)\n",
    "    after_mask = cv2.bitwise_and(original[:,:,1], original[:,:,1], mask=mask)\n",
    "    \n",
    "#     IMG.fromarray(after_mask).show()\n",
    "#     break\n",
    "\n",
    "    img_obj = Image(image_arr=after_mask)\n",
    "    \n",
    "    #### Load ground truth segmented result as array\n",
    "    os.chdir(ground_truth_path)\n",
    "    ground_truth_file = test_image.split('_')[0] + '_manual1.gif'\n",
    "    truth = IMG.open(ground_truth_file)\n",
    "    truth = np.array(truth.getdata(), np.uint8).reshape(truth.size[1], truth.size[0], 1)[:,:,0]\n",
    "    print(\"Ground truth loaded: \" + ground_truth_file)\n",
    "    \n",
    "    \n",
    "    img_obj.apply_bilateral()\n",
    "    img_obj.apply_gabor(kernel_bank=imgutils.get_chosen_gabor_bank())\n",
    "    print('Filter applied.')\n",
    "    \n",
    "#     IMG.fromarray(img_obj.img_gabor).show()\n",
    "#     break\n",
    "    \n",
    "    lattice_obj = Lattice(image_arr_2d=img_obj.img_gabor)\n",
    "    lattice_obj.generate_lattice_graph()\n",
    "    print('Lattice created.')\n",
    "    \n",
    "    os.chdir(log_path)\n",
    "    log_file_name = test_image + \"_result.csv\"\n",
    "    log_file = open(log_file_name,'w')\n",
    "    \n",
    "    ### Write header\n",
    "    log_file.write(\n",
    "    'ITERATION,FSCORE,PRECISION,RECALL,ACCURACY,'\\\n",
    "    'SKELETONIZE_THRESHOLD,'\\\n",
    "    'IMG_LATTICE_COST_ASSIGNMENT_ALPHA,'\\\n",
    "    'IMG_LATTICE_COST_GABOR_IMAGE_CONTRIBUTION,'\\\n",
    "    'SEGMENTATION_THRESHOLD\\n'\n",
    "    )\n",
    "    \n",
    "    for params in PARAMS_COMBINATION:\n",
    "        \n",
    "        i = next(c)\n",
    "        run_segmentation(img_obj, lattice_obj, params)\n",
    "        \n",
    "        precision, recall, accuracy = get_precision_recall_accuracy(lattice_obj.accumulator, truth)\n",
    "        \n",
    "        f1_score = 2 * precision * recall / (precision + recall) \n",
    "     \n",
    "        line = str(i) + ',' + \\\n",
    "                str(round(f1_score, 3)) + ',' + \\\n",
    "                str(round(precision, 3)) + ',' + \\\n",
    "                str(round(recall, 3)) + ',' +\\\n",
    "                str(round(accuracy, 3)) + ',' +\\\n",
    "                ','.join(map(str, params))\n",
    "                        \n",
    "        log_file.write(line + '\\n')\n",
    "        \n",
    "        log_file.flush()\n",
    "        IMG.fromarray(lattice_obj.accumulator).save(test_image + '__[' + line + ']' + '.JPEG')\n",
    "        print('Number of parameter combinations tried: ' + str(i), end='\\r')\n",
    "    \n",
    "    log_file.close()\n",
    "    os.chdir(log_path)\n",
    "    generate_precision_recall_plot(log_file_name)"
   ]
  },
  {
   "cell_type": "code",
   "execution_count": 7,
   "metadata": {},
   "outputs": [
    {
     "ename": "FileNotFoundError",
     "evalue": "[Errno 2] No such file or directory: '/home/akhanal1/Spring2018/ature/logs'",
     "traceback": [
      "\u001b[0;31m---------------------------------------------------------------------------\u001b[0m",
      "\u001b[0;31mFileNotFoundError\u001b[0m                         Traceback (most recent call last)",
      "\u001b[0;32m<ipython-input-7-ccb8ad848a06>\u001b[0m in \u001b[0;36m<module>\u001b[0;34m()\u001b[0m\n\u001b[0;32m----> 1\u001b[0;31m \u001b[0mos\u001b[0m\u001b[0;34m.\u001b[0m\u001b[0mchdir\u001b[0m\u001b[0;34m(\u001b[0m\u001b[0mlog_path\u001b[0m\u001b[0;34m)\u001b[0m\u001b[0;34m\u001b[0m\u001b[0m\n\u001b[0m\u001b[1;32m      2\u001b[0m \u001b[0mlog\u001b[0m \u001b[0;34m=\u001b[0m \u001b[0mnp\u001b[0m\u001b[0;34m.\u001b[0m\u001b[0mloadtxt\u001b[0m\u001b[0;34m(\u001b[0m\u001b[0;34m'01_test.tif_result.csv'\u001b[0m\u001b[0;34m,\u001b[0m \u001b[0mskiprows\u001b[0m\u001b[0;34m=\u001b[0m\u001b[0;36m1\u001b[0m\u001b[0;34m,\u001b[0m \u001b[0mdelimiter\u001b[0m\u001b[0;34m=\u001b[0m\u001b[0;34m','\u001b[0m\u001b[0;34m)\u001b[0m\u001b[0;34m\u001b[0m\u001b[0m\n\u001b[1;32m      3\u001b[0m \u001b[0mplt\u001b[0m\u001b[0;34m.\u001b[0m\u001b[0mtitle\u001b[0m\u001b[0;34m(\u001b[0m\u001b[0;34m'Precision vs Recall plot'\u001b[0m\u001b[0;34m)\u001b[0m\u001b[0;34m\u001b[0m\u001b[0m\n\u001b[1;32m      4\u001b[0m \u001b[0mplt\u001b[0m\u001b[0;34m.\u001b[0m\u001b[0mxlabel\u001b[0m\u001b[0;34m(\u001b[0m\u001b[0;34m'Recall'\u001b[0m\u001b[0;34m)\u001b[0m\u001b[0;34m\u001b[0m\u001b[0m\n\u001b[1;32m      5\u001b[0m \u001b[0mplt\u001b[0m\u001b[0;34m.\u001b[0m\u001b[0mylabel\u001b[0m\u001b[0;34m(\u001b[0m\u001b[0;34m'Precision'\u001b[0m\u001b[0;34m)\u001b[0m\u001b[0;34m\u001b[0m\u001b[0m\n",
      "\u001b[0;31mFileNotFoundError\u001b[0m: [Errno 2] No such file or directory: '/home/akhanal1/Spring2018/ature/logs'"
     ],
     "output_type": "error"
    }
   ],
   "source": [
    "os.chdir(log_path)\n",
    "log = np.loadtxt('01_test.tif_result.csv', skiprows=1, delimiter=',')\n",
    "plt.title('Precision vs Recall plot')\n",
    "plt.xlabel('Recall')\n",
    "plt.ylabel('Precision')\n",
    "plt.scatter(log[:,2], log[:,3], label='Recall')\n",
    "plt.xlim((0,1))\n",
    "plt.ylim((0,1))\n",
    "plt.savefig('01_test.tif_result.csv' + '.png')\n"
   ]
  },
  {
   "cell_type": "code",
   "execution_count": 21,
   "metadata": {},
   "outputs": [
    {
     "ename": "SyntaxError",
     "evalue": "invalid syntax (<ipython-input-21-0975c8db82c9>, line 1)",
     "traceback": [
      "\u001b[0;36m  File \u001b[0;32m\"<ipython-input-21-0975c8db82c9>\"\u001b[0;36m, line \u001b[0;32m1\u001b[0m\n\u001b[0;31m    | = a\u001b[0m\n\u001b[0m    ^\u001b[0m\n\u001b[0;31mSyntaxError\u001b[0m\u001b[0;31m:\u001b[0m invalid syntax\n"
     ],
     "output_type": "error"
    }
   ],
   "source": [
    "| = a"
   ]
  },
  {
   "cell_type": "code",
   "execution_count": null,
   "metadata": {},
   "outputs": [],
   "source": []
  }
 ],
 "metadata": {
  "kernelspec": {
   "display_name": "ature_env",
   "language": "python",
   "name": "pl-env"
  },
  "language_info": {
   "codemirror_mode": {
    "name": "ipython",
    "version": 3
   },
   "file_extension": ".py",
   "mimetype": "text/x-python",
   "name": "python",
   "nbconvert_exporter": "python",
   "pygments_lexer": "ipython3",
   "version": "3.5.2"
  }
 },
 "nbformat": 4,
 "nbformat_minor": 2
}
