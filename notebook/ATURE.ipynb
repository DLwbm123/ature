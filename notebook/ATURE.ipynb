{
 "cells": [
  {
   "cell_type": "code",
   "execution_count": null,
   "metadata": {},
   "outputs": [],
   "source": [
    "import os\n",
    "\n",
    "### CHANGE path HERE\n",
    "base_path_win = \"C:\\\\Projects\\\\ature\\\\\" # WINDOWS\n",
    "base_path_lin = \"/home/akhanal1/Spring2018/ature\" # LINUX"
   ]
  },
  {
   "cell_type": "code",
   "execution_count": null,
   "metadata": {},
   "outputs": [],
   "source": [
    "if os.name == 'nt':\n",
    "    base_path = base_path_win\n",
    "else:\n",
    "    base_path = base_path_lin\n",
    "\n",
    "sep = os.sep\n",
    "data_file_path = base_path + sep + 'data' + sep + 'DRIVE' + sep + 'test' + sep + 'images'\n",
    "# data_file_path = base_path + sep + 'data' + sep + 'av_wide_data_set'\n",
    "\n",
    "mask_path = base_path + sep + 'data' + sep + 'DRIVE' + sep + 'test' + sep + 'mask'\n",
    "ground_truth_path = base_path + sep + 'data' + sep + 'DRIVE' + sep + 'test' + sep + '1st_manual'\n",
    "  \n",
    "os.chdir(base_path)\n",
    "\n",
    "from commons.IMAGE import Image\n",
    "from commons.ImgLATTICE import Lattice\n",
    "import preprocess.utils.img_utils as imgutils\n",
    "from commons.MAT import Mat\n",
    "from PIL import Image as IMG\n",
    "import numpy as np\n",
    "from commons import constants as const\n",
    "import cv2\n",
    "from preprocess.algorithms import fast_mst as fmst\n",
    "import itertools as itr\n",
    "from itertools import count\n",
    "import matplotlib.pyplot as plt\n",
    "from random import shuffle\n",
    "from testing.segmentation_test import AtureTest, AtureTestErode, AtureTestMat, AtureTestMatErode"
   ]
  },
  {
   "cell_type": "code",
   "execution_count": null,
   "metadata": {},
   "outputs": [],
   "source": [
    "%load_ext autoreload\n",
    "%autoreload 2\n",
    "\n",
    "def get_mask_file(file_name): return file_name.split('_')[0] + '_test_mask.gif'\n",
    "def get_ground_truth_file(file_name): return file_name.split('_')[0] + '_manual1.gif'"
   ]
  },
  {
   "cell_type": "code",
   "execution_count": null,
   "metadata": {},
   "outputs": [],
   "source": [
    "############# Run for all images in data dir ###############\n",
    "############################################\n",
    "SK_THRESHOLD_PARAMS = np.arange(40, 61, 20)\n",
    "ALPHA_PARAMS = np.arange(5, 7, 0.5)\n",
    "GABOR_CONTRIBUTION_PARAMS = np.arange(0.9, 1.4, 0.2)\n",
    "SEGMENTATION_THRESHOLD_PARAMS = np.arange(8, 15, 0.5)\n",
    "\n",
    "PARAMS_ITR = itr.product(SK_THRESHOLD_PARAMS, ALPHA_PARAMS, GABOR_CONTRIBUTION_PARAMS, SEGMENTATION_THRESHOLD_PARAMS)\n",
    "\n",
    "PARAMS_COMBINATION = list(PARAMS_ITR)\n",
    "\n",
    "shuffle(PARAMS_COMBINATION)\n",
    "\n",
    "tester = AtureTest(data_path=data_file_path)\n",
    "tester.load_mask(mask_path=mask_path, fget_mask_file=get_mask_file)\n",
    "tester.load_ground_truth(ground_truth_path=ground_truth_path, fget_ground_truth_file=get_ground_truth_file)\n",
    "# tester.run_for_all_images(params_combination=PARAMS_COMBINATION)"
   ]
  },
  {
   "cell_type": "code",
   "execution_count": null,
   "metadata": {},
   "outputs": [],
   "source": [
    "params = {'sk_threshold':60,   \n",
    "          'alpha':5.0, \n",
    "          'gabor_contrib':1.3,  \n",
    "          'seg_threshold':10.5}"
   ]
  },
  {
   "cell_type": "code",
   "execution_count": null,
   "metadata": {},
   "outputs": [],
   "source": [
    "############# Run for images in data dir ###############\n",
    "############################################\n",
    "tester = AtureTestErode(data_path=data_file_path)\n",
    "tester.load_mask(mask_path=mask_path, fget_mask_file=get_mask_file)\n",
    "tester.load_ground_truth(ground_truth_path=ground_truth_path, fget_ground_truth_file=get_ground_truth_file)\n",
    "tester.run_for_one_image(test_file_name='01_test.tif', params=params)"
   ]
  },
  {
   "cell_type": "code",
   "execution_count": null,
   "metadata": {},
   "outputs": [],
   "source": []
  },
  {
   "cell_type": "code",
   "execution_count": null,
   "metadata": {},
   "outputs": [],
   "source": [
    "############# Run for mat files in av_wide_data_set dir ###############\n",
    "############################################\n",
    "tester = AtureTestMat(data_path=data_file_path)\n",
    "tester.load_mask(mask_path=mask_path, fget_mask_file=get_mask_file)\n",
    "tester.load_ground_truth(ground_truth_path=ground_truth_path, fget_ground_truth_file=get_ground_truth_file)\n",
    "# tester.run_for_one_image(test_file_name='wide_image_03.mat', params=params)"
   ]
  },
  {
   "cell_type": "code",
   "execution_count": null,
   "metadata": {},
   "outputs": [],
   "source": [
    "####"
   ]
  }
 ],
 "metadata": {
  "kernelspec": {
   "display_name": "ature_env",
   "language": "python",
   "name": "ature_env"
  },
  "language_info": {
   "codemirror_mode": {
    "name": "ipython",
    "version": 3
   },
   "file_extension": ".py",
   "mimetype": "text/x-python",
   "name": "python",
   "nbconvert_exporter": "python",
   "pygments_lexer": "ipython3",
   "version": "3.6.2"
  }
 },
 "nbformat": 4,
 "nbformat_minor": 2
}
