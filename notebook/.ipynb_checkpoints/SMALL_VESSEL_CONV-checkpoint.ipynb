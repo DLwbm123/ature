{
 "cells": [
  {
   "cell_type": "code",
   "execution_count": 4,
   "metadata": {},
   "outputs": [
    {
     "name": "stdout",
     "output_type": "stream",
     "text": [
      "The autoreload extension is already loaded. To reload it, use:\n",
      "  %reload_ext autoreload\n"
     ]
    }
   ],
   "source": [
    "base_dir = 'C:\\\\Projects\\\\ature'\n",
    "import os\n",
    "os.chdir(base_dir) #BASE DIRECTORY\n",
    "import numpy as np\n",
    "from commons.IMAGE import Image\n",
    "import preprocess.utils.img_utils as imgutil\n",
    "import PIL.Image as IMG\n",
    "%load_ext autoreload\n",
    "%autoreload 2"
   ]
  },
  {
   "cell_type": "code",
   "execution_count": 5,
   "metadata": {},
   "outputs": [],
   "source": [
    "### DRIVE dataset path setup #####\n",
    "data_file_path = 'data\\\\DRIVE\\\\test\\\\images'\n",
    "mask_path = 'data\\\\DRIVE\\\\test\\\\mask'\n",
    "ground_truth_path = 'data\\\\DRIVE\\\\test\\\\1st_manual'\n",
    "segmented_file_path = 'data\\\\DRIVE\\\\drive_segmented'\n",
    "\n",
    "def get_mask_file(file_name): \n",
    "    return file_name.split('_')[0] + '_test_mask.gif'\n",
    "\n",
    "def get_ground_truth_file(file_name): \n",
    "    return file_name.split('_')[0] + '_manual1.gif'\n",
    "\n",
    "def get_segmented_file(file_name):\n",
    "    return file_name + '.PNG'\n",
    "\n",
    "input_image = '05_test.tif'"
   ]
  },
  {
   "cell_type": "code",
   "execution_count": 6,
   "metadata": {},
   "outputs": [
    {
     "name": "stdout",
     "output_type": "stream",
     "text": [
      "Mask loaded: 05_test_mask.gif\n",
      "Ground truth loaded: 05_manual1.gif\n"
     ]
    }
   ],
   "source": [
    "img_obj = Image()\n",
    "\n",
    "img_obj.load_file(data_dir=data_file_path, file_name=input_image)\n",
    "img_obj.load_mask(mask_dir=mask_path, fget_mask=get_mask_file, erode=True)\n",
    "img_obj.load_ground_truth(gt_dir=ground_truth_path, fget_ground_truth=get_ground_truth_file)\n",
    "\n",
    "segmented = IMG.open(os.path.join(segmented_file_path, get_segmented_file(input_image)))\n",
    "img_obj.res['segmented'] = np.array(segmented.getdata(), np.uint8).reshape(segmented.size[1], segmented.size[0], 1)[:, :, 0]\n",
    "\n",
    "img_obj.working_arr = img_obj.image_arr[:, :, 1]"
   ]
  },
  {
   "cell_type": "code",
   "execution_count": 7,
   "metadata": {},
   "outputs": [],
   "source": [
    "def get_lable(i , j, arr_2d, truth):\n",
    "    if arr_2d[i, j] == 255 and truth[i, j] == 255:\n",
    "        return 'w'\n",
    "    if arr_2d[i, j] == 255 and truth[i, j] == 0:\n",
    "        return 'g'\n",
    "    if arr_2d[i, j] == 0 and truth[i, j] == 255:\n",
    "        return 'r'\n",
    "    if arr_2d[i, j] == 0 and truth[i, j] == 0:\n",
    "        return 'b'"
   ]
  },
  {
   "cell_type": "code",
   "execution_count": 14,
   "metadata": {},
   "outputs": [
    {
     "ename": "KeyboardInterrupt",
     "evalue": "",
     "output_type": "error",
     "traceback": [
      "\u001b[1;31m---------------------------------------------------------------------------\u001b[0m",
      "\u001b[1;31mKeyboardInterrupt\u001b[0m                         Traceback (most recent call last)",
      "\u001b[1;32m<ipython-input-14-490abd68ca66>\u001b[0m in \u001b[0;36m<module>\u001b[1;34m()\u001b[0m\n\u001b[0;32m     29\u001b[0m                             \u001b[0mpatch_exceeds_mask\u001b[0m \u001b[1;33m=\u001b[0m \u001b[1;32mTrue\u001b[0m\u001b[1;33m\u001b[0m\u001b[0m\n\u001b[0;32m     30\u001b[0m \u001b[1;33m\u001b[0m\u001b[0m\n\u001b[1;32m---> 31\u001b[1;33m                         \u001b[0mpatch\u001b[0m\u001b[1;33m[\u001b[0m\u001b[0mk_half\u001b[0m \u001b[1;33m+\u001b[0m \u001b[0mk\u001b[0m\u001b[1;33m,\u001b[0m \u001b[0mk_half\u001b[0m \u001b[1;33m+\u001b[0m \u001b[0ml\u001b[0m\u001b[1;33m]\u001b[0m \u001b[1;33m=\u001b[0m \u001b[0mimg\u001b[0m\u001b[1;33m[\u001b[0m\u001b[0mpatch_i\u001b[0m\u001b[1;33m,\u001b[0m \u001b[0mpatch_j\u001b[0m\u001b[1;33m]\u001b[0m\u001b[1;33m\u001b[0m\u001b[0m\n\u001b[0m\u001b[0;32m     32\u001b[0m \u001b[1;33m\u001b[0m\u001b[0m\n\u001b[0;32m     33\u001b[0m         \u001b[1;32mif\u001b[0m \u001b[1;32mnot\u001b[0m \u001b[0mpatch_exceeds_mask\u001b[0m\u001b[1;33m:\u001b[0m\u001b[1;33m\u001b[0m\u001b[0m\n",
      "\u001b[1;31mKeyboardInterrupt\u001b[0m: "
     ]
    }
   ],
   "source": [
    "base_out = os.path.join('out', 'patches')\n",
    "out_dir = os.path.join(base_out, img_obj.file_name.split('.')[0])\n",
    "if os.path.isdir(out_dir) is False:\n",
    "    os.mkdir(out_dir)\n",
    "\n",
    "os.chdir(out_dir)\n",
    "\n",
    "img = img_obj.working_arr.copy()\n",
    "k_size = 51\n",
    "k_half = 25\n",
    "for i in range(img.shape[0]):\n",
    "    for j in range(img.shape[1]):\n",
    "        \n",
    "        patch = np.full((k_size,k_size), 0, dtype=np.uint8)\n",
    "        patch_exceeds_mask = False\n",
    "        \n",
    "        for k in range(-k_half, k_half+1, 1):\n",
    "             for l in range(-k_half, k_half+1, 1):\n",
    "                    \n",
    "                    if patch_exceeds_mask:\n",
    "                        continue\n",
    "                    \n",
    "                    patch_i = i + k\n",
    "                    patch_j = j + l\n",
    "                    \n",
    "                    if patch_i >= 0 and patch_j >= 0 and patch_i < img.shape[0] and patch_j < img.shape[1]:\n",
    "                        \n",
    "                        if img_obj.mask[patch_i, patch_j] == 0:\n",
    "                            patch_exceeds_mask = True\n",
    "                        \n",
    "                        patch[k_half + k, k_half + l] = img[patch_i, patch_j]\n",
    "                        \n",
    "        if not patch_exceeds_mask:\n",
    "            IMG.fromarray(patch).save(str(i) + '_' + str(j) + '_' + get_lable(i , j, img_obj.res['segmented'], img_obj.ground_truth) +  '.PNG')"
   ]
  },
  {
   "cell_type": "code",
   "execution_count": 81,
   "metadata": {},
   "outputs": [
    {
     "data": {
      "image/png": "[encoded data removed]",
      "text/plain": [
       "<PIL.Image.Image image mode=L size=565x584 at 0x1A225CC2B00>"
      ]
     },
     "execution_count": 81,
     "metadata": {},
     "output_type": "execute_result"
    }
   ],
   "source": [
    "IMG.fromarray(img_obj.res['segmented'])"
   ]
  },
  {
   "cell_type": "code",
   "execution_count": null,
   "metadata": {},
   "outputs": [],
   "source": []
  }
 ],
 "metadata": {
  "kernelspec": {
   "display_name": "ature_env",
   "language": "python",
   "name": "ature_env"
  },
  "language_info": {
   "codemirror_mode": {
    "name": "ipython",
    "version": 3
   },
   "file_extension": ".py",
   "mimetype": "text/x-python",
   "name": "python",
   "nbconvert_exporter": "python",
   "pygments_lexer": "ipython3",
   "version": "3.6.2"
  }
 },
 "nbformat": 4,
 "nbformat_minor": 2
}
