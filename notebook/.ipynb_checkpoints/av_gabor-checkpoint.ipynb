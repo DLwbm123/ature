{
 "cells": [
  {
   "cell_type": "code",
   "execution_count": 6,
   "metadata": {},
   "outputs": [],
   "source": [
    "import os\n",
    "\n",
    "base_path = \"C:\\\\Projects\\\\ature\" # WINDOWS\n",
    "# base_path = \"home/ak/Projects/ature/\" # LINUX\n",
    "\n",
    "data_file_path = base_path + \"\\\\data\\\\DRIVE\\\\test\\\\images\"\n",
    "out_path = base_path + \"\\\\out\\\\out_new\"\n",
    "    \n",
    "os.chdir(base_path)\n",
    "\n",
    "from commons.IMAGE import Image\n",
    "from commons.accumulator import Accumulator\n",
    "import preprocess.utils.img_utils as imgutils\n",
    "import preprocess.utils.filter_utils as fu\n",
    "from commons.MAT import Mat\n",
    "from PIL import Image as IMG\n",
    "import numpy as np\n",
    "from commons import constants as const\n",
    "import cv2\n",
    "from preprocess.algorithms import fast_mst as fmst"
   ]
  },
  {
   "cell_type": "code",
   "execution_count": 7,
   "metadata": {},
   "outputs": [],
   "source": [
    "# file = Mat(file_name=data_file_path+'19_test.tif')\n",
    "# original = file.get_image('I2')[:,:,1]"
   ]
  },
  {
   "cell_type": "code",
   "execution_count": 8,
   "metadata": {},
   "outputs": [],
   "source": [
    "original = IMG.open(data_file_path +'\\\\19_test.tif')\n",
    "original = np.array(original.getdata(), np.uint8).reshape(original.size[1], original.size[0], 3)[:,:,1]\n",
    "# os.chdir('D:\\\\idea projects\\\\pycharm projects\\\\ature\\\\data\\\\training\\\\mask\\\\')\n",
    "# mask = IMG.open('21_training_mask.gif')\n",
    "# mask = np.array(mask.getdata(), np.uint8).reshape(mask.size[1], mask.size[0])"
   ]
  },
  {
   "cell_type": "code",
   "execution_count": 9,
   "metadata": {},
   "outputs": [],
   "source": [
    "img = Image(image_arr=original)"
   ]
  },
  {
   "cell_type": "code",
   "execution_count": 10,
   "metadata": {},
   "outputs": [],
   "source": [
    "# IMG.fromarray(img.img_array)"
   ]
  },
  {
   "cell_type": "code",
   "execution_count": 11,
   "metadata": {},
   "outputs": [],
   "source": [
    "img.apply_bilateral()"
   ]
  },
  {
   "cell_type": "code",
   "execution_count": 12,
   "metadata": {},
   "outputs": [],
   "source": [
    "# IMG.fromarray(img.diff_bilateral)"
   ]
  },
  {
   "cell_type": "code",
   "execution_count": 13,
   "metadata": {},
   "outputs": [],
   "source": [
    "img.apply_gabor(kernel_bank= fu.get_chosen_gabor_bank())"
   ]
  },
  {
   "cell_type": "code",
   "execution_count": 14,
   "metadata": {},
   "outputs": [],
   "source": [
    "# IMG.fromarray(img.img_gabor)"
   ]
  },
  {
   "cell_type": "code",
   "execution_count": 15,
   "metadata": {},
   "outputs": [],
   "source": [
    "img.create_skeleton(kernels=fu.get_chosen_skeleton_filter(),threshold=100)"
   ]
  },
  {
   "cell_type": "code",
   "execution_count": 16,
   "metadata": {},
   "outputs": [],
   "source": [
    "# IMG.fromarray(255-img.img_skeleton)"
   ]
  },
  {
   "cell_type": "code",
   "execution_count": 17,
   "metadata": {
    "scrolled": false
   },
   "outputs": [],
   "source": [
    "seed_node_list = fu.get_seed_node_list(img.img_skeleton)"
   ]
  },
  {
   "cell_type": "code",
   "execution_count": 18,
   "metadata": {},
   "outputs": [],
   "source": [
    "accumulator = Accumulator(img_obj=img)"
   ]
  },
  {
   "cell_type": "code",
   "execution_count": 19,
   "metadata": {},
   "outputs": [],
   "source": [
    "img.generate_lattice_graph(eight_connected=False)"
   ]
  },
  {
   "cell_type": "code",
   "execution_count": 21,
   "metadata": {},
   "outputs": [
    {
     "data": {
      "text/plain": [
       "<networkx.classes.graph.Graph at 0x1fdf4fb6f60>"
      ]
     },
     "execution_count": 21,
     "metadata": {},
     "output_type": "execute_result"
    }
   ],
   "source": [
    "fmst.run_segmentation(accumulator=accumulator,\n",
    "                              seed_list=seed_node_list,\n",
    "                              segmentation_threshold=7.5,\n",
    "                              alpha=5,\n",
    "                              img_gabor_contribution=0.8,\n",
    "                              img_original_contribution=0.2)"
   ]
  },
  {
   "cell_type": "code",
   "execution_count": 23,
   "metadata": {},
   "outputs": [],
   "source": [
    "# IMG.fromarray(accumulator.accumulator)"
   ]
  },
  {
   "cell_type": "code",
   "execution_count": null,
   "metadata": {},
   "outputs": [],
   "source": []
  }
 ],
 "metadata": {
  "kernelspec": {
   "display_name": "ature_env",
   "language": "python",
   "name": "ature_env"
  },
  "language_info": {
   "codemirror_mode": {
    "name": "ipython",
    "version": 3
   },
   "file_extension": ".py",
   "mimetype": "text/x-python",
   "name": "python",
   "nbconvert_exporter": "python",
   "pygments_lexer": "ipython3",
   "version": "3.6.2"
  }
 },
 "nbformat": 4,
 "nbformat_minor": 2
}
