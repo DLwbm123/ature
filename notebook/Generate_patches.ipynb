{
 "cells": [
  {
   "cell_type": "code",
   "execution_count": 1,
   "metadata": {},
   "outputs": [],
   "source": [
    "base_dir = 'C:\\\\Projects\\\\ature'\n",
    "import os\n",
    "os.chdir(base_dir) #BASE DIRECTORY\n",
    "import numpy as np\n",
    "from commons.IMAGE import Image\n",
    "import utils.img_utils as imgutil\n",
    "import PIL.Image as IMG\n",
    "import neuralnet.utils.data_utils as nndutil\n",
    "%load_ext autoreload\n",
    "%autoreload 2"
   ]
  },
  {
   "cell_type": "code",
   "execution_count": 2,
   "metadata": {},
   "outputs": [],
   "source": [
    "### DRIVE dataset path setup #####\n",
    "data_file_path = 'data\\\\DRIVE\\\\test\\\\images'\n",
    "mask_path = 'data\\\\DRIVE\\\\test\\\\mask'\n",
    "ground_truth_path = 'data\\\\DRIVE\\\\test\\\\1st_manual'\n",
    "segmented_file_path = 'data\\\\DRIVE\\\\drive_segmented'\n",
    "\n",
    "def get_mask_file(file_name): \n",
    "    return file_name.split('_')[0] + '_test_mask.gif'\n",
    "\n",
    "def get_ground_truth_file(file_name): \n",
    "    return file_name.split('_')[0] + '_manual1.gif'\n",
    "\n",
    "def get_segmented_file(file_name):\n",
    "    return file_name + '.PNG'\n",
    "\n",
    "input_image = '05_test.tif'"
   ]
  },
  {
   "cell_type": "code",
   "execution_count": 5,
   "metadata": {},
   "outputs": [
    {
     "name": "stdout",
     "output_type": "stream",
     "text": [
      "Mask loaded: 05_test_mask.gif\n",
      "Ground truth loaded: 05_manual1.gif\n"
     ]
    }
   ],
   "source": [
    "img_obj = Image()\n",
    "\n",
    "img_obj.load_file(data_dir=data_file_path, file_name=input_image)\n",
    "img_obj.load_mask(mask_dir=mask_path, fget_mask=get_mask_file, erode=True)\n",
    "img_obj.load_ground_truth(gt_dir=ground_truth_path, fget_ground_truth=get_ground_truth_file)\n",
    "\n",
    "segmented = IMG.open(os.path.join(segmented_file_path, get_segmented_file(input_image)))\n",
    "img_obj.res['segmented'] = np.array(segmented.getdata(), np.uint8).reshape(segmented.size[1], segmented.size[0], 1)[:, :, 0]\n",
    "\n",
    "img_obj.working_arr = img_obj.image_arr[:, :, 1]"
   ]
  },
  {
   "cell_type": "code",
   "execution_count": null,
   "metadata": {},
   "outputs": [],
   "source": [
    "nndutil.generate_patches(base_path='data\\\\DRIVE\\\\patches', img_obj=img_obj)"
   ]
  },
  {
   "cell_type": "code",
   "execution_count": null,
   "metadata": {},
   "outputs": [
    {
     "data": {
      "text/plain": [
       "'C:\\\\Projects\\\\ature\\\\out\\\\patches\\\\05_test'"
      ]
     },
     "execution_count": 11,
     "metadata": {},
     "output_type": "execute_result"
    }
   ],
   "source": [
    ""
   ]
  },
  {
   "cell_type": "code",
   "execution_count": null,
   "metadata": {},
   "outputs": [],
   "source": []
  }
 ],
 "metadata": {
  "kernelspec": {
   "display_name": "ature_env",
   "language": "python",
   "name": "ature_env"
  },
  "language_info": {
   "codemirror_mode": {
    "name": "ipython",
    "version": 3
   },
   "file_extension": ".py",
   "mimetype": "text/x-python",
   "name": "python",
   "nbconvert_exporter": "python",
   "pygments_lexer": "ipython3",
   "version": "3.6.2"
  }
 },
 "nbformat": 4,
 "nbformat_minor": 2
}
