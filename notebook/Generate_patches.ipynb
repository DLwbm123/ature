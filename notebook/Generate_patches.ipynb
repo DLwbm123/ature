{
 "cells": [
  {
   "cell_type": "code",
   "execution_count": 2,
   "metadata": {},
   "outputs": [],
   "source": [
    "import os\n",
    "os.chdir('/home/ak/Spring2018/ature') #BASE DIRECTORY\n",
    "import numpy as np\n",
    "from commons.IMAGE import Image\n",
    "import utils.img_utils as imgutil\n",
    "import PIL.Image as IMG\n",
    "import neuralnet.utils.data_utils as nndutil\n",
    "%load_ext autoreload\n",
    "%autoreload 2\n",
    "sep = os.sep"
   ]
  },
  {
   "cell_type": "code",
   "execution_count": null,
   "metadata": {},
   "outputs": [],
   "source": [
    "### DRIVE dataset path setup #####\n",
    "Dirs = {}\n",
    "\n",
    "Dirs['data']      = 'data'+sep+'DRIVE'+sep+'training'\n",
    "\n",
    "Dirs['images']    = Dirs['data'] +sep+ 'images'\n",
    "Dirs['mask']      = Dirs['data'] +sep+ 'mask'\n",
    "Dirs['truth']     = Dirs['data'] +sep+ '1st_manual'\n",
    "Dirs['segmented'] = Dirs['data'] +sep+ 'drive_segmented'\n",
    "Dirs['patches']   = Dirs['data'] +sep+ 'patches'\n",
    "\n",
    "for k, folder in Dirs.items():\n",
    "    os.makedirs(folder, exist_ok=True)\n",
    "\n",
    "    \n",
    "def get_mask_file(file_name): \n",
    "    return file_name.split('_')[0] + '_test_mask.gif'\n",
    "\n",
    "def get_ground_truth_file(file_name): \n",
    "    return file_name.split('_')[0] + '_manual1.gif'\n",
    "\n",
    "def get_segmented_file(file_name):\n",
    "    return file_name + '_SEG.PNG'\n",
    "\n",
    "# input_image = '05_test.tif'"
   ]
  },
  {
   "cell_type": "code",
   "execution_count": null,
   "metadata": {},
   "outputs": [],
   "source": [
    "for input_image in os.listdir(Dirs['images']):\n",
    "    \n",
    "    img_obj = Image()\n",
    "\n",
    "    img_obj.load_file(data_dir=Dirs['images'], file_name=input_image)\n",
    "    img_obj.load_mask(mask_dir=Dirs['mask'], fget_mask=get_mask_file, erode=True)\n",
    "    img_obj.load_ground_truth(gt_dir=Dirs['truth'], fget_ground_truth=get_ground_truth_file)\n",
    "    segmented_file = os.path.join(Dirs['segmented'], get_segmented_file(input_image))\n",
    "    img_obj.res['segmented'] = imgutil.get_image_as_array(segmented_file, channels=1)\n",
    "\n",
    "    img_obj.working_arr = img_obj.image_arr[:, :, 1]\n",
    "    img_obj.working_arr = imgutil.whiten_image2d(img_obj.working_arr)\n",
    "    nndutil.generate_patches(base_path=Dirs['patches'], img_obj=img_obj, save_images=False)"
   ]
  },
  {
   "cell_type": "code",
   "execution_count": null,
   "metadata": {},
   "outputs": [],
   "source": []
  },
  {
   "cell_type": "code",
   "execution_count": null,
   "metadata": {},
   "outputs": [],
   "source": []
  }
 ],
 "metadata": {
  "kernelspec": {
   "display_name": "ature_env",
   "language": "python",
   "name": "ature_env"
  },
  "language_info": {
   "codemirror_mode": {
    "name": "ipython",
    "version": 3
   },
   "file_extension": ".py",
   "mimetype": "text/x-python",
   "name": "python",
   "nbconvert_exporter": "python",
   "pygments_lexer": "ipython3",
   "version": "3.5.2"
  }
 },
 "nbformat": 4,
 "nbformat_minor": 2
}
