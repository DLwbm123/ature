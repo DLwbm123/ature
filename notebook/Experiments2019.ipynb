{
 "cells": [
  {
   "cell_type": "code",
   "execution_count": 32,
   "metadata": {},
   "outputs": [],
   "source": [
    "import pandas as pd\n",
    "import os, glob"
   ]
  },
  {
   "cell_type": "code",
   "execution_count": 78,
   "metadata": {},
   "outputs": [
    {
     "name": "stdout",
     "output_type": "stream",
     "text": [
      "0UNET-WIDE-TEST.csv\n",
      "10UNET-WIDE-TEST.csv\n",
      "15UNET-WIDE-TEST.csv\n",
      "20UNET-WIDE-TEST.csv\n",
      "25UNET-WIDE-TEST.csv\n",
      "5UNET-WIDE-TEST.csv\n"
     ]
    }
   ],
   "source": [
    "path = 'C:\\\\Work\\\\ature\\\\data\\\\AV-WIDE\\\\UNET_LOGS\\\\'\n",
    "files = [f for f in os.listdir(path) if '-TEST.csv' in f]\n",
    "gl = glob.glob(os.path.join(path, \"*-TEST.csv\"))\n",
    "for f in gl:\n",
    "    print(f.split('\\\\')[-1])"
   ]
  },
  {
   "cell_type": "code",
   "execution_count": 79,
   "metadata": {},
   "outputs": [
    {
     "name": "stdout",
     "output_type": "stream",
     "text": [
      "(30, 5)\n"
     ]
    }
   ],
   "source": [
    " df = pd.concat(map(pd.read_csv, gl))\n",
    "print(df.shape)"
   ]
  },
  {
   "cell_type": "code",
   "execution_count": 91,
   "metadata": {},
   "outputs": [
    {
     "name": "stdout",
     "output_type": "stream",
     "text": [
      "30 {'wide_image_17.png', 'wide_image_30.png', 'wide_image_07.png', 'wide_image_20.png', 'wide_image_25.png', 'wide_image_15.png', 'wide_image_29.png', 'wide_image_10.png', 'wide_image_04.png', 'wide_image_02.png', 'wide_image_28.png', 'wide_image_16.png', 'wide_image_09.png', 'wide_image_18.png', 'wide_image_21.png', 'wide_image_01.png', 'wide_image_14.png', 'wide_image_27.png', 'wide_image_06.png', 'wide_image_05.png', 'wide_image_12.png', 'wide_image_19.png', 'wide_image_22.png', 'wide_image_08.png', 'wide_image_23.png', 'wide_image_13.png', 'wide_image_26.png', 'wide_image_24.png', 'wide_image_11.png', 'wide_image_03.png'}\n"
     ]
    }
   ],
   "source": [
    " df = pd.concat(map(pd.read_csv, gl))\n",
    "images = set(df['ID'].values)\n",
    "print(len(images), images)"
   ]
  },
  {
   "cell_type": "code",
   "execution_count": 92,
   "metadata": {},
   "outputs": [
    {
     "data": {
      "text/plain": [
       "ID                NaN\n",
       "PRECISION    0.815418\n",
       "RECALL       0.775198\n",
       "F1           0.793517\n",
       "ACCURACY     0.974287\n",
       "dtype: float64"
      ]
     },
     "execution_count": 92,
     "metadata": {},
     "output_type": "execute_result"
    }
   ],
   "source": [
    "df.mean()"
   ]
  },
  {
   "cell_type": "code",
   "execution_count": null,
   "metadata": {},
   "outputs": [],
   "source": []
  },
  {
   "cell_type": "code",
   "execution_count": null,
   "metadata": {},
   "outputs": [],
   "source": []
  }
 ],
 "metadata": {
  "kernelspec": {
   "display_name": "Python 3",
   "language": "python",
   "name": "python3"
  },
  "language_info": {
   "codemirror_mode": {
    "name": "ipython",
    "version": 3
   },
   "file_extension": ".py",
   "mimetype": "text/x-python",
   "name": "python",
   "nbconvert_exporter": "python",
   "pygments_lexer": "ipython3",
   "version": "3.7.2"
  }
 },
 "nbformat": 4,
 "nbformat_minor": 2
}
