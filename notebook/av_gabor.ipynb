{
 "cells": [
  {
   "cell_type": "code",
   "execution_count": null,
   "metadata": {},
   "outputs": [],
   "source": [
    "import os\n",
    "\n",
    "os.chdir('/home/akhanal1/Spring2018/ature')\n",
    "import sys\n",
    "import path_config as pth\n",
    "import numpy as np\n",
    "import itertools as itr\n",
    "from random import shuffle\n",
    "from commons.IMAGE import Image\n",
    "from commons.ImgLATTICE import Lattice\n",
    "import preprocess.utils.img_utils as imgutils\n",
    "from commons.MAT import Mat\n",
    "from PIL import Image as IMG\n",
    "from commons import constants as const\n",
    "import cv2\n",
    "from preprocess.algorithms import fast_mst as fmst\n",
    "\n",
    "sep = os.sep\n",
    "data_file_path = pth.DATA_PATH + sep + 'DRIVE' + sep + 'test' + sep + 'images'\n",
    "av_data = pth.DATA_PATH + sep + 'av_wide_data_set'\n",
    "\n",
    "mask_path = pth.DATA_PATH + sep + 'DRIVE' + sep + 'test' + sep + 'mask'\n",
    "ground_truth_path = pth.DATA_PATH + sep + 'DRIVE' + sep + 'test' + sep + '1st_manual'"
   ]
  },
  {
   "cell_type": "code",
   "execution_count": null,
   "metadata": {},
   "outputs": [],
   "source": [
    "# file = Mat(file_name=data_file_path+'\\\\wide_image_04.mat')\n",
    "# original = file.get_image('I2')[:,:,1]"
   ]
  },
  {
   "cell_type": "code",
   "execution_count": null,
   "metadata": {},
   "outputs": [],
   "source": [
    "os.chdir(data_file_path)\n",
    "original = IMG.open('19_test.tif')\n",
    "original = np.array(original.getdata(), np.uint8).reshape(original.size[1], original.size[0], 3)[:,:,1]\n",
    "os.chdir(mask_path)\n",
    "mask = IMG.open('19_test_mask.gif')\n",
    "mask = np.array(mask.getdata(), np.uint8).reshape(mask.size[1], mask.size[0])"
   ]
  },
  {
   "cell_type": "code",
   "execution_count": null,
   "metadata": {},
   "outputs": [],
   "source": [
    "imgutils.histogram(original)\n",
    "org1 = np.copy(original)\n",
    "mask1 = np.copy(original)\n",
    "mask1[mask1>20]=255"
   ]
  },
  {
   "cell_type": "code",
   "execution_count": null,
   "metadata": {},
   "outputs": [],
   "source": [
    "# original = cv2.dilate(original, np.ones((5,5)), iterations=5)\n",
    "use_this = cv2.bitwise_and(org1, org1, mask=mask)\n",
    "IMG.fromarray(original)"
   ]
  },
  {
   "cell_type": "code",
   "execution_count": null,
   "metadata": {},
   "outputs": [],
   "source": [
    "img = Image(image_arr=original)"
   ]
  },
  {
   "cell_type": "code",
   "execution_count": null,
   "metadata": {},
   "outputs": [],
   "source": [
    "IMG.fromarray(mask1)"
   ]
  },
  {
   "cell_type": "code",
   "execution_count": null,
   "metadata": {},
   "outputs": [],
   "source": [
    "img.apply_bilateral()"
   ]
  },
  {
   "cell_type": "code",
   "execution_count": null,
   "metadata": {},
   "outputs": [],
   "source": [
    "IMG.fromarray(img.diff_bilateral)"
   ]
  },
  {
   "cell_type": "code",
   "execution_count": null,
   "metadata": {},
   "outputs": [],
   "source": [
    "img.apply_gabor(kernel_bank= imgutils.get_chosen_gabor_bank())"
   ]
  },
  {
   "cell_type": "code",
   "execution_count": null,
   "metadata": {},
   "outputs": [],
   "source": [
    "IMG.fromarray(img.img_gabor)"
   ]
  },
  {
   "cell_type": "code",
   "execution_count": null,
   "metadata": {},
   "outputs": [],
   "source": [
    "img.create_skeleton(kernels=imgutils.get_chosen_skeleton_filter(),threshold=10)"
   ]
  },
  {
   "cell_type": "code",
   "execution_count": null,
   "metadata": {},
   "outputs": [],
   "source": [
    "IMG.fromarray(255-img.img_skeleton)"
   ]
  },
  {
   "cell_type": "code",
   "execution_count": null,
   "metadata": {},
   "outputs": [],
   "source": [
    "lattice = Lattice(image_arr_2d=img.img_gabor)"
   ]
  },
  {
   "cell_type": "code",
   "execution_count": null,
   "metadata": {},
   "outputs": [],
   "source": [
    "lattice.generate_lattice_graph(eight_connected=False)"
   ]
  },
  {
   "cell_type": "code",
   "execution_count": null,
   "metadata": {},
   "outputs": [],
   "source": [
    "seed_node_list = imgutils.get_seed_node_list(img.img_skeleton)"
   ]
  },
  {
   "cell_type": "code",
   "execution_count": null,
   "metadata": {},
   "outputs": [],
   "source": [
    "# costs = []\n",
    "# for n in seed_node_list:\n",
    "#     for o in graph[n]:\n",
    "#         costs.append(graph[n][o].get('cost'))\n",
    "# np.max(costs)"
   ]
  },
  {
   "cell_type": "code",
   "execution_count": null,
   "metadata": {},
   "outputs": [],
   "source": [
    " graph = fmst.run_segmentation(image_object=img,\n",
    "                          lattice_object=lattice,\n",
    "                          seed_list=seed_node_list,\n",
    "                          segmentation_threshold=7.5,\n",
    "                          alpha=5,\n",
    "                          img_gabor_contribution=0.8,\n",
    "                          img_original_contribution=0.2)"
   ]
  },
  {
   "cell_type": "code",
   "execution_count": null,
   "metadata": {},
   "outputs": [],
   "source": [
    "IMG.fromarray(lattice.accumulator)"
   ]
  },
  {
   "cell_type": "code",
   "execution_count": null,
   "metadata": {},
   "outputs": [],
   "source": [
    "IMG.fromarray(lattice.accumulator)"
   ]
  },
  {
   "cell_type": "code",
   "execution_count": null,
   "metadata": {},
   "outputs": [],
   "source": []
  }
 ],
 "metadata": {
  "kernelspec": {
   "display_name": "ature_env",
   "language": "python",
   "name": "pl-env"
  },
  "language_info": {
   "codemirror_mode": {
    "name": "ipython",
    "version": 3
   },
   "file_extension": ".py",
   "mimetype": "text/x-python",
   "name": "python",
   "nbconvert_exporter": "python",
   "pygments_lexer": "ipython3",
   "version": "3.5.2"
  }
 },
 "nbformat": 4,
 "nbformat_minor": 2
}
