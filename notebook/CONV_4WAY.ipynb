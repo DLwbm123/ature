{
 "cells": [
  {
   "cell_type": "markdown",
   "metadata": {},
   "source": [
    "### Initialize notebook"
   ]
  },
  {
   "cell_type": "code",
   "execution_count": 1,
   "metadata": {},
   "outputs": [],
   "source": [
    "# Torch imports\n",
    "import torch\n",
    "import torchvision\n",
    "import torchvision.transforms as transforms\n",
    "import torch.optim as optim\n",
    "from torch.autograd import Variable\n",
    "import torch.nn as nn\n",
    "import torch.nn.functional as F\n",
    "from torch.utils.data.dataset import Dataset\n",
    "import PIL.Image as IMG\n",
    "from torch.utils.data.sampler import WeightedRandomSampler\n",
    "\n",
    "# Other imports\n",
    "import matplotlib.pyplot as plt\n",
    "import numpy as np\n",
    "import os\n",
    "os.chdir('/home/ak/Spring2018/ature')\n",
    "\n",
    "from neuralnet.utils.datasets import DriveDatasetFromFile, DriveDatasetFromImageObj\n",
    "\n",
    "from utils import img_utils as imgutil\n",
    "from commons.IMAGE import SegmentedImage\n",
    "from neuralnet.trainer import NNTrainer\n",
    "import neuralnet.utils.measurements as mnt\n",
    "\n",
    "sep = os.sep\n",
    "\n",
    "# Define folders (create them if needed)\n",
    "Dirs = {}\n",
    "Dirs['train_data']      = 'data'+sep+'DRIVE'+sep+'training'+sep +'patches'\n",
    "\n",
    "Dirs['data']      = 'data'+sep+'DRIVE'+sep+'test'\n",
    "Dirs['images']    = Dirs['data'] +sep+ 'images'\n",
    "Dirs['mask']      = Dirs['data'] +sep+ 'mask'\n",
    "Dirs['truth']     = Dirs['data'] +sep+ '1st_manual'\n",
    "Dirs['segmented'] = Dirs['data'] +sep+ 'drive_segmented'\n",
    "Dirs['test_data'] = Dirs['data'] +sep+ 'patches'\n",
    "Dirs['checkpoint']   = 'data' +sep+ 'checkpoint'\n",
    "\n",
    "for k, folder in Dirs.items():\n",
    "    os.makedirs(folder, exist_ok=True)\n",
    "\n",
    "# Set up execution flags\n",
    "Flags = {}\n",
    "Flags['useGPU'] = False\n",
    "\n",
    "classes = ('white', 'green', 'black', 'red')"
   ]
  },
  {
   "cell_type": "markdown",
   "metadata": {},
   "source": [
    "### Define the network"
   ]
  },
  {
   "cell_type": "code",
   "execution_count": 2,
   "metadata": {},
   "outputs": [
    {
     "name": "stdout",
     "output_type": "stream",
     "text": [
      "output width { 31 -conv-> 16.0 -maxpool-> 8.0 }\n",
      "output width { 8.0 -conv-> 8.0 -maxpool-> 8.0 }\n",
      "output width { 8.0 -conv-> 6.0 -maxpool-> 6.0 }\n"
     ]
    }
   ],
   "source": [
    "class Net(nn.Module):\n",
    "    def __init__(self, width, channels):\n",
    "        super(Net, self).__init__()\n",
    "        \n",
    "        self.channels = channels\n",
    "        self.width = width\n",
    "        \n",
    "    \n",
    "        self.kern_size = 5\n",
    "        self.kern_stride = 2      \n",
    "        self.kern_padding = 2\n",
    "        self.mxp_kern_size = 2\n",
    "        self.mxp_stride = 2 \n",
    "        self.pool1 = nn.MaxPool2d(kernel_size=self.mxp_kern_size, stride=self.mxp_stride)\n",
    "        self.conv1 = nn.Conv2d(self.channels, 20, self.kern_size, \n",
    "                               stride=self.kern_stride, padding=self.kern_padding)\n",
    "        self._update_output_size()\n",
    "        \n",
    "        \n",
    "        self.kern_size = 5\n",
    "        self.kern_stride = 1      \n",
    "        self.kern_padding = 2\n",
    "        self.mxp_kern_size = 1\n",
    "        self.mxp_stride = 1 \n",
    "        self.pool2 = nn.MaxPool2d(kernel_size=self.mxp_kern_size, stride=self.mxp_stride)\n",
    "        self.conv2 = nn.Conv2d(20, 50, self.kern_size, \n",
    "                               stride=self.kern_stride, padding=self.kern_padding)\n",
    "        self._update_output_size()\n",
    "        \n",
    "        \n",
    "        self.kern_size = 5\n",
    "        self.kern_stride = 1      \n",
    "        self.kern_padding = 1\n",
    "        self.mxp_kern_size = 1\n",
    "        self.mxp_stride = 1 \n",
    "        self.pool3 = nn.MaxPool2d(kernel_size=self.mxp_kern_size, stride=self.mxp_stride)\n",
    "        self.conv3 = nn.Conv2d(50, 50, self.kern_size, \n",
    "                               stride=self.kern_stride, padding=self.kern_padding)\n",
    "        self._update_output_size()\n",
    "        \n",
    "        \n",
    "        \n",
    "        self.linearWidth = 50*int(self.width)*int(self.width)\n",
    "        self.fc1 = nn.Linear(self.linearWidth, 100)\n",
    "        self.fc2 = nn.Linear(100, 20)\n",
    "        self.fc3 = nn.Linear(20, 4)\n",
    "        self.sm = nn.LogSoftmax(dim=1)\n",
    "\n",
    "    def forward(self, x):\n",
    "        x = self.pool1(F.relu(self.conv1(x)))\n",
    "        x = self.pool2(F.relu(self.conv2(x)))\n",
    "        x = self.pool3(F.relu(self.conv3(x)))\n",
    "        x = x.view(-1, self.linearWidth)\n",
    "        x = F.dropout(x, training=self.training)\n",
    "        x = F.relu(self.fc1(x))\n",
    "        x = F.dropout(x, training=self.training)\n",
    "        x = F.relu(self.fc2(x))\n",
    "        x = self.fc3(x)\n",
    "        return x\n",
    "    \n",
    "    def _update_output_size(self):       \n",
    "        temp = self.width\n",
    "        self.width = ((self.width - self.kern_size + 2 * self.kern_padding) / self.kern_stride) + 1\n",
    "        temp1 = self.width\n",
    "        self.width = ((self.width - self.mxp_kern_size)/self.mxp_stride) + 1\n",
    "        print('output width { ' + str(temp) + ' -conv-> ' + str(temp1) + ' -maxpool-> ' + str(self.width) + ' }')\n",
    "\n",
    "width = 31\n",
    "channels = 1\n",
    "net = Net(width, channels)\n",
    "optimizer = optim.Adam(net.parameters(), lr=0.0005)"
   ]
  },
  {
   "cell_type": "markdown",
   "metadata": {},
   "source": [
    "### Load train data"
   ]
  },
  {
   "cell_type": "code",
   "execution_count": 3,
   "metadata": {},
   "outputs": [
    {
     "name": "stdout",
     "output_type": "stream",
     "text": [
      "Data file loaded: data/DRIVE/training/patches/25_training.npy\n",
      "Data file loaded: data/DRIVE/training/patches/37_training.npy\n",
      "Data file loaded: data/DRIVE/training/patches/35_training.npy\n",
      "Data file loaded: data/DRIVE/training/patches/38_training.npy\n",
      "Data file loaded: data/DRIVE/training/patches/34_training.npy\n",
      "ERROR loading data/DRIVE/training/patches/39_training.npy : cannot reshape array of size 122240896 into shape (189055,962)\n",
      "Data file loaded: data/DRIVE/training/patches/24_training.npy\n",
      "Data file loaded: data/DRIVE/training/patches/27_training.npy\n",
      "Data file loaded: data/DRIVE/training/patches/33_training.npy\n",
      "Data file loaded: data/DRIVE/training/patches/26_training.npy\n",
      "Data file loaded: data/DRIVE/training/patches/31_training.npy\n",
      "Data file loaded: data/DRIVE/training/patches/23_training.npy\n",
      "Data file loaded: data/DRIVE/training/patches/29_training.npy\n",
      "Data file loaded: data/DRIVE/training/patches/28_training.npy\n",
      "132817\n"
     ]
    }
   ],
   "source": [
    "transform = transforms.Compose([\n",
    "    transforms.ToTensor()])\n",
    "\n",
    "trainset = DriveDatasetFromFile(data_path=Dirs['train_data'], height=31, width=31, \n",
    "                                num_classes=4, transform=transform)\n",
    "clss, class_counts = np.unique(trainset.labels, return_counts=True)\n",
    "class_weights = 1.0/class_counts\n",
    "data_weights = np.array([class_weights[t] for t in trainset.labels]) \n",
    "second_min_class_count =  np.partition(class_counts, 1)[1]\n",
    "\n",
    "sampler = WeightedRandomSampler(data_weights, int(second_min_class_count))\n",
    "trainloader = torch.utils.data.DataLoader(trainset, batch_size=100, shuffle=False, num_workers=3, sampler=sampler)\n",
    "print(second_min_class_count)"
   ]
  },
  {
   "cell_type": "markdown",
   "metadata": {},
   "source": [
    "### Load test dataset"
   ]
  },
  {
   "cell_type": "code",
   "execution_count": 4,
   "metadata": {},
   "outputs": [
    {
     "name": "stdout",
     "output_type": "stream",
     "text": [
      "Data file loaded: data/DRIVE/test/patches/02_test.npy\n",
      "Data file loaded: data/DRIVE/test/patches/16_test.npy\n",
      "Data file loaded: data/DRIVE/test/patches/06_test.npy\n",
      "Data file loaded: data/DRIVE/test/patches/13_test.npy\n",
      "Data file loaded: data/DRIVE/test/patches/15_test.npy\n",
      "Data file loaded: data/DRIVE/test/patches/05_test.npy\n",
      "Data file loaded: data/DRIVE/test/patches/19_test.npy\n",
      "Data file loaded: data/DRIVE/test/patches/14_test.npy\n",
      "51082\n"
     ]
    }
   ],
   "source": [
    "transform = transforms.Compose([\n",
    "    transforms.ToTensor()])\n",
    "\n",
    "testset = DriveDatasetFromFile(data_path=Dirs['test_data'], height=31, width=31, \n",
    "                               num_classes=4, transform=transform)\n",
    "clss_test, class_counts_test = np.unique(testset.labels, return_counts=True)\n",
    "class_weights_test = 1.0/class_counts_test\n",
    "\n",
    "data_weights_test = np.array([class_weights_test[t] for t in testset.labels])\n",
    "data_weights_test = np.ones_like(testset.labels)\n",
    "\n",
    "second_min_class_count_test =  np.partition(class_counts_test, 1)[1]\n",
    "\n",
    "sampler_test = WeightedRandomSampler(data_weights_test, int(second_min_class_count_test))\n",
    "testloader = torch.utils.data.DataLoader(testset, batch_size=2, shuffle=False, num_workers=3, sampler=sampler_test)\n",
    "print(second_min_class_count_test)"
   ]
  },
  {
   "cell_type": "markdown",
   "metadata": {},
   "source": [
    "### Train and evaluate the Network"
   ]
  },
  {
   "cell_type": "code",
   "execution_count": 5,
   "metadata": {
    "scrolled": true
   },
   "outputs": [
    {
     "name": "stdout",
     "output_type": "stream",
     "text": [
      "Resumed: checkpoint4Way.nn.tar\n",
      "Accuracy of 1000 batches: 81 %\n",
      "Accuracy of 2000 batches: 82 %\n",
      "Accuracy of 3000 batches: 81 %\n",
      "Accuracy of 4000 batches: 81 %\n",
      "Accuracy of 5000 batches: 81 %\n",
      "Accuracy of 6000 batches: 81 %\n",
      "Accuracy of 7000 batches: 81 %\n",
      "Accuracy of 8000 batches: 81 %\n",
      "Accuracy of 9000 batches: 81 %\n",
      "Accuracy of 10000 batches: 81 %\n",
      "Accuracy of 11000 batches: 81 %\n",
      "Accuracy of 12000 batches: 81 %\n",
      "Accuracy of 13000 batches: 81 %\n",
      "Accuracy of 14000 batches: 81 %\n",
      "Accuracy of 15000 batches: 81 %\n",
      "Accuracy of 16000 batches: 81 %\n",
      "Accuracy of 17000 batches: 81 %\n",
      "Accuracy of 18000 batches: 81 %\n",
      "Accuracy of 19000 batches: 81 %\n",
      "Accuracy of 20000 batches: 81 %\n",
      "Accuracy of 21000 batches: 81 %\n",
      "Accuracy of 22000 batches: 81 %\n",
      "Accuracy of 23000 batches: 81 %\n",
      "Accuracy of 24000 batches: 81 %\n",
      "Accuracy of 25000 batches: 81 %\n"
     ]
    }
   ],
   "source": [
    "trainer = NNTrainer(model=net, checkpoint_dir=Dirs['checkpoint'], checkpoint_file='checkpoint4Way.nn.tar')\n",
    "# trainer.train(optimizer=optimizer, dataloader=trainloader, epochs=2, use_gpu=Flags['useGPU'])\n",
    "trainer.resume_from_checkpoint()\n",
    "acc, y_pred, y_true = trainer.test(dataloader=testloader, use_gpu=Flags['useGPU'], force_checkpoint=False)\n",
    "# trainer.test()"
   ]
  },
  {
   "cell_type": "code",
   "execution_count": 6,
   "metadata": {},
   "outputs": [
    {
     "data": {
      "image/png": "[encoded data removed]",
      "text/plain": [
       "<matplotlib.figure.Figure at 0x7f1d1beaa160>"
      ]
     },
     "metadata": {},
     "output_type": "display_data"
    }
   ],
   "source": [
    "mnt.plot_confusion_matrix(y_pred=y_pred, y_true=y_true, classes=classes)"
   ]
  },
  {
   "cell_type": "markdown",
   "metadata": {},
   "source": [
    "### Check per-class performance"
   ]
  },
  {
   "cell_type": "code",
   "execution_count": null,
   "metadata": {},
   "outputs": [],
   "source": [
    "class_correct = list(0. for i in range(4))\n",
    "class_total = list(0. for i in range(4))\n",
    "for data in testloader:\n",
    "    images, labels = data\n",
    "    outputs = net(Variable(images))\n",
    "    _, predicted = torch.max(outputs.data, 1)\n",
    "    c = (predicted == labels).squeeze()\n",
    "    for i in range(4):\n",
    "        label = labels[i]\n",
    "        class_correct[label] += c[i]\n",
    "        class_total[label] += 1\n",
    "for i in range(4):\n",
    "    print('Accuracy of %5s : %2d %%' % (\n",
    "        classes[i], 100 * class_correct[i] / class_total[i]))"
   ]
  },
  {
   "cell_type": "markdown",
   "metadata": {},
   "source": [
    "### Convolve throughout the image to generate segmented image based on trained Network"
   ]
  },
  {
   "cell_type": "code",
   "execution_count": 5,
   "metadata": {},
   "outputs": [
    {
     "name": "stdout",
     "output_type": "stream",
     "text": [
      "Mask loaded: 19_test_mask.gif\n",
      "Ground truth loaded: 19_manual1.gif\n"
     ]
    }
   ],
   "source": [
    "input_image = '19_test.tif'\n",
    "\n",
    "def get_mask_file(file_name): \n",
    "    return file_name.split('_')[0] + '_test_mask.gif'\n",
    "\n",
    "def get_ground_truth_file(file_name): \n",
    "    return file_name.split('_')[0] + '_manual1.gif'\n",
    "\n",
    "def get_segmented_file(file_name):\n",
    "    return file_name + '_SEG.PNG'\n",
    "\n",
    "img_obj = SegmentedImage()\n",
    "\n",
    "img_obj.load_file(data_dir=Dirs['images'], file_name=input_image)\n",
    "img_obj.res['orig'] = img_obj.image_arr[:, :, 1]\n",
    "img_obj.working_arr = img_obj.image_arr[:, :, 1]\n",
    "img_obj.working_arr = imgutil.whiten_image2d(img_obj.working_arr)\n",
    "\n",
    "img_obj.load_mask(mask_dir=Dirs['mask'], fget_mask=get_mask_file, erode=True)\n",
    "img_obj.load_ground_truth(gt_dir=Dirs['truth'], fget_ground_truth=get_ground_truth_file)\n",
    "\n",
    "segmented_file = os.path.join(Dirs['segmented'], get_segmented_file(input_image))\n",
    "img_obj.res['segmented'] = imgutil.get_image_as_array(segmented_file, channels=1)\n",
    "\n",
    "transform = transforms.Compose([transforms.ToTensor()])\n",
    "dtest = DriveDatasetFromImageObj(img_obj=img_obj, patch_size=31, transform=transform, num_classes=4)\n",
    "dclss, d_cls_count = np.unique(dtest.labels, return_counts=True)\n",
    "dclass_weights = 1.0/d_cls_count\n",
    "ddata_weights = np.array([dclass_weights[t] for t in dtest.labels]) \n",
    "\n",
    "dsampler = WeightedRandomSampler(ddata_weights, dtest.data.shape[0])\n",
    "dtestloader = torch.utils.data.DataLoader(dtest, batch_size=1, shuffle=False, num_workers=1, sampler=dsampler)"
   ]
  },
  {
   "cell_type": "code",
   "execution_count": 6,
   "metadata": {},
   "outputs": [],
   "source": [
    "img_obj.res['seg'] = np.zeros_like(img_obj.working_arr)\n",
    "for i, j, image, label in dtestloader:\n",
    "    if Flags['useGPU']:\n",
    "        images = image.cuda()\n",
    "        label = label.cuda()\n",
    "    outputs = trainer.model(Variable(image))\n",
    "    _, predicted = torch.max(outputs.data, 1)\n",
    "    if predicted[0]==3 or predicted[0] == 0:\n",
    "        img_obj.res['seg'][i, j] = 255"
   ]
  },
  {
   "cell_type": "code",
   "execution_count": 10,
   "metadata": {},
   "outputs": [
    {
     "data": {
      "image/png": "[encoded data removed]",
      "text/plain": [
       "<PIL.Image.Image image mode=L size=565x584 at 0x7FF32C064978>"
      ]
     },
     "execution_count": 10,
     "metadata": {},
     "output_type": "execute_result"
    }
   ],
   "source": [
    "IMG.fromarray(img_obj.res['seg'])"
   ]
  },
  {
   "cell_type": "code",
   "execution_count": null,
   "metadata": {},
   "outputs": [],
   "source": []
  }
 ],
 "metadata": {
  "kernelspec": {
   "display_name": "ature_env",
   "language": "python",
   "name": "ature_env"
  },
  "language_info": {
   "codemirror_mode": {
    "name": "ipython",
    "version": 3
   },
   "file_extension": ".py",
   "mimetype": "text/x-python",
   "name": "python",
   "nbconvert_exporter": "python",
   "pygments_lexer": "ipython3",
   "version": "3.5.2"
  }
 },
 "nbformat": 4,
 "nbformat_minor": 2
}
