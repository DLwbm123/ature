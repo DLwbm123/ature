{
 "cells": [
  {
   "cell_type": "code",
   "execution_count": 1,
   "metadata": {},
   "outputs": [],
   "source": [
    "import pandas as pd\n",
    "import os"
   ]
  },
  {
   "cell_type": "code",
   "execution_count": 2,
   "metadata": {},
   "outputs": [],
   "source": [
    "os.chdir('..')"
   ]
  },
  {
   "cell_type": "code",
   "execution_count": 10,
   "metadata": {},
   "outputs": [],
   "source": [
    "from auto_split import Splitter, load_split"
   ]
  },
  {
   "cell_type": "code",
   "execution_count": 4,
   "metadata": {},
   "outputs": [],
   "source": [
    "df =pd.read_csv('data/DRIVE/segmented_mst/segmentation_result.csv')\n",
    "df_thr =pd.read_csv('data/DRIVE/segmented_thr/Thresholded1.csv')\n",
    "# df = df.query('FILE_NAME==\"19_test.tif\"')\n",
    "df = df.query('ORIG_CONTRIB==0.6')\n",
    "df = df.query('SK_THRESHOLD==100')\n",
    "df = df.query('ALPHA==5.0')\n",
    "df = df.query('SEG_THRESHOLD==12')"
   ]
  },
  {
   "cell_type": "code",
   "execution_count": 5,
   "metadata": {},
   "outputs": [],
   "source": [
    "df60 = df_thr.query('THRESHOLD==60')\n",
    "df80 = df_thr.query('THRESHOLD==80')\n",
    "df100 = df_thr.query('THRESHOLD==100')\n",
    "df120 = df_thr.query('THRESHOLD==120')\n",
    "df140 = df_thr.query('THRESHOLD==140')"
   ]
  },
  {
   "cell_type": "code",
   "execution_count": 8,
   "metadata": {},
   "outputs": [],
   "source": [
    "sp = Splitter(images_dir='data/DRIVE/training/images')"
   ]
  },
  {
   "cell_type": "code",
   "execution_count": 45,
   "metadata": {},
   "outputs": [
    {
     "data": {
      "text/plain": [
       "<auto_split.Splitter at 0x7f42cc45c080>"
      ]
     },
     "execution_count": 45,
     "metadata": {},
     "output_type": "execute_result"
    }
   ],
   "source": [
    "sp"
   ]
  },
  {
   "cell_type": "code",
   "execution_count": 36,
   "metadata": {},
   "outputs": [],
   "source": [
    "a ={\n",
    "    'Dirs':{\n",
    "        'i':\"images\",\n",
    "        't':\"Truth\"\n",
    "    }\n",
    "}"
   ]
  },
  {
   "cell_type": "code",
   "execution_count": 43,
   "metadata": {},
   "outputs": [],
   "source": [
    "c=a.get('Dirs').get('ij')"
   ]
  },
  {
   "cell_type": "code",
   "execution_count": 44,
   "metadata": {},
   "outputs": [],
   "source": [
    "c"
   ]
  },
  {
   "cell_type": "code",
   "execution_count": 46,
   "metadata": {},
   "outputs": [
    {
     "ename": "TypeError",
     "evalue": "'NoneType' object is not subscriptable",
     "output_type": "error",
     "traceback": [
      "\u001b[0;31m---------------------------------------------------------------------------\u001b[0m",
      "\u001b[0;31mTypeError\u001b[0m                                 Traceback (most recent call last)",
      "\u001b[0;32m<ipython-input-46-c2c692e20471>\u001b[0m in \u001b[0;36m<module>\u001b[0;34m()\u001b[0m\n\u001b[0;32m----> 1\u001b[0;31m \u001b[0md\u001b[0m \u001b[0;34m=\u001b[0m \u001b[0mc\u001b[0m\u001b[0;34m[\u001b[0m\u001b[0;34m'train'\u001b[0m\u001b[0;34m]\u001b[0m\u001b[0;34m\u001b[0m\u001b[0m\n\u001b[0m",
      "\u001b[0;31mTypeError\u001b[0m: 'NoneType' object is not subscriptable"
     ]
    }
   ],
   "source": [
    "d = c['train']"
   ]
  },
  {
   "cell_type": "code",
   "execution_count": 15,
   "metadata": {},
   "outputs": [],
   "source": [
    "d = os.listdir('data/DRIVE/training/images')"
   ]
  },
  {
   "cell_type": "code",
   "execution_count": 6,
   "metadata": {},
   "outputs": [],
   "source": [
    "mst_table = df[['FILE_NAME', 'F1', 'ACCURACY']].set_index(['FILE_NAME'])"
   ]
  },
  {
   "cell_type": "code",
   "execution_count": 22,
   "metadata": {},
   "outputs": [
    {
     "data": {
      "text/plain": [
       "(51.2, 14.399999999999999, 14.399999999999999)"
      ]
     },
     "execution_count": 22,
     "metadata": {},
     "output_type": "execute_result"
    }
   ],
   "source": [
    "80*0.64, 80*0.18, 80*0.18pytorch r"
   ]
  },
  {
   "cell_type": "code",
   "execution_count": 18,
   "metadata": {},
   "outputs": [
    {
     "data": {
      "text/plain": [
       "14"
      ]
     },
     "execution_count": 18,
     "metadata": {},
     "output_type": "execute_result"
    }
   ],
   "source": [
    "int(round(80*0.18))"
   ]
  },
  {
   "cell_type": "code",
   "execution_count": 20,
   "metadata": {},
   "outputs": [
    {
     "data": {
      "text/plain": [
       "14"
      ]
     },
     "execution_count": 20,
     "metadata": {},
     "output_type": "execute_result"
    }
   ],
   "source": [
    "int(round(80*0.18))"
   ]
  },
  {
   "cell_type": "code",
   "execution_count": 7,
   "metadata": {},
   "outputs": [],
   "source": [
    "thr_tabel = df100[['FILE_NAME', 'F1', 'ACCURACY']].set_index(['FILE_NAME'])"
   ]
  },
  {
   "cell_type": "code",
   "execution_count": 8,
   "metadata": {},
   "outputs": [],
   "source": [
    "final= thr_tabel.join(mst_table, lsuffix='_THR', rsuffix='_MST')"
   ]
  },
  {
   "cell_type": "code",
   "execution_count": 9,
   "metadata": {},
   "outputs": [],
   "source": [
    "final.loc['MEAN:'] = final.mean()\n",
    "final.loc['STD:'] = final.std()"
   ]
  },
  {
   "cell_type": "code",
   "execution_count": 10,
   "metadata": {},
   "outputs": [
    {
     "data": {
      "text/html": [
       "<div>\n",
       "<style scoped>\n",
       "    .dataframe tbody tr th:only-of-type {\n",
       "        vertical-align: middle;\n",
       "    }\n",
       "\n",
       "    .dataframe tbody tr th {\n",
       "        vertical-align: top;\n",
       "    }\n",
       "\n",
       "    .dataframe thead th {\n",
       "        text-align: right;\n",
       "    }\n",
       "</style>\n",
       "<table border=\"1\" class=\"dataframe\">\n",
       "  <thead>\n",
       "    <tr style=\"text-align: right;\">\n",
       "      <th></th>\n",
       "      <th>F1_THR</th>\n",
       "      <th>ACCURACY_THR</th>\n",
       "      <th>F1_MST</th>\n",
       "      <th>ACCURACY_MST</th>\n",
       "    </tr>\n",
       "    <tr>\n",
       "      <th>FILE_NAME</th>\n",
       "      <th></th>\n",
       "      <th></th>\n",
       "      <th></th>\n",
       "      <th></th>\n",
       "    </tr>\n",
       "  </thead>\n",
       "  <tbody>\n",
       "    <tr>\n",
       "      <th>04_test.tif</th>\n",
       "      <td>0.818698</td>\n",
       "      <td>0.969439</td>\n",
       "      <td>0.820000</td>\n",
       "      <td>0.968000</td>\n",
       "    </tr>\n",
       "    <tr>\n",
       "      <th>05_test.tif</th>\n",
       "      <td>0.791720</td>\n",
       "      <td>0.965572</td>\n",
       "      <td>0.814000</td>\n",
       "      <td>0.967000</td>\n",
       "    </tr>\n",
       "    <tr>\n",
       "      <th>06_test.tif</th>\n",
       "      <td>0.779894</td>\n",
       "      <td>0.962986</td>\n",
       "      <td>0.805000</td>\n",
       "      <td>0.965000</td>\n",
       "    </tr>\n",
       "    <tr>\n",
       "      <th>07_test.tif</th>\n",
       "      <td>0.796387</td>\n",
       "      <td>0.967005</td>\n",
       "      <td>0.811000</td>\n",
       "      <td>0.967000</td>\n",
       "    </tr>\n",
       "    <tr>\n",
       "      <th>08_test.tif</th>\n",
       "      <td>0.778156</td>\n",
       "      <td>0.966390</td>\n",
       "      <td>0.802000</td>\n",
       "      <td>0.967000</td>\n",
       "    </tr>\n",
       "    <tr>\n",
       "      <th>15_test.tif</th>\n",
       "      <td>0.812816</td>\n",
       "      <td>0.972645</td>\n",
       "      <td>0.790000</td>\n",
       "      <td>0.966000</td>\n",
       "    </tr>\n",
       "    <tr>\n",
       "      <th>16_test.tif</th>\n",
       "      <td>0.831691</td>\n",
       "      <td>0.971678</td>\n",
       "      <td>0.840000</td>\n",
       "      <td>0.972000</td>\n",
       "    </tr>\n",
       "    <tr>\n",
       "      <th>17_test.tif</th>\n",
       "      <td>0.800774</td>\n",
       "      <td>0.969411</td>\n",
       "      <td>0.808000</td>\n",
       "      <td>0.969000</td>\n",
       "    </tr>\n",
       "    <tr>\n",
       "      <th>17_test.tif</th>\n",
       "      <td>0.800774</td>\n",
       "      <td>0.969411</td>\n",
       "      <td>0.808000</td>\n",
       "      <td>0.969000</td>\n",
       "    </tr>\n",
       "    <tr>\n",
       "      <th>18_test.tif</th>\n",
       "      <td>0.827532</td>\n",
       "      <td>0.972715</td>\n",
       "      <td>0.822000</td>\n",
       "      <td>0.970000</td>\n",
       "    </tr>\n",
       "    <tr>\n",
       "      <th>19_test.tif</th>\n",
       "      <td>0.875245</td>\n",
       "      <td>0.978982</td>\n",
       "      <td>0.833000</td>\n",
       "      <td>0.969000</td>\n",
       "    </tr>\n",
       "    <tr>\n",
       "      <th>MEAN:</th>\n",
       "      <td>0.810335</td>\n",
       "      <td>0.969658</td>\n",
       "      <td>0.813909</td>\n",
       "      <td>0.968091</td>\n",
       "    </tr>\n",
       "    <tr>\n",
       "      <th>STD:</th>\n",
       "      <td>0.026504</td>\n",
       "      <td>0.004138</td>\n",
       "      <td>0.013548</td>\n",
       "      <td>0.001881</td>\n",
       "    </tr>\n",
       "  </tbody>\n",
       "</table>\n",
       "</div>"
      ],
      "text/plain": [
       "               F1_THR  ACCURACY_THR    F1_MST  ACCURACY_MST\n",
       "FILE_NAME                                                  \n",
       "04_test.tif  0.818698      0.969439  0.820000      0.968000\n",
       "05_test.tif  0.791720      0.965572  0.814000      0.967000\n",
       "06_test.tif  0.779894      0.962986  0.805000      0.965000\n",
       "07_test.tif  0.796387      0.967005  0.811000      0.967000\n",
       "08_test.tif  0.778156      0.966390  0.802000      0.967000\n",
       "15_test.tif  0.812816      0.972645  0.790000      0.966000\n",
       "16_test.tif  0.831691      0.971678  0.840000      0.972000\n",
       "17_test.tif  0.800774      0.969411  0.808000      0.969000\n",
       "17_test.tif  0.800774      0.969411  0.808000      0.969000\n",
       "18_test.tif  0.827532      0.972715  0.822000      0.970000\n",
       "19_test.tif  0.875245      0.978982  0.833000      0.969000\n",
       "MEAN:        0.810335      0.969658  0.813909      0.968091\n",
       "STD:         0.026504      0.004138  0.013548      0.001881"
      ]
     },
     "execution_count": 10,
     "metadata": {},
     "output_type": "execute_result"
    }
   ],
   "source": [
    "final"
   ]
  },
  {
   "cell_type": "code",
   "execution_count": 97,
   "metadata": {},
   "outputs": [
    {
     "data": {
      "text/html": [
       "<div>\n",
       "<style scoped>\n",
       "    .dataframe tbody tr th:only-of-type {\n",
       "        vertical-align: middle;\n",
       "    }\n",
       "\n",
       "    .dataframe tbody tr th {\n",
       "        vertical-align: top;\n",
       "    }\n",
       "\n",
       "    .dataframe thead th {\n",
       "        text-align: right;\n",
       "    }\n",
       "</style>\n",
       "<table border=\"1\" class=\"dataframe\">\n",
       "  <thead>\n",
       "    <tr style=\"text-align: right;\">\n",
       "      <th></th>\n",
       "      <th>SK_THRESHOLD</th>\n",
       "      <th>ALPHA</th>\n",
       "      <th>ORIG_CONTRIB</th>\n",
       "      <th>SEG_THRESHOLD</th>\n",
       "      <th>ITR</th>\n",
       "      <th>F1</th>\n",
       "      <th>PRECISION</th>\n",
       "      <th>RECALL</th>\n",
       "      <th>ACCURACY</th>\n",
       "    </tr>\n",
       "  </thead>\n",
       "  <tbody>\n",
       "    <tr>\n",
       "      <th>0</th>\n",
       "      <td>100</td>\n",
       "      <td>5.0</td>\n",
       "      <td>0.6</td>\n",
       "      <td>12</td>\n",
       "      <td>228.5</td>\n",
       "      <td>0.8152</td>\n",
       "      <td>0.8099</td>\n",
       "      <td>0.8261</td>\n",
       "      <td>0.9677</td>\n",
       "    </tr>\n",
       "  </tbody>\n",
       "</table>\n",
       "</div>"
      ],
      "text/plain": [
       "   SK_THRESHOLD  ALPHA  ORIG_CONTRIB  SEG_THRESHOLD    ITR      F1  PRECISION  \\\n",
       "0           100    5.0           0.6             12  228.5  0.8152     0.8099   \n",
       "\n",
       "   RECALL  ACCURACY  \n",
       "0  0.8261    0.9677  "
      ]
     },
     "execution_count": 97,
     "metadata": {},
     "output_type": "execute_result"
    }
   ],
   "source": [
    "grouped = df.groupby(['SK_THRESHOLD','ALPHA','ORIG_CONTRIB','SEG_THRESHOLD']).mean().reset_index()\n",
    "grouped.sort_values(by='F1', ascending=False)"
   ]
  },
  {
   "cell_type": "code",
   "execution_count": 94,
   "metadata": {},
   "outputs": [
    {
     "data": {
      "text/html": [
       "<div>\n",
       "<style scoped>\n",
       "    .dataframe tbody tr th:only-of-type {\n",
       "        vertical-align: middle;\n",
       "    }\n",
       "\n",
       "    .dataframe tbody tr th {\n",
       "        vertical-align: top;\n",
       "    }\n",
       "\n",
       "    .dataframe thead th {\n",
       "        text-align: right;\n",
       "    }\n",
       "</style>\n",
       "<table border=\"1\" class=\"dataframe\">\n",
       "  <thead>\n",
       "    <tr style=\"text-align: right;\">\n",
       "      <th></th>\n",
       "      <th>F1</th>\n",
       "      <th>ACCURACY</th>\n",
       "    </tr>\n",
       "    <tr>\n",
       "      <th>FILE_NAME</th>\n",
       "      <th></th>\n",
       "      <th></th>\n",
       "    </tr>\n",
       "  </thead>\n",
       "  <tbody>\n",
       "    <tr>\n",
       "      <th>04_test.tif</th>\n",
       "      <td>0.820</td>\n",
       "      <td>0.967</td>\n",
       "    </tr>\n",
       "    <tr>\n",
       "      <th>08_test.tif</th>\n",
       "      <td>0.800</td>\n",
       "      <td>0.967</td>\n",
       "    </tr>\n",
       "    <tr>\n",
       "      <th>18_test.tif</th>\n",
       "      <td>0.816</td>\n",
       "      <td>0.969</td>\n",
       "    </tr>\n",
       "    <tr>\n",
       "      <th>06_test.tif</th>\n",
       "      <td>0.803</td>\n",
       "      <td>0.964</td>\n",
       "    </tr>\n",
       "    <tr>\n",
       "      <th>17_test.tif</th>\n",
       "      <td>0.812</td>\n",
       "      <td>0.969</td>\n",
       "    </tr>\n",
       "    <tr>\n",
       "      <th>05_test.tif</th>\n",
       "      <td>0.815</td>\n",
       "      <td>0.966</td>\n",
       "    </tr>\n",
       "    <tr>\n",
       "      <th>16_test.tif</th>\n",
       "      <td>0.839</td>\n",
       "      <td>0.971</td>\n",
       "    </tr>\n",
       "    <tr>\n",
       "      <th>07_test.tif</th>\n",
       "      <td>0.818</td>\n",
       "      <td>0.968</td>\n",
       "    </tr>\n",
       "    <tr>\n",
       "      <th>15_test.tif</th>\n",
       "      <td>0.800</td>\n",
       "      <td>0.968</td>\n",
       "    </tr>\n",
       "    <tr>\n",
       "      <th>19_test.tif</th>\n",
       "      <td>0.829</td>\n",
       "      <td>0.968</td>\n",
       "    </tr>\n",
       "  </tbody>\n",
       "</table>\n",
       "</div>"
      ],
      "text/plain": [
       "                F1  ACCURACY\n",
       "FILE_NAME                   \n",
       "04_test.tif  0.820     0.967\n",
       "08_test.tif  0.800     0.967\n",
       "18_test.tif  0.816     0.969\n",
       "06_test.tif  0.803     0.964\n",
       "17_test.tif  0.812     0.969\n",
       "05_test.tif  0.815     0.966\n",
       "16_test.tif  0.839     0.971\n",
       "07_test.tif  0.818     0.968\n",
       "15_test.tif  0.800     0.968\n",
       "19_test.tif  0.829     0.968"
      ]
     },
     "execution_count": 94,
     "metadata": {},
     "output_type": "execute_result"
    }
   ],
   "source": [
    "mst_table"
   ]
  },
  {
   "cell_type": "code",
   "execution_count": 95,
   "metadata": {},
   "outputs": [
    {
     "data": {
      "text/html": [
       "<div>\n",
       "<style scoped>\n",
       "    .dataframe tbody tr th:only-of-type {\n",
       "        vertical-align: middle;\n",
       "    }\n",
       "\n",
       "    .dataframe tbody tr th {\n",
       "        vertical-align: top;\n",
       "    }\n",
       "\n",
       "    .dataframe thead th {\n",
       "        text-align: right;\n",
       "    }\n",
       "</style>\n",
       "<table border=\"1\" class=\"dataframe\">\n",
       "  <thead>\n",
       "    <tr style=\"text-align: right;\">\n",
       "      <th></th>\n",
       "      <th>F1</th>\n",
       "      <th>ACCURACY</th>\n",
       "    </tr>\n",
       "    <tr>\n",
       "      <th>FILE_NAME</th>\n",
       "      <th></th>\n",
       "      <th></th>\n",
       "    </tr>\n",
       "  </thead>\n",
       "  <tbody>\n",
       "    <tr>\n",
       "      <th>15_test.tif</th>\n",
       "      <td>0.812816</td>\n",
       "      <td>0.972645</td>\n",
       "    </tr>\n",
       "    <tr>\n",
       "      <th>04_test.tif</th>\n",
       "      <td>0.818698</td>\n",
       "      <td>0.969439</td>\n",
       "    </tr>\n",
       "    <tr>\n",
       "      <th>19_test.tif</th>\n",
       "      <td>0.875245</td>\n",
       "      <td>0.978982</td>\n",
       "    </tr>\n",
       "    <tr>\n",
       "      <th>08_test.tif</th>\n",
       "      <td>0.778156</td>\n",
       "      <td>0.966390</td>\n",
       "    </tr>\n",
       "    <tr>\n",
       "      <th>06_test.tif</th>\n",
       "      <td>0.779894</td>\n",
       "      <td>0.962986</td>\n",
       "    </tr>\n",
       "    <tr>\n",
       "      <th>18_test.tif</th>\n",
       "      <td>0.827532</td>\n",
       "      <td>0.972715</td>\n",
       "    </tr>\n",
       "    <tr>\n",
       "      <th>07_test.tif</th>\n",
       "      <td>0.796387</td>\n",
       "      <td>0.967005</td>\n",
       "    </tr>\n",
       "    <tr>\n",
       "      <th>16_test.tif</th>\n",
       "      <td>0.831691</td>\n",
       "      <td>0.971678</td>\n",
       "    </tr>\n",
       "    <tr>\n",
       "      <th>05_test.tif</th>\n",
       "      <td>0.791720</td>\n",
       "      <td>0.965572</td>\n",
       "    </tr>\n",
       "    <tr>\n",
       "      <th>17_test.tif</th>\n",
       "      <td>0.800774</td>\n",
       "      <td>0.969411</td>\n",
       "    </tr>\n",
       "  </tbody>\n",
       "</table>\n",
       "</div>"
      ],
      "text/plain": [
       "                   F1  ACCURACY\n",
       "FILE_NAME                      \n",
       "15_test.tif  0.812816  0.972645\n",
       "04_test.tif  0.818698  0.969439\n",
       "19_test.tif  0.875245  0.978982\n",
       "08_test.tif  0.778156  0.966390\n",
       "06_test.tif  0.779894  0.962986\n",
       "18_test.tif  0.827532  0.972715\n",
       "07_test.tif  0.796387  0.967005\n",
       "16_test.tif  0.831691  0.971678\n",
       "05_test.tif  0.791720  0.965572\n",
       "17_test.tif  0.800774  0.969411"
      ]
     },
     "execution_count": 95,
     "metadata": {},
     "output_type": "execute_result"
    }
   ],
   "source": [
    "thr_tabel"
   ]
  },
  {
   "cell_type": "code",
   "execution_count": 99,
   "metadata": {},
   "outputs": [
    {
     "data": {
      "text/html": [
       "<div>\n",
       "<style scoped>\n",
       "    .dataframe tbody tr th:only-of-type {\n",
       "        vertical-align: middle;\n",
       "    }\n",
       "\n",
       "    .dataframe tbody tr th {\n",
       "        vertical-align: top;\n",
       "    }\n",
       "\n",
       "    .dataframe thead th {\n",
       "        text-align: right;\n",
       "    }\n",
       "</style>\n",
       "<table border=\"1\" class=\"dataframe\">\n",
       "  <thead>\n",
       "    <tr style=\"text-align: right;\">\n",
       "      <th></th>\n",
       "      <th>ITR</th>\n",
       "      <th>FILE_NAME</th>\n",
       "      <th>F1</th>\n",
       "      <th>PRECISION</th>\n",
       "      <th>RECALL</th>\n",
       "      <th>ACCURACY</th>\n",
       "      <th>SK_THRESHOLD</th>\n",
       "      <th>ALPHA</th>\n",
       "      <th>ORIG_CONTRIB</th>\n",
       "      <th>SEG_THRESHOLD</th>\n",
       "    </tr>\n",
       "  </thead>\n",
       "  <tbody>\n",
       "    <tr>\n",
       "      <th>25</th>\n",
       "      <td>26</td>\n",
       "      <td>04_test.tif</td>\n",
       "      <td>0.820</td>\n",
       "      <td>0.825</td>\n",
       "      <td>0.815</td>\n",
       "      <td>0.967</td>\n",
       "      <td>100</td>\n",
       "      <td>5.0</td>\n",
       "      <td>0.6</td>\n",
       "      <td>12</td>\n",
       "    </tr>\n",
       "    <tr>\n",
       "      <th>70</th>\n",
       "      <td>71</td>\n",
       "      <td>08_test.tif</td>\n",
       "      <td>0.800</td>\n",
       "      <td>0.827</td>\n",
       "      <td>0.774</td>\n",
       "      <td>0.967</td>\n",
       "      <td>100</td>\n",
       "      <td>5.0</td>\n",
       "      <td>0.6</td>\n",
       "      <td>12</td>\n",
       "    </tr>\n",
       "    <tr>\n",
       "      <th>115</th>\n",
       "      <td>116</td>\n",
       "      <td>18_test.tif</td>\n",
       "      <td>0.816</td>\n",
       "      <td>0.763</td>\n",
       "      <td>0.878</td>\n",
       "      <td>0.969</td>\n",
       "      <td>100</td>\n",
       "      <td>5.0</td>\n",
       "      <td>0.6</td>\n",
       "      <td>12</td>\n",
       "    </tr>\n",
       "    <tr>\n",
       "      <th>160</th>\n",
       "      <td>161</td>\n",
       "      <td>06_test.tif</td>\n",
       "      <td>0.803</td>\n",
       "      <td>0.854</td>\n",
       "      <td>0.757</td>\n",
       "      <td>0.964</td>\n",
       "      <td>100</td>\n",
       "      <td>5.0</td>\n",
       "      <td>0.6</td>\n",
       "      <td>12</td>\n",
       "    </tr>\n",
       "    <tr>\n",
       "      <th>205</th>\n",
       "      <td>206</td>\n",
       "      <td>17_test.tif</td>\n",
       "      <td>0.812</td>\n",
       "      <td>0.840</td>\n",
       "      <td>0.786</td>\n",
       "      <td>0.969</td>\n",
       "      <td>100</td>\n",
       "      <td>5.0</td>\n",
       "      <td>0.6</td>\n",
       "      <td>12</td>\n",
       "    </tr>\n",
       "    <tr>\n",
       "      <th>250</th>\n",
       "      <td>251</td>\n",
       "      <td>05_test.tif</td>\n",
       "      <td>0.815</td>\n",
       "      <td>0.840</td>\n",
       "      <td>0.792</td>\n",
       "      <td>0.966</td>\n",
       "      <td>100</td>\n",
       "      <td>5.0</td>\n",
       "      <td>0.6</td>\n",
       "      <td>12</td>\n",
       "    </tr>\n",
       "    <tr>\n",
       "      <th>295</th>\n",
       "      <td>296</td>\n",
       "      <td>16_test.tif</td>\n",
       "      <td>0.839</td>\n",
       "      <td>0.832</td>\n",
       "      <td>0.845</td>\n",
       "      <td>0.971</td>\n",
       "      <td>100</td>\n",
       "      <td>5.0</td>\n",
       "      <td>0.6</td>\n",
       "      <td>12</td>\n",
       "    </tr>\n",
       "    <tr>\n",
       "      <th>340</th>\n",
       "      <td>341</td>\n",
       "      <td>07_test.tif</td>\n",
       "      <td>0.818</td>\n",
       "      <td>0.848</td>\n",
       "      <td>0.790</td>\n",
       "      <td>0.968</td>\n",
       "      <td>100</td>\n",
       "      <td>5.0</td>\n",
       "      <td>0.6</td>\n",
       "      <td>12</td>\n",
       "    </tr>\n",
       "    <tr>\n",
       "      <th>385</th>\n",
       "      <td>386</td>\n",
       "      <td>15_test.tif</td>\n",
       "      <td>0.800</td>\n",
       "      <td>0.726</td>\n",
       "      <td>0.889</td>\n",
       "      <td>0.968</td>\n",
       "      <td>100</td>\n",
       "      <td>5.0</td>\n",
       "      <td>0.6</td>\n",
       "      <td>12</td>\n",
       "    </tr>\n",
       "    <tr>\n",
       "      <th>430</th>\n",
       "      <td>431</td>\n",
       "      <td>19_test.tif</td>\n",
       "      <td>0.829</td>\n",
       "      <td>0.744</td>\n",
       "      <td>0.935</td>\n",
       "      <td>0.968</td>\n",
       "      <td>100</td>\n",
       "      <td>5.0</td>\n",
       "      <td>0.6</td>\n",
       "      <td>12</td>\n",
       "    </tr>\n",
       "  </tbody>\n",
       "</table>\n",
       "</div>"
      ],
      "text/plain": [
       "     ITR    FILE_NAME     F1  PRECISION  RECALL  ACCURACY  SK_THRESHOLD  \\\n",
       "25    26  04_test.tif  0.820      0.825   0.815     0.967           100   \n",
       "70    71  08_test.tif  0.800      0.827   0.774     0.967           100   \n",
       "115  116  18_test.tif  0.816      0.763   0.878     0.969           100   \n",
       "160  161  06_test.tif  0.803      0.854   0.757     0.964           100   \n",
       "205  206  17_test.tif  0.812      0.840   0.786     0.969           100   \n",
       "250  251  05_test.tif  0.815      0.840   0.792     0.966           100   \n",
       "295  296  16_test.tif  0.839      0.832   0.845     0.971           100   \n",
       "340  341  07_test.tif  0.818      0.848   0.790     0.968           100   \n",
       "385  386  15_test.tif  0.800      0.726   0.889     0.968           100   \n",
       "430  431  19_test.tif  0.829      0.744   0.935     0.968           100   \n",
       "\n",
       "     ALPHA  ORIG_CONTRIB  SEG_THRESHOLD  \n",
       "25     5.0           0.6             12  \n",
       "70     5.0           0.6             12  \n",
       "115    5.0           0.6             12  \n",
       "160    5.0           0.6             12  \n",
       "205    5.0           0.6             12  \n",
       "250    5.0           0.6             12  \n",
       "295    5.0           0.6             12  \n",
       "340    5.0           0.6             12  \n",
       "385    5.0           0.6             12  \n",
       "430    5.0           0.6             12  "
      ]
     },
     "execution_count": 99,
     "metadata": {},
     "output_type": "execute_result"
    }
   ],
   "source": [
    "df"
   ]
  },
  {
   "cell_type": "markdown",
   "metadata": {},
   "source": [
    "Notes"
   ]
  },
  {
   "cell_type": "markdown",
   "metadata": {},
   "source": [
    "-  ConvNet does not pick thin vessel at all.\n",
    "-  For the ones that it picked, precision vs recall tradeoff.\n",
    "-  Best would be to pick thin vessels and a way to maintain the precision.\n",
    "-  Represent each pixel with i, j, pVal, unet(u, v), orig(u, v)\n",
    "- (u,v) would want to go away from the optic nerve and downward."
   ]
  },
  {
   "cell_type": "code",
   "execution_count": 106,
   "metadata": {},
   "outputs": [],
   "source": [
    "class Parent:\n",
    "    def __init__(self, p=None):\n",
    "        self.p = p\n",
    "    @classmethod\n",
    "    def getme(cls,p=None):\n",
    "        return cls\n",
    "        "
   ]
  },
  {
   "cell_type": "code",
   "execution_count": 107,
   "metadata": {},
   "outputs": [],
   "source": [
    "class Child(Parent):\n",
    "    def __init__(self, p=None):\n",
    "        super(Child, self).__init__(p=p)\n",
    "        self.c = \"ChildClass\""
   ]
  },
  {
   "cell_type": "code",
   "execution_count": 108,
   "metadata": {},
   "outputs": [],
   "source": [
    "c = Child(\"Namaste\")"
   ]
  },
  {
   "cell_type": "code",
   "execution_count": 109,
   "metadata": {},
   "outputs": [],
   "source": [
    "d = c.getme(p=\"TTTTT\")"
   ]
  },
  {
   "cell_type": "code",
   "execution_count": 110,
   "metadata": {},
   "outputs": [],
   "source": [
    "y=d(\"H\")"
   ]
  },
  {
   "cell_type": "code",
   "execution_count": 111,
   "metadata": {},
   "outputs": [
    {
     "data": {
      "text/plain": [
       "'H'"
      ]
     },
     "execution_count": 111,
     "metadata": {},
     "output_type": "execute_result"
    }
   ],
   "source": [
    "y.p"
   ]
  },
  {
   "cell_type": "code",
   "execution_count": null,
   "metadata": {},
   "outputs": [],
   "source": []
  }
 ],
 "metadata": {
  "kernelspec": {
   "display_name": "ature_env",
   "language": "python",
   "name": "ature_env"
  },
  "language_info": {
   "codemirror_mode": {
    "name": "ipython",
    "version": 3
   },
   "file_extension": ".py",
   "mimetype": "text/x-python",
   "name": "python",
   "nbconvert_exporter": "python",
   "pygments_lexer": "ipython3",
   "version": "3.6.4"
  }
 },
 "nbformat": 4,
 "nbformat_minor": 2
}
