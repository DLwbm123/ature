{
 "cells": [
  {
   "cell_type": "code",
   "execution_count": 1,
   "metadata": {},
   "outputs": [],
   "source": [
    "import pandas as pd\n",
    "import os"
   ]
  },
  {
   "cell_type": "code",
   "execution_count": 2,
   "metadata": {},
   "outputs": [],
   "source": [
    "os.chdir('..')"
   ]
  },
  {
   "cell_type": "code",
   "execution_count": 3,
   "metadata": {},
   "outputs": [
    {
     "data": {
      "text/plain": [
       "['Thresholded.csv', 'MST.txt', 'segmentation_result.csv']"
      ]
     },
     "execution_count": 3,
     "metadata": {},
     "output_type": "execute_result"
    }
   ],
   "source": [
    "os.listdir('data/DRIVE/segmented_mst')"
   ]
  },
  {
   "cell_type": "code",
   "execution_count": 86,
   "metadata": {},
   "outputs": [],
   "source": [
    "df =pd.read_csv('data/DRIVE/segmented_mst/segmentation_result.csv')\n",
    "df_thr =pd.read_csv('data/DRIVE/segmented_mst/Thresholded.csv')\n",
    "# df = df.query('FILE_NAME==\"19_test.tif\"')\n",
    "df = df.query('ORIG_CONTRIB==0.6')\n",
    "df = df.query('SK_THRESHOLD==100')\n",
    "df = df.query('ALPHA==5.0')\n",
    "df = df.query('SEG_THRESHOLD==12')"
   ]
  },
  {
   "cell_type": "code",
   "execution_count": 87,
   "metadata": {},
   "outputs": [],
   "source": [
    "df80 = df_thr.query('THRESHOLD==80')\n",
    "df100 = df_thr.query('THRESHOLD==100')"
   ]
  },
  {
   "cell_type": "code",
   "execution_count": 88,
   "metadata": {},
   "outputs": [],
   "source": [
    "mst_table = df[['FILE_NAME', 'F1', 'ACCURACY']].set_index(['FILE_NAME'])"
   ]
  },
  {
   "cell_type": "code",
   "execution_count": 89,
   "metadata": {},
   "outputs": [],
   "source": [
    "thr_tabel = df100[['FILE_NAME', 'F1', 'ACCURACY']].set_index(['FILE_NAME'])"
   ]
  },
  {
   "cell_type": "code",
   "execution_count": 90,
   "metadata": {},
   "outputs": [],
   "source": [
    "final= thr_tabel.join(mst_table, lsuffix='_THR', rsuffix='_MST')"
   ]
  },
  {
   "cell_type": "code",
   "execution_count": 91,
   "metadata": {},
   "outputs": [],
   "source": [
    "final.loc['MEAN:'] = final.mean()\n",
    "final.loc['STD:'] = final.std()"
   ]
  },
  {
   "cell_type": "code",
   "execution_count": 92,
   "metadata": {},
   "outputs": [
    {
     "data": {
      "text/html": [
       "<div>\n",
       "<style scoped>\n",
       "    .dataframe tbody tr th:only-of-type {\n",
       "        vertical-align: middle;\n",
       "    }\n",
       "\n",
       "    .dataframe tbody tr th {\n",
       "        vertical-align: top;\n",
       "    }\n",
       "\n",
       "    .dataframe thead th {\n",
       "        text-align: right;\n",
       "    }\n",
       "</style>\n",
       "<table border=\"1\" class=\"dataframe\">\n",
       "  <thead>\n",
       "    <tr style=\"text-align: right;\">\n",
       "      <th></th>\n",
       "      <th>F1_THR</th>\n",
       "      <th>ACCURACY_THR</th>\n",
       "      <th>F1_MST</th>\n",
       "      <th>ACCURACY_MST</th>\n",
       "    </tr>\n",
       "    <tr>\n",
       "      <th>FILE_NAME</th>\n",
       "      <th></th>\n",
       "      <th></th>\n",
       "      <th></th>\n",
       "      <th></th>\n",
       "    </tr>\n",
       "  </thead>\n",
       "  <tbody>\n",
       "    <tr>\n",
       "      <th>15_test.tif</th>\n",
       "      <td>0.812816</td>\n",
       "      <td>0.972645</td>\n",
       "      <td>0.800000</td>\n",
       "      <td>0.968000</td>\n",
       "    </tr>\n",
       "    <tr>\n",
       "      <th>04_test.tif</th>\n",
       "      <td>0.818698</td>\n",
       "      <td>0.969439</td>\n",
       "      <td>0.820000</td>\n",
       "      <td>0.967000</td>\n",
       "    </tr>\n",
       "    <tr>\n",
       "      <th>19_test.tif</th>\n",
       "      <td>0.875245</td>\n",
       "      <td>0.978982</td>\n",
       "      <td>0.829000</td>\n",
       "      <td>0.968000</td>\n",
       "    </tr>\n",
       "    <tr>\n",
       "      <th>08_test.tif</th>\n",
       "      <td>0.778156</td>\n",
       "      <td>0.966390</td>\n",
       "      <td>0.800000</td>\n",
       "      <td>0.967000</td>\n",
       "    </tr>\n",
       "    <tr>\n",
       "      <th>06_test.tif</th>\n",
       "      <td>0.779894</td>\n",
       "      <td>0.962986</td>\n",
       "      <td>0.803000</td>\n",
       "      <td>0.964000</td>\n",
       "    </tr>\n",
       "    <tr>\n",
       "      <th>18_test.tif</th>\n",
       "      <td>0.827532</td>\n",
       "      <td>0.972715</td>\n",
       "      <td>0.816000</td>\n",
       "      <td>0.969000</td>\n",
       "    </tr>\n",
       "    <tr>\n",
       "      <th>07_test.tif</th>\n",
       "      <td>0.796387</td>\n",
       "      <td>0.967005</td>\n",
       "      <td>0.818000</td>\n",
       "      <td>0.968000</td>\n",
       "    </tr>\n",
       "    <tr>\n",
       "      <th>16_test.tif</th>\n",
       "      <td>0.831691</td>\n",
       "      <td>0.971678</td>\n",
       "      <td>0.839000</td>\n",
       "      <td>0.971000</td>\n",
       "    </tr>\n",
       "    <tr>\n",
       "      <th>05_test.tif</th>\n",
       "      <td>0.791720</td>\n",
       "      <td>0.965572</td>\n",
       "      <td>0.815000</td>\n",
       "      <td>0.966000</td>\n",
       "    </tr>\n",
       "    <tr>\n",
       "      <th>17_test.tif</th>\n",
       "      <td>0.800774</td>\n",
       "      <td>0.969411</td>\n",
       "      <td>0.812000</td>\n",
       "      <td>0.969000</td>\n",
       "    </tr>\n",
       "    <tr>\n",
       "      <th>MEAN:</th>\n",
       "      <td>0.811291</td>\n",
       "      <td>0.969682</td>\n",
       "      <td>0.815200</td>\n",
       "      <td>0.967700</td>\n",
       "    </tr>\n",
       "    <tr>\n",
       "      <th>STD:</th>\n",
       "      <td>0.027617</td>\n",
       "      <td>0.004340</td>\n",
       "      <td>0.011873</td>\n",
       "      <td>0.001792</td>\n",
       "    </tr>\n",
       "  </tbody>\n",
       "</table>\n",
       "</div>"
      ],
      "text/plain": [
       "               F1_THR  ACCURACY_THR    F1_MST  ACCURACY_MST\n",
       "FILE_NAME                                                  \n",
       "15_test.tif  0.812816      0.972645  0.800000      0.968000\n",
       "04_test.tif  0.818698      0.969439  0.820000      0.967000\n",
       "19_test.tif  0.875245      0.978982  0.829000      0.968000\n",
       "08_test.tif  0.778156      0.966390  0.800000      0.967000\n",
       "06_test.tif  0.779894      0.962986  0.803000      0.964000\n",
       "18_test.tif  0.827532      0.972715  0.816000      0.969000\n",
       "07_test.tif  0.796387      0.967005  0.818000      0.968000\n",
       "16_test.tif  0.831691      0.971678  0.839000      0.971000\n",
       "05_test.tif  0.791720      0.965572  0.815000      0.966000\n",
       "17_test.tif  0.800774      0.969411  0.812000      0.969000\n",
       "MEAN:        0.811291      0.969682  0.815200      0.967700\n",
       "STD:         0.027617      0.004340  0.011873      0.001792"
      ]
     },
     "execution_count": 92,
     "metadata": {},
     "output_type": "execute_result"
    }
   ],
   "source": [
    "final"
   ]
  },
  {
   "cell_type": "code",
   "execution_count": 93,
   "metadata": {},
   "outputs": [],
   "source": [
    "# grouped = df.groupby(['SK_THRESHOLD','ALPHA','ORIG_CONTRIB','SEG_THRESHOLD']).mean().reset_index()\n",
    "# grouped.sort_values(by='FSCORE', ascending=False)"
   ]
  },
  {
   "cell_type": "code",
   "execution_count": 94,
   "metadata": {},
   "outputs": [
    {
     "data": {
      "text/html": [
       "<div>\n",
       "<style scoped>\n",
       "    .dataframe tbody tr th:only-of-type {\n",
       "        vertical-align: middle;\n",
       "    }\n",
       "\n",
       "    .dataframe tbody tr th {\n",
       "        vertical-align: top;\n",
       "    }\n",
       "\n",
       "    .dataframe thead th {\n",
       "        text-align: right;\n",
       "    }\n",
       "</style>\n",
       "<table border=\"1\" class=\"dataframe\">\n",
       "  <thead>\n",
       "    <tr style=\"text-align: right;\">\n",
       "      <th></th>\n",
       "      <th>F1</th>\n",
       "      <th>ACCURACY</th>\n",
       "    </tr>\n",
       "    <tr>\n",
       "      <th>FILE_NAME</th>\n",
       "      <th></th>\n",
       "      <th></th>\n",
       "    </tr>\n",
       "  </thead>\n",
       "  <tbody>\n",
       "    <tr>\n",
       "      <th>04_test.tif</th>\n",
       "      <td>0.820</td>\n",
       "      <td>0.967</td>\n",
       "    </tr>\n",
       "    <tr>\n",
       "      <th>08_test.tif</th>\n",
       "      <td>0.800</td>\n",
       "      <td>0.967</td>\n",
       "    </tr>\n",
       "    <tr>\n",
       "      <th>18_test.tif</th>\n",
       "      <td>0.816</td>\n",
       "      <td>0.969</td>\n",
       "    </tr>\n",
       "    <tr>\n",
       "      <th>06_test.tif</th>\n",
       "      <td>0.803</td>\n",
       "      <td>0.964</td>\n",
       "    </tr>\n",
       "    <tr>\n",
       "      <th>17_test.tif</th>\n",
       "      <td>0.812</td>\n",
       "      <td>0.969</td>\n",
       "    </tr>\n",
       "    <tr>\n",
       "      <th>05_test.tif</th>\n",
       "      <td>0.815</td>\n",
       "      <td>0.966</td>\n",
       "    </tr>\n",
       "    <tr>\n",
       "      <th>16_test.tif</th>\n",
       "      <td>0.839</td>\n",
       "      <td>0.971</td>\n",
       "    </tr>\n",
       "    <tr>\n",
       "      <th>07_test.tif</th>\n",
       "      <td>0.818</td>\n",
       "      <td>0.968</td>\n",
       "    </tr>\n",
       "    <tr>\n",
       "      <th>15_test.tif</th>\n",
       "      <td>0.800</td>\n",
       "      <td>0.968</td>\n",
       "    </tr>\n",
       "    <tr>\n",
       "      <th>19_test.tif</th>\n",
       "      <td>0.829</td>\n",
       "      <td>0.968</td>\n",
       "    </tr>\n",
       "  </tbody>\n",
       "</table>\n",
       "</div>"
      ],
      "text/plain": [
       "                F1  ACCURACY\n",
       "FILE_NAME                   \n",
       "04_test.tif  0.820     0.967\n",
       "08_test.tif  0.800     0.967\n",
       "18_test.tif  0.816     0.969\n",
       "06_test.tif  0.803     0.964\n",
       "17_test.tif  0.812     0.969\n",
       "05_test.tif  0.815     0.966\n",
       "16_test.tif  0.839     0.971\n",
       "07_test.tif  0.818     0.968\n",
       "15_test.tif  0.800     0.968\n",
       "19_test.tif  0.829     0.968"
      ]
     },
     "execution_count": 94,
     "metadata": {},
     "output_type": "execute_result"
    }
   ],
   "source": [
    "mst_table"
   ]
  },
  {
   "cell_type": "code",
   "execution_count": 95,
   "metadata": {},
   "outputs": [
    {
     "data": {
      "text/html": [
       "<div>\n",
       "<style scoped>\n",
       "    .dataframe tbody tr th:only-of-type {\n",
       "        vertical-align: middle;\n",
       "    }\n",
       "\n",
       "    .dataframe tbody tr th {\n",
       "        vertical-align: top;\n",
       "    }\n",
       "\n",
       "    .dataframe thead th {\n",
       "        text-align: right;\n",
       "    }\n",
       "</style>\n",
       "<table border=\"1\" class=\"dataframe\">\n",
       "  <thead>\n",
       "    <tr style=\"text-align: right;\">\n",
       "      <th></th>\n",
       "      <th>F1</th>\n",
       "      <th>ACCURACY</th>\n",
       "    </tr>\n",
       "    <tr>\n",
       "      <th>FILE_NAME</th>\n",
       "      <th></th>\n",
       "      <th></th>\n",
       "    </tr>\n",
       "  </thead>\n",
       "  <tbody>\n",
       "    <tr>\n",
       "      <th>15_test.tif</th>\n",
       "      <td>0.812816</td>\n",
       "      <td>0.972645</td>\n",
       "    </tr>\n",
       "    <tr>\n",
       "      <th>04_test.tif</th>\n",
       "      <td>0.818698</td>\n",
       "      <td>0.969439</td>\n",
       "    </tr>\n",
       "    <tr>\n",
       "      <th>19_test.tif</th>\n",
       "      <td>0.875245</td>\n",
       "      <td>0.978982</td>\n",
       "    </tr>\n",
       "    <tr>\n",
       "      <th>08_test.tif</th>\n",
       "      <td>0.778156</td>\n",
       "      <td>0.966390</td>\n",
       "    </tr>\n",
       "    <tr>\n",
       "      <th>06_test.tif</th>\n",
       "      <td>0.779894</td>\n",
       "      <td>0.962986</td>\n",
       "    </tr>\n",
       "    <tr>\n",
       "      <th>18_test.tif</th>\n",
       "      <td>0.827532</td>\n",
       "      <td>0.972715</td>\n",
       "    </tr>\n",
       "    <tr>\n",
       "      <th>07_test.tif</th>\n",
       "      <td>0.796387</td>\n",
       "      <td>0.967005</td>\n",
       "    </tr>\n",
       "    <tr>\n",
       "      <th>16_test.tif</th>\n",
       "      <td>0.831691</td>\n",
       "      <td>0.971678</td>\n",
       "    </tr>\n",
       "    <tr>\n",
       "      <th>05_test.tif</th>\n",
       "      <td>0.791720</td>\n",
       "      <td>0.965572</td>\n",
       "    </tr>\n",
       "    <tr>\n",
       "      <th>17_test.tif</th>\n",
       "      <td>0.800774</td>\n",
       "      <td>0.969411</td>\n",
       "    </tr>\n",
       "  </tbody>\n",
       "</table>\n",
       "</div>"
      ],
      "text/plain": [
       "                   F1  ACCURACY\n",
       "FILE_NAME                      \n",
       "15_test.tif  0.812816  0.972645\n",
       "04_test.tif  0.818698  0.969439\n",
       "19_test.tif  0.875245  0.978982\n",
       "08_test.tif  0.778156  0.966390\n",
       "06_test.tif  0.779894  0.962986\n",
       "18_test.tif  0.827532  0.972715\n",
       "07_test.tif  0.796387  0.967005\n",
       "16_test.tif  0.831691  0.971678\n",
       "05_test.tif  0.791720  0.965572\n",
       "17_test.tif  0.800774  0.969411"
      ]
     },
     "execution_count": 95,
     "metadata": {},
     "output_type": "execute_result"
    }
   ],
   "source": [
    "thr_tabel"
   ]
  },
  {
   "cell_type": "code",
   "execution_count": null,
   "metadata": {},
   "outputs": [],
   "source": []
  }
 ],
 "metadata": {
  "kernelspec": {
   "display_name": "ature_env",
   "language": "python",
   "name": "ature_env"
  },
  "language_info": {
   "codemirror_mode": {
    "name": "ipython",
    "version": 3
   },
   "file_extension": ".py",
   "mimetype": "text/x-python",
   "name": "python",
   "nbconvert_exporter": "python",
   "pygments_lexer": "ipython3",
   "version": "3.6.4"
  }
 },
 "nbformat": 4,
 "nbformat_minor": 2
}
