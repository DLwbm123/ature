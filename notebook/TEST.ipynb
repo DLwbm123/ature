{
 "cells": [
  {
   "cell_type": "code",
   "execution_count": 3,
   "metadata": {},
   "outputs": [],
   "source": [
    "import pandas as pd\n",
    "import os"
   ]
  },
  {
   "cell_type": "code",
   "execution_count": 4,
   "metadata": {},
   "outputs": [],
   "source": [
    "os.chdir('..')"
   ]
  },
  {
   "cell_type": "code",
   "execution_count": 35,
   "metadata": {},
   "outputs": [],
   "source": [
    "df =pd.read_csv('data/DRIVE/segmented_mst/segmentation_result.csv')\n",
    "df1 =pd.read_csv('data/DRIVE/segmented_mst/MST.csv')\n",
    "# df = df.query('FILE_NAME==\"19_test.tif\"')\n",
    "# df = df.query('ORIG_CONTRIB==0.6')\n",
    "df = df.query('SK_THRESHOLD==80')\n",
    "# df = df.query('ALPHA==5.0')\n",
    "# df = df.query('SEG_THRESHOLD==12')"
   ]
  },
  {
   "cell_type": "code",
   "execution_count": 29,
   "metadata": {},
   "outputs": [
    {
     "data": {
      "text/plain": [
       "0.8151999999999999"
      ]
     },
     "execution_count": 29,
     "metadata": {},
     "output_type": "execute_result"
    }
   ],
   "source": [
    "df['FSCORE'].mean()"
   ]
  },
  {
   "cell_type": "code",
   "execution_count": 27,
   "metadata": {},
   "outputs": [],
   "source": [
    "df80 = df1.query('THRESHOLD==80')\n",
    "df100 = df1.query('THRESHOLD==100')"
   ]
  },
  {
   "cell_type": "code",
   "execution_count": 38,
   "metadata": {},
   "outputs": [
    {
     "data": {
      "text/plain": [
       "1     0.812816\n",
       "3     0.818698\n",
       "5     0.875245\n",
       "7     0.778156\n",
       "9     0.779894\n",
       "11    0.827532\n",
       "13    0.796387\n",
       "15    0.831691\n",
       "17    0.791720\n",
       "19    0.800774\n",
       "Name: F1, dtype: float64"
      ]
     },
     "execution_count": 38,
     "metadata": {},
     "output_type": "execute_result"
    }
   ],
   "source": [
    "df100['F1']"
   ]
  },
  {
   "cell_type": "code",
   "execution_count": 34,
   "metadata": {},
   "outputs": [
    {
     "data": {
      "text/plain": [
       "25     0.820\n",
       "70     0.800\n",
       "115    0.816\n",
       "160    0.803\n",
       "205    0.812\n",
       "250    0.815\n",
       "295    0.839\n",
       "340    0.818\n",
       "385    0.800\n",
       "430    0.829\n",
       "Name: FSCORE, dtype: float64"
      ]
     },
     "execution_count": 34,
     "metadata": {},
     "output_type": "execute_result"
    }
   ],
   "source": [
    "df['FSCORE']"
   ]
  },
  {
   "cell_type": "code",
   "execution_count": 28,
   "metadata": {},
   "outputs": [
    {
     "name": "stdout",
     "output_type": "stream",
     "text": [
      "THRESHOLD    80.000000\n",
      "PRECISION     0.910654\n",
      "RECALL        0.710031\n",
      "ACCURACY      0.968341\n",
      "F1            0.794427\n",
      "dtype: float64 THRESHOLD    100.000000\n",
      "PRECISION      0.882822\n",
      "RECALL         0.756165\n",
      "ACCURACY       0.969682\n",
      "F1             0.811291\n",
      "dtype: float64\n"
     ]
    }
   ],
   "source": [
    "print(df80.mean(), df100.mean())"
   ]
  },
  {
   "cell_type": "code",
   "execution_count": 36,
   "metadata": {},
   "outputs": [
    {
     "data": {
      "text/html": [
       "<div>\n",
       "<style scoped>\n",
       "    .dataframe tbody tr th:only-of-type {\n",
       "        vertical-align: middle;\n",
       "    }\n",
       "\n",
       "    .dataframe tbody tr th {\n",
       "        vertical-align: top;\n",
       "    }\n",
       "\n",
       "    .dataframe thead th {\n",
       "        text-align: right;\n",
       "    }\n",
       "</style>\n",
       "<table border=\"1\" class=\"dataframe\">\n",
       "  <thead>\n",
       "    <tr style=\"text-align: right;\">\n",
       "      <th></th>\n",
       "      <th>SK_THRESHOLD</th>\n",
       "      <th>ALPHA</th>\n",
       "      <th>ORIG_CONTRIB</th>\n",
       "      <th>SEG_THRESHOLD</th>\n",
       "      <th>ITR</th>\n",
       "      <th>FSCORE</th>\n",
       "      <th>PRECISION</th>\n",
       "      <th>RECALL</th>\n",
       "      <th>ACCURACY</th>\n",
       "    </tr>\n",
       "  </thead>\n",
       "  <tbody>\n",
       "  </tbody>\n",
       "</table>\n",
       "</div>"
      ],
      "text/plain": [
       "Empty DataFrame\n",
       "Columns: [SK_THRESHOLD, ALPHA, ORIG_CONTRIB, SEG_THRESHOLD, ITR, FSCORE, PRECISION, RECALL, ACCURACY]\n",
       "Index: []"
      ]
     },
     "execution_count": 36,
     "metadata": {},
     "output_type": "execute_result"
    }
   ],
   "source": [
    "grouped = df.groupby(['SK_THRESHOLD','ALPHA','ORIG_CONTRIB','SEG_THRESHOLD']).mean().reset_index()\n",
    "grouped.sort_values(by='FSCORE', ascending=False)"
   ]
  },
  {
   "cell_type": "code",
   "execution_count": 37,
   "metadata": {},
   "outputs": [
    {
     "data": {
      "text/html": [
       "<div>\n",
       "<style scoped>\n",
       "    .dataframe tbody tr th:only-of-type {\n",
       "        vertical-align: middle;\n",
       "    }\n",
       "\n",
       "    .dataframe tbody tr th {\n",
       "        vertical-align: top;\n",
       "    }\n",
       "\n",
       "    .dataframe thead th {\n",
       "        text-align: right;\n",
       "    }\n",
       "</style>\n",
       "<table border=\"1\" class=\"dataframe\">\n",
       "  <thead>\n",
       "    <tr style=\"text-align: right;\">\n",
       "      <th></th>\n",
       "      <th>SK_THRESHOLD</th>\n",
       "      <th>ALPHA</th>\n",
       "      <th>ORIG_CONTRIB</th>\n",
       "      <th>SEG_THRESHOLD</th>\n",
       "      <th>ITR</th>\n",
       "      <th>FSCORE</th>\n",
       "      <th>PRECISION</th>\n",
       "      <th>RECALL</th>\n",
       "      <th>ACCURACY</th>\n",
       "    </tr>\n",
       "  </thead>\n",
       "  <tbody>\n",
       "  </tbody>\n",
       "</table>\n",
       "</div>"
      ],
      "text/plain": [
       "Empty DataFrame\n",
       "Columns: [SK_THRESHOLD, ALPHA, ORIG_CONTRIB, SEG_THRESHOLD, ITR, FSCORE, PRECISION, RECALL, ACCURACY]\n",
       "Index: []"
      ]
     },
     "execution_count": 37,
     "metadata": {},
     "output_type": "execute_result"
    }
   ],
   "source": [
    "grouped"
   ]
  },
  {
   "cell_type": "code",
   "execution_count": 8,
   "metadata": {},
   "outputs": [],
   "source": [
    "# "
   ]
  },
  {
   "cell_type": "code",
   "execution_count": null,
   "metadata": {},
   "outputs": [],
   "source": []
  }
 ],
 "metadata": {
  "kernelspec": {
   "display_name": "ature_env",
   "language": "python",
   "name": "ature_env"
  },
  "language_info": {
   "codemirror_mode": {
    "name": "ipython",
    "version": 3
   },
   "file_extension": ".py",
   "mimetype": "text/x-python",
   "name": "python",
   "nbconvert_exporter": "python",
   "pygments_lexer": "ipython3",
   "version": "3.6.4"
  }
 },
 "nbformat": 4,
 "nbformat_minor": 2
}
