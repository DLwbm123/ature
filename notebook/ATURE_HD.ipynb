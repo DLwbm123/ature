{
 "cells": [
  {
   "cell_type": "code",
   "execution_count": null,
   "metadata": {},
   "outputs": [],
   "source": [
    "#!/home/akhanal1/Spring2018/pl-env/bin/python3.5\n",
    "import os\n",
    "os.chdir('C:\\\\Projects\\\\ature')\n",
    "import sys\n",
    "import numpy as np\n",
    "import itertools as itr\n",
    "from random import shuffle\n",
    "from commons.segmentation import AtureTest\n",
    "from PIL import Image as IMG\n",
    "from commons.IMAGE import Image, GlaucomaImage\n",
    "from commons.accumulator import Accumulator\n",
    "import cv2\n",
    "import preprocess.utils.filter_utils as filutils\n",
    "\n",
    "\n",
    "SK_THRESHOLD_PARAMS = np.arange(40, 61, 20)\n",
    "ALPHA_PARAMS = np.arange(5, 7, 0.5)\n",
    "GABOR_CONTRIBUTION_PARAMS = np.arange(0.6, 1.1, 0.2)\n",
    "SEGMENTATION_THRESHOLD_PARAMS = np.arange(9, 15, 0.5)\n",
    "\n",
    "PARAMS_ITR = itr.product(SK_THRESHOLD_PARAMS, ALPHA_PARAMS, GABOR_CONTRIBUTION_PARAMS, SEGMENTATION_THRESHOLD_PARAMS)\n",
    "\n",
    "PARAMS_COMBINATION = list(PARAMS_ITR)\n",
    "shuffle(PARAMS_COMBINATION)\n",
    "\n",
    "keys = ('sk_threshold', 'alpha', 'gabor_contrib', 'seg_threshold')\n",
    "\n",
    "all_params = list(dict(zip(keys, param)) for param in PARAMS_COMBINATION)\n",
    "\n",
    "params = {'sk_threshold': 60,\n",
    "          'alpha': 6.5,\n",
    "          'gabor_contrib': 0.8,\n",
    "          'seg_threshold': 9}"
   ]
  },
  {
   "cell_type": "code",
   "execution_count": null,
   "metadata": {},
   "outputs": [],
   "source": [
    "### HD images\n",
    "data_file_path = 'C:\\\\Projects\\\\ature\\\\data\\\\hrf\\\\glaucoma'\n",
    "mask_path = 'C:\\\\Projects\\\\ature\\\\data\\\\hrf\\\\glaucoma_fovmask'\n",
    "ground_truth_path = 'C:\\\\Projects\\\\ature\\\\data\\\\hrf\\\\glaucoma_manualsegm'\n",
    "mask_suffix =  '_g_mask.tif'\n",
    "ground_truth_suffix = '_g.tif'\n",
    "input_image = '01_g.jpg'"
   ]
  },
  {
   "cell_type": "code",
   "execution_count": null,
   "metadata": {},
   "outputs": [],
   "source": [
    "%load_ext autoreload\n",
    "%autoreload 2"
   ]
  },
  {
   "cell_type": "code",
   "execution_count": null,
   "metadata": {},
   "outputs": [],
   "source": [
    "def get_mask_file(file_name): return file_name.split('_')[0] + mask_suffix\n",
    "def get_ground_truth_file(file_name): return file_name.split('_')[0] + ground_truth_suffix\n",
    "\n",
    "img_obj = GlaucomaImage()\n",
    "\n",
    "img_obj.load_file(data_dir=data_file_path, file_name=input_image)\n",
    "img_obj.load_mask(mask_dir=mask_path, fget_mask=get_mask_file, erode=True)\n",
    "img_obj.load_ground_truth(gt_dir=ground_truth_path, fget_ground_truth=get_ground_truth_file)\n",
    "\n",
    "img_obj.working_arr = img_obj.image_arr[:, :, 1]\n",
    "img_obj.apply_mask()\n",
    "\n",
    "img_obj.apply_bilateral()\n",
    "img_obj.apply_gabor()\n",
    "img_obj.generate_lattice_graph(eight_connected=False)\n",
    "\n",
    "accumulator = Accumulator(img_obj=img_obj)"
   ]
  },
  {
   "cell_type": "code",
   "execution_count": null,
   "metadata": {},
   "outputs": [],
   "source": [
    "### Run for image files with in-time mask erosion\n",
    "tester = AtureTest(out_dir='out')\n",
    "acc = tester.run(params=params, save_images=False, epochs=1, alpha_decay=0.4, accumulator=accumulator)\n",
    "# tester.run_all(params_combination=all_params)"
   ]
  },
  {
   "cell_type": "code",
   "execution_count": null,
   "metadata": {},
   "outputs": [],
   "source": [
    "### Run for all images in a directory\n",
    "# tester = AtureTest(data_dir=data_file_path, out_dir=os.path.join('out', 'out_new'))\n",
    "# tester.run_all(params_combination=all_params)"
   ]
  },
  {
   "cell_type": "code",
   "execution_count": null,
   "metadata": {},
   "outputs": [],
   "source": [
    "IMG.fromarray(img_obj.image_arr)"
   ]
  },
  {
   "cell_type": "code",
   "execution_count": null,
   "metadata": {},
   "outputs": [],
   "source": [
    "IMG.fromarray(img_obj.diff_bilateral)"
   ]
  },
  {
   "cell_type": "code",
   "execution_count": null,
   "metadata": {},
   "outputs": [],
   "source": [
    "IMG.fromarray(img_obj.img_gabor)"
   ]
  },
  {
   "cell_type": "code",
   "execution_count": null,
   "metadata": {},
   "outputs": [],
   "source": [
    "IMG.fromarray(255-acc.res['skeleton0'])"
   ]
  },
  {
   "cell_type": "code",
   "execution_count": null,
   "metadata": {},
   "outputs": [],
   "source": [
    "IMG.fromarray(acc.res['segmented0'])"
   ]
  },
  {
   "cell_type": "code",
   "execution_count": null,
   "metadata": {},
   "outputs": [],
   "source": [
    "print(acc.res['scores0'])"
   ]
  },
  {
   "cell_type": "code",
   "execution_count": null,
   "metadata": {},
   "outputs": [],
   "source": [
    "print(acc.res['params0'])"
   ]
  },
  {
   "cell_type": "code",
   "execution_count": null,
   "metadata": {},
   "outputs": [],
   "source": [
    "IMG.fromarray(acc.res['segmented_rgb0'])"
   ]
  },
  {
   "cell_type": "code",
   "execution_count": null,
   "metadata": {},
   "outputs": [],
   "source": [
    "import preprocess.utils.img_utils as ig"
   ]
  },
  {
   "cell_type": "code",
   "execution_count": null,
   "metadata": {},
   "outputs": [],
   "source": [
    "ig.histogram(acc.img_obj.img_gabor, bins=30)"
   ]
  },
  {
   "cell_type": "code",
   "execution_count": null,
   "metadata": {},
   "outputs": [],
   "source": [
    "fni = np.full(acc.arr_2d.shape, 250, dtype=np.uint8)\n",
    "for i in range(fni.shape[0]):\n",
    "    for j in range(fni.shape[1]):\n",
    "        if acc.arr_2d[i,j] == 0 and acc.img_obj.ground_truth[i,j] == 255:\n",
    "            fni[i, j] = acc.img_obj.img_gabor[i,j]"
   ]
  },
  {
   "cell_type": "code",
   "execution_count": 16,
   "metadata": {},
   "outputs": [],
   "source": [
    "# IMG.fromarray(fni)\n",
    "from abc import ABC, abstractmethod"
   ]
  },
  {
   "cell_type": "code",
   "execution_count": 17,
   "metadata": {},
   "outputs": [],
   "source": [
    "class Ig(ABC):\n",
    "    @abstractmethod\n",
    "    def pss():\n",
    "        pass\n",
    "    "
   ]
  },
  {
   "cell_type": "code",
   "execution_count": 18,
   "metadata": {},
   "outputs": [
    {
     "data": {
      "text/plain": [
       "__main__.Ig"
      ]
     },
     "execution_count": 18,
     "metadata": {},
     "output_type": "execute_result"
    }
   ],
   "source": [
    "Ig"
   ]
  },
  {
   "cell_type": "code",
   "execution_count": 19,
   "metadata": {},
   "outputs": [],
   "source": [
    "class IIg(Ig):\n",
    "    pass"
   ]
  },
  {
   "cell_type": "code",
   "execution_count": 20,
   "metadata": {},
   "outputs": [
    {
     "ename": "TypeError",
     "evalue": "Can't instantiate abstract class Ig with abstract methods pss",
     "traceback": [
      "\u001b[1;31m---------------------------------------------------------------------------\u001b[0m",
      "\u001b[1;31mTypeError\u001b[0m                                 Traceback (most recent call last)",
      "\u001b[1;32m<ipython-input-20-cae197f23504>\u001b[0m in \u001b[0;36m<module>\u001b[1;34m()\u001b[0m\n\u001b[1;32m----> 1\u001b[1;33m \u001b[0mi\u001b[0m \u001b[1;33m=\u001b[0m \u001b[0mIg\u001b[0m\u001b[1;33m(\u001b[0m\u001b[1;33m)\u001b[0m\u001b[1;33m\u001b[0m\u001b[0m\n\u001b[0m",
      "\u001b[1;31mTypeError\u001b[0m: Can't instantiate abstract class Ig with abstract methods pss"
     ],
     "output_type": "error"
    }
   ],
   "source": [
    "i = Ig()"
   ]
  },
  {
   "cell_type": "code",
   "execution_count": null,
   "metadata": {},
   "outputs": [],
   "source": []
  }
 ],
 "metadata": {
  "kernelspec": {
   "display_name": "ature_env",
   "language": "python",
   "name": "ature_env"
  },
  "language_info": {
   "codemirror_mode": {
    "name": "ipython",
    "version": 3
   },
   "file_extension": ".py",
   "mimetype": "text/x-python",
   "name": "python",
   "nbconvert_exporter": "python",
   "pygments_lexer": "ipython3",
   "version": "3.6.2"
  }
 },
 "nbformat": 4,
 "nbformat_minor": 2
}
