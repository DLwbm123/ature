{
 "cells": [
  {
   "cell_type": "markdown",
   "metadata": {},
   "source": [
    "### Initialize notebook"
   ]
  },
  {
   "cell_type": "code",
   "execution_count": 1,
   "metadata": {},
   "outputs": [],
   "source": [
    "import math\n",
    "import os\n",
    "\n",
    "os.chdir('/home/ak/PycharmProjects/ature/')\n",
    "import random\n",
    "from random import shuffle\n",
    "\n",
    "import numpy as np\n",
    "from scipy.ndimage.measurements import label\n",
    "from skimage.morphology import skeletonize\n",
    "\n",
    "import utils.img_utils as imgutils\n",
    "from commons.IMAGE import Image\n",
    "from neuralnet.datagen import Generator\n",
    "from neuralnet.utils.measurements import get_best_thr\n",
    "import cv2\n",
    "from PIL import Image as IMG\n",
    "\n",
    "sep = os.sep"
   ]
  },
  {
   "cell_type": "code",
   "execution_count": null,
   "metadata": {},
   "outputs": [],
   "source": [
    "from neuralnet.unet.runs import DRIVE as DU\n",
    "from neuralnet.thrnet.runs import DRIVE as DT"
   ]
  },
  {
   "cell_type": "code",
   "execution_count": null,
   "metadata": {},
   "outputs": [],
   "source": []
  },
  {
   "cell_type": "code",
   "execution_count": null,
   "metadata": {},
   "outputs": [],
   "source": []
  },
  {
   "cell_type": "code",
   "execution_count": null,
   "metadata": {
    "scrolled": false
   },
   "outputs": [],
   "source": [
    "num = 400\n",
    "import matplotlib.pyplot as plt\n",
    "plt.switch_backend('agg')\n",
    "path = 'data/DRIVE_UNET_MAP/patches_csv'\n",
    "for f in os.listdir(path):\n",
    "    # file = '18_test'\n",
    "    file = f.split('_')[0] + '_' + f.split('_')[1]\n",
    "    image = Image()\n",
    "    image.load_file(data_dir=DT['Dirs']['image'], file_name= file +'.png')\n",
    "    image.load_ground_truth(gt_dir=DT['Dirs']['truth'], fget_ground_truth=DT['Funcs']['truth_getter'])\n",
    "    image.working_arr = imgutils.get_image_as_array(DU['Dirs']['image'] + '/' + file + '.tif')[:,:,1]\n",
    "    image.apply_clahe()\n",
    "    patches = np.loadtxt( path + '/' + f, delimiter=',')\n",
    "    plt.rcParams[\"figure.figsize\"] = (4,700)\n",
    "    f, axarr = plt.subplots(num,3)\n",
    "    for i in range(num):\n",
    "        y, x, diff, a, b, c, d = patches[i]\n",
    "        a, b, c, d = int(a), int(b), int(c), int(d)\n",
    "        cl = 'black'\n",
    "        if abs(diff) > 20:\n",
    "            cl = 'red'\n",
    "        elif abs(diff)  <= 5:\n",
    "            cl = 'green'\n",
    "\n",
    "        axarr[i, 0].imshow(image.working_arr[a:b,c:d], cmap='gray')\n",
    "        axarr[i, 0].set_title('dff:' + str(diff), color=cl)\n",
    "        axarr[i, 0].set_yticklabels([])\n",
    "        axarr[i, 0].set_xticklabels([])\n",
    "\n",
    "        axarr[i, 1].imshow(image.image_arr[a:b,c:d], cmap='gray')\n",
    "        axarr[i, 1].set_title('prd:' + str(x), color=cl)\n",
    "        axarr[i, 1].set_yticklabels([])\n",
    "        axarr[i, 1].set_xticklabels([])\n",
    "\n",
    "        axarr[i, 2].imshow(image.ground_truth[a:b,c:d], cmap='gray')\n",
    "        axarr[i, 2].set_title('gt:' + str(y), color=cl)\n",
    "        axarr[i, 2].set_yticklabels([])\n",
    "        axarr[i, 2].set_xticklabels([])\n",
    "    plt.savefig(path + '/' + file + '_inspect_patch.png')\n",
    "    plt.close('all')"
   ]
  },
  {
   "cell_type": "code",
   "execution_count": 181,
   "metadata": {},
   "outputs": [
    {
     "data": {
      "text/plain": [
       "'/home/ak/PycharmProjects/ature'"
      ]
     },
     "execution_count": 181,
     "metadata": {},
     "output_type": "execute_result"
    }
   ],
   "source": [
    "os.getcwd()"
   ]
  },
  {
   "cell_type": "code",
   "execution_count": null,
   "metadata": {},
   "outputs": [],
   "source": []
  },
  {
   "cell_type": "code",
   "execution_count": null,
   "metadata": {},
   "outputs": [],
   "source": []
  }
 ],
 "metadata": {
  "kernelspec": {
   "display_name": "ature_env",
   "language": "python",
   "name": "ature_env"
  },
  "language_info": {
   "codemirror_mode": {
    "name": "ipython",
    "version": 3
   },
   "file_extension": ".py",
   "mimetype": "text/x-python",
   "name": "python",
   "nbconvert_exporter": "python",
   "pygments_lexer": "ipython3",
   "version": "3.6.4"
  }
 },
 "nbformat": 4,
 "nbformat_minor": 2
}
