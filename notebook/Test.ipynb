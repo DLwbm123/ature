{
 "cells": [
  {
   "cell_type": "code",
   "execution_count": 105,
   "metadata": {},
   "outputs": [],
   "source": [
    "import networkx as nx\n",
    "import numpy as np\n",
    "import matplotlib.pyplot as plt"
   ]
  },
  {
   "cell_type": "code",
   "execution_count": 106,
   "metadata": {},
   "outputs": [],
   "source": [
    "import warnings\n",
    "warnings.filterwarnings(\"ignore\")"
   ]
  },
  {
   "cell_type": "code",
   "execution_count": 107,
   "metadata": {},
   "outputs": [
    {
     "data": {
      "image/png": "[encoded data removed]",
      "text/plain": [
       "<matplotlib.figure.Figure at 0x20a13e8f2e8>"
      ]
     },
     "metadata": {},
     "output_type": "display_data"
    }
   ],
   "source": [
    "x,y = np.mgrid[1:5,1:5]\n",
    "plt.scatter(x,y)\n",
    "plt.show()"
   ]
  },
  {
   "cell_type": "code",
   "execution_count": 108,
   "metadata": {},
   "outputs": [],
   "source": [
    "n_pos = np.column_stack((x.reshape(-1,1),y.reshape(-1,1)))"
   ]
  },
  {
   "cell_type": "code",
   "execution_count": 109,
   "metadata": {},
   "outputs": [],
   "source": [
    "def assign_weights(images={}):\n",
    "    for arr,weight in images.items():\n",
    "        print(str(arr) + \": \" + str(weight))"
   ]
  },
  {
   "cell_type": "code",
   "execution_count": 110,
   "metadata": {},
   "outputs": [
    {
     "name": "stdout",
     "output_type": "stream",
     "text": [
      "1: [0, 1, 2]\n",
      "2: b\n"
     ]
    }
   ],
   "source": [
    "a1=[0,1,2]\n",
    "a = {1:a1,2:'b'}\n",
    "assign_weights(a)"
   ]
  },
  {
   "cell_type": "code",
   "execution_count": 111,
   "metadata": {},
   "outputs": [],
   "source": [
    "g = nx.grid_graph([4,4],periodic=False);\n",
    "ps = dict(zip(g.nodes(),g.nodes()))"
   ]
  },
  {
   "cell_type": "code",
   "execution_count": 118,
   "metadata": {},
   "outputs": [],
   "source": [
    "node_lables = dict(zip(g.nodes(), g.nodes()))"
   ]
  },
  {
   "cell_type": "code",
   "execution_count": 119,
   "metadata": {},
   "outputs": [],
   "source": [
    "import os"
   ]
  },
  {
   "cell_type": "code",
   "execution_count": 125,
   "metadata": {},
   "outputs": [],
   "source": [
    "os.chdir('D:\\\\idea projects\\\\pycharm projects\\\\ature\\\\')"
   ]
  },
  {
   "cell_type": "code",
   "execution_count": 126,
   "metadata": {},
   "outputs": [],
   "source": [
    "import path_config as cfg"
   ]
  },
  {
   "cell_type": "code",
   "execution_count": 130,
   "metadata": {},
   "outputs": [],
   "source": []
  },
  {
   "cell_type": "code",
   "execution_count": 113,
   "metadata": {},
   "outputs": [
    {
     "data": {
      "image/png": "[encoded data removed]",
      "text/plain": [
       "<matplotlib.figure.Figure at 0x20a13ef5668>"
      ]
     },
     "metadata": {},
     "output_type": "display_data"
    }
   ],
   "source": [
    "nx.draw_networkx(g, pos = ps, with_labels=True)\n",
    "plt.show()"
   ]
  },
  {
   "cell_type": "code",
   "execution_count": 81,
   "metadata": {},
   "outputs": [],
   "source": [
    "def create_eight_connected_lattice_graph(graph):\n",
    "    n_pos = dict(zip(graph.nodes(), graph.nodes()))\n",
    "    for i, j in graph.nodes():\n",
    "        n0 = (i, j)\n",
    "        n1 = (i - 1, j + 1)\n",
    "        n2 = (i + 1, j - 1)\n",
    "        n3 = (i - 1, j - 1)\n",
    "        n4 = (i + 1, j + 1)\n",
    "        if n1 in graph.nodes():\n",
    "            graph.add_edge(n0, n1)\n",
    "        if n2 in graph.nodes():\n",
    "            graph.add_edge(n0, n2)\n",
    "        if n3 in graph.nodes():\n",
    "            graph.add_edge(n0, n3)\n",
    "        if n4 in graph.nodes():\n",
    "            graph.add_edge(n0, n4)\n",
    "    return graph, n_pos"
   ]
  },
  {
   "cell_type": "code",
   "execution_count": 97,
   "metadata": {},
   "outputs": [],
   "source": [
    "g.add_edge((0,1),(0,0), weight=10)"
   ]
  },
  {
   "cell_type": "code",
   "execution_count": 100,
   "metadata": {},
   "outputs": [],
   "source": [
    "g[(0,0)][(1,0)]['weight'] =11"
   ]
  },
  {
   "cell_type": "code",
   "execution_count": 103,
   "metadata": {},
   "outputs": [],
   "source": [
    "a=(0,1)"
   ]
  },
  {
   "cell_type": "code",
   "execution_count": 104,
   "metadata": {},
   "outputs": [
    {
     "data": {
      "text/plain": [
       "0"
      ]
     },
     "execution_count": 104,
     "metadata": {},
     "output_type": "execute_result"
    }
   ],
   "source": [
    "g.sa"
   ]
  },
  {
   "cell_type": "code",
   "execution_count": 76,
   "metadata": {},
   "outputs": [],
   "source": [
    "import itertools as itr\n",
    "def assign_weights(graph=nx.Graph(), images={}, alpha=1):\n",
    "    for n1,n2 in itr.combinations(graph.nodes(), 2):\n",
    "        if n1 in graph.neighbors(n2):\n",
    "            print(str(n1) + ':' + str(n2))"
   ]
  },
  {
   "cell_type": "code",
   "execution_count": 84,
   "metadata": {},
   "outputs": [
    {
     "name": "stdout",
     "output_type": "stream",
     "text": [
      "(0, 0):(1, 0)\n",
      "(0, 0):(0, 1)\n",
      "(0, 0):(1, 1)\n",
      "(1, 0):(0, 1)\n",
      "(1, 0):(1, 1)\n",
      "(1, 0):(2, 0)\n",
      "(1, 0):(2, 1)\n",
      "(0, 1):(1, 1)\n",
      "(0, 1):(0, 2)\n",
      "(0, 1):(1, 2)\n",
      "(1, 1):(0, 2)\n",
      "(1, 1):(1, 2)\n",
      "(1, 1):(2, 0)\n",
      "(1, 1):(2, 1)\n",
      "(1, 1):(2, 2)\n",
      "(0, 2):(1, 2)\n",
      "(0, 2):(0, 3)\n",
      "(0, 2):(1, 3)\n",
      "(1, 2):(0, 3)\n",
      "(1, 2):(1, 3)\n",
      "(1, 2):(2, 1)\n",
      "(1, 2):(2, 2)\n",
      "(1, 2):(2, 3)\n",
      "(0, 3):(1, 3)\n",
      "(1, 3):(2, 2)\n",
      "(1, 3):(2, 3)\n",
      "(2, 0):(2, 1)\n",
      "(2, 0):(3, 0)\n",
      "(2, 0):(3, 1)\n",
      "(2, 1):(2, 2)\n",
      "(2, 1):(3, 0)\n",
      "(2, 1):(3, 1)\n",
      "(2, 1):(3, 2)\n",
      "(2, 2):(2, 3)\n",
      "(2, 2):(3, 1)\n",
      "(2, 2):(3, 2)\n",
      "(2, 2):(3, 3)\n",
      "(2, 3):(3, 2)\n",
      "(2, 3):(3, 3)\n",
      "(3, 0):(3, 1)\n",
      "(3, 1):(3, 2)\n",
      "(3, 2):(3, 3)\n"
     ]
    }
   ],
   "source": [
    "assign_weights(g)"
   ]
  },
  {
   "cell_type": "code",
   "execution_count": 75,
   "metadata": {},
   "outputs": [],
   "source": [
    "for i, j in g.nodes():\n",
    "    n0 = (i, j)\n",
    "    n1 = (i-1, j+1)\n",
    "    n2 = (i+1, j-1)\n",
    "    n3 = (i-1, j-1)\n",
    "    n4 = (i+1, j+1)\n",
    "    if n1 in g.nodes():\n",
    "        g.add_edge(n0, n1)\n",
    "    if n2 in g.nodes():\n",
    "        g.add_edge(n0, n2)\n",
    "    if n3 in g.nodes():\n",
    "        g.add_edge(n0, n3)\n",
    "    if n4 in g.nodes():\n",
    "        g.add_edge(n0, n4)\n",
    "    \n",
    "    \n",
    "    \n",
    "        "
   ]
  },
  {
   "cell_type": "code",
   "execution_count": null,
   "metadata": {},
   "outputs": [],
   "source": [
    "def myfunc(node):\n",
    "    "
   ]
  },
  {
   "cell_type": "code",
   "execution_count": 143,
   "metadata": {},
   "outputs": [],
   "source": [
    "def get_tuned(adj, k_distance):\n",
    "    tuned_adj = np.zeros_like(adj)\n",
    "    for ix, dist in np.ndenumerate(adj):\n",
    "        sigma_i = k_distance[ix[0], 6]\n",
    "        sigma_j = k_distance[ix[1], 6]\n",
    "        if ix[0] != ix[1] and dist != 0:\n",
    "            tuned_adj[ix[0], ix[1]] = math.exp(-dist ** 2 / (sigma_i * sigma_j))\n",
    "    return tuned_adj"
   ]
  },
  {
   "cell_type": "code",
   "execution_count": 2,
   "metadata": {},
   "outputs": [],
   "source": [
    "import os\n",
    "os.chdir(\"D:\\\\idea projects\\\\pycharm projects\\\\ature\\\\\")\n",
    "import preprocess.av.av_utils as av\n",
    "from preprocess.common.mat_utils import Mat\n",
    "import preprocess.filter.image_filters as imf\n",
    "import preprocess.graph.graph_utils as gt\n",
    "import preprocess.image.image_utils as img\n",
    "import matplotlib.pyplot as plt\n",
    "\n",
    "import path_config as pth\n",
    "import numpy as np\n",
    "import preprocess.filter.image_filters as fil\n",
    "file = Mat(file_name=str('wide_image_03.mat'))\n",
    "img_arr = file.get_image('I2')[:,:,1]"
   ]
  },
  {
   "cell_type": "code",
   "execution_count": 3,
   "metadata": {},
   "outputs": [],
   "source": [
    "import networkx as nx"
   ]
  },
  {
   "cell_type": "code",
   "execution_count": 43,
   "metadata": {},
   "outputs": [],
   "source": [
    "graph_i = nx.grid_graph([img_arr.shape[0], img_arr.shape[1]])"
   ]
  },
  {
   "cell_type": "code",
   "execution_count": 60,
   "metadata": {},
   "outputs": [
    {
     "data": {
      "text/plain": [
       "(937, 1551)"
      ]
     },
     "execution_count": 60,
     "metadata": {},
     "output_type": "execute_result"
    }
   ],
   "source": [
    "img_arr.shape"
   ]
  },
  {
   "cell_type": "code",
   "execution_count": 62,
   "metadata": {},
   "outputs": [],
   "source": [
    "for i in range(img_arr.shape[0]):\n",
    "    for j in range(img_arr.shape[1]):\n",
    "        graph_i.node[i,j]['i'] = img_arr[i,j]"
   ]
  },
  {
   "cell_type": "code",
   "execution_count": 1,
   "metadata": {},
   "outputs": [
    {
     "ename": "NameError",
     "evalue": "name 'nx' is not defined",
     "traceback": [
      "\u001b[1;31m---------------------------------------------------------------------------\u001b[0m",
      "\u001b[1;31mNameError\u001b[0m                                 Traceback (most recent call last)",
      "\u001b[1;32m<ipython-input-1-5040245f05ac>\u001b[0m in \u001b[0;36m<module>\u001b[1;34m()\u001b[0m\n\u001b[1;32m----> 1\u001b[1;33m \u001b[0madj\u001b[0m \u001b[1;33m=\u001b[0m \u001b[0mnx\u001b[0m\u001b[1;33m.\u001b[0m\u001b[0madj_matrix\u001b[0m\u001b[1;33m(\u001b[0m\u001b[0mgraph_i\u001b[0m\u001b[1;33m)\u001b[0m\u001b[1;33m\u001b[0m\u001b[0m\n\u001b[0m",
      "\u001b[1;31mNameError\u001b[0m: name 'nx' is not defined"
     ],
     "output_type": "error"
    }
   ],
   "source": [
    "adj = nx.adj_matrix(graph_i)"
   ]
  },
  {
   "cell_type": "code",
   "execution_count": null,
   "metadata": {},
   "outputs": [],
   "source": []
  }
 ],
 "metadata": {
  "kernelspec": {
   "display_name": "Python 3",
   "language": "python",
   "name": "python3"
  },
  "language_info": {
   "codemirror_mode": {
    "name": "ipython",
    "version": 3
   },
   "file_extension": ".py",
   "mimetype": "text/x-python",
   "name": "python",
   "nbconvert_exporter": "python",
   "pygments_lexer": "ipython3",
   "version": "3.6.2"
  }
 },
 "nbformat": 4,
 "nbformat_minor": 2
}
