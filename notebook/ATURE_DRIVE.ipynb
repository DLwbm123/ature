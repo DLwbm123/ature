{
 "cells": [
  {
   "cell_type": "code",
   "execution_count": null,
   "metadata": {},
   "outputs": [],
   "source": [
    "#!/home/akhanal1/Spring2018/pl-env/bin/python3.5\n",
    "import os\n",
    "os.chdir('/home/ak/Spring2018/ature')\n",
    "import sys\n",
    "import numpy as np\n",
    "from commons.segmentation import AtureTest\n",
    "from PIL import Image as IMG\n",
    "from commons.IMAGE import SegmentedImage\n",
    "import cv2\n",
    "import utils.filter_utils as filutils\n",
    "import utils.img_utils as imgutils\n",
    "import copy\n",
    "%load_ext autoreload\n",
    "%autoreload 2\n",
    "sep = os.sep"
   ]
  },
  {
   "cell_type": "code",
   "execution_count": null,
   "metadata": {},
   "outputs": [],
   "source": [
    "### DRIVE dataset path setup #####\n",
    "Dirs = {}\n",
    "\n",
    "Dirs['data']      = 'data'+sep+'DRIVE'+sep+'test'\n",
    "\n",
    "Dirs['images']    = Dirs['data'] +sep+ 'images'\n",
    "Dirs['mask']      = Dirs['data'] +sep+ 'mask'\n",
    "Dirs['truth']     = Dirs['data'] +sep+ '1st_manual'\n",
    "Dirs['segmented'] = Dirs['data'] +sep+ 'drive_segmented'\n",
    "Dirs['patches']   = Dirs['data'] +sep+ 'patches'\n",
    "\n",
    "for k, folder in Dirs.items():\n",
    "    os.makedirs(folder, exist_ok=True)\n",
    "\n",
    "def get_mask_file(file_name): \n",
    "    return file_name.split('_')[0] + '_test_mask.gif'\n",
    "def get_ground_truth_file(file_name): \n",
    "    return file_name.split('_')[0] + '_manual1.gif'\n",
    "\n",
    "input_image = '19_test.tif'\n",
    "###### Path end #####\n",
    "\n",
    "########### PARAMS ##########\n",
    "BILATERAL_KERNEL_SIZE = 41\n",
    "BILATERAL_SIGMA_COLOR = 20\n",
    "BILATERAL_SIGMA_SPACE = 20\n",
    "\n",
    "kernels1 = filutils.build_filter_bank(k_size=31, gamma=0.7, lambd=5, sigma=2, orientations=64, psi=0)\n",
    "kernels2 = filutils.build_filter_bank(k_size=31, gamma=0.7, lambd=8, sigma=3, orientations=64, psi=0)\n",
    "kernels3 = filutils.build_filter_bank(k_size=31, gamma=0.7, lambd=11, sigma=4, orientations=64, psi=0)\n",
    "kernels = kernels1 + kernels2 + kernels3\n",
    "\n",
    "params = {'sk_threshold': 60,\n",
    "          'alpha': 8.0,\n",
    "          'orig_contrib': 0.7,\n",
    "          'seg_threshold': 24}\n",
    "##### Params end"
   ]
  },
  {
   "cell_type": "code",
   "execution_count": null,
   "metadata": {},
   "outputs": [],
   "source": [
    "img_obj = SegmentedImage()\n",
    "\n",
    "img_obj.load_file(data_dir=Dirs['images'], file_name=input_image)\n",
    "img_obj.load_mask(mask_dir=Dirs['mask'], fget_mask=get_mask_file, erode=True)\n",
    "img_obj.load_ground_truth(gt_dir=Dirs['truth'], fget_ground_truth=get_ground_truth_file)\n",
    "\n",
    "img_obj.res['orig'] = img_obj.image_arr[:, :, 1]\n",
    "img_obj.working_arr = img_obj.image_arr[:, :, 1]\n",
    "\n",
    "img_obj.apply_mask()\n",
    "img_obj.apply_bilateral(k_size=BILATERAL_KERNEL_SIZE, sig_color=BILATERAL_SIGMA_COLOR, sig_space=BILATERAL_SIGMA_SPACE)\n",
    "img_obj.apply_gabor(filter_bank=kernels)\n",
    "\n",
    "img_obj.generate_skeleton(threshold=params['sk_threshold'])\n",
    "img_obj.generate_lattice_graph()"
   ]
  },
  {
   "cell_type": "code",
   "execution_count": null,
   "metadata": {},
   "outputs": [],
   "source": [
    "### Run for image files with in-time mask erosion\n",
    "tester = AtureTest(out_dir=Dirs['segmented'])\n",
    "tester.run(params=params, save_images=False, img_obj=img_obj)\n",
    "img_obj.res['scores']"
   ]
  },
  {
   "cell_type": "code",
   "execution_count": null,
   "metadata": {},
   "outputs": [],
   "source": [
    "IMG.fromarray(img_obj.res['segmented']).save(img_obj.file_name+'.PNG')"
   ]
  },
  {
   "cell_type": "code",
   "execution_count": null,
   "metadata": {},
   "outputs": [],
   "source": [
    "IMG.fromarray(imgutils.get_rgb_scores(img_obj.res['segmented'], img_obj.ground_truth))"
   ]
  },
  {
   "cell_type": "code",
   "execution_count": null,
   "metadata": {},
   "outputs": [],
   "source": [
    "m = img_obj.working_arr.copy()\n",
    "for n1, n2 in img_obj.res['graph'].edges():\n",
    "    m[n1] = 255\n",
    "    m[n2] = 255\n",
    "IMG.fromarray(m)"
   ]
  },
  {
   "cell_type": "code",
   "execution_count": null,
   "metadata": {},
   "outputs": [],
   "source": [
    "io = SegmentedImage()\n",
    "io.working_arr = np.array(m.copy(),dtype=np.uint8)\n",
    "io.res['orig'] = io.working_arr\n",
    "io.generate_lattice_graph()\n",
    "io.ground_truth = img_obj.ground_truth\n",
    "io.mask = img_obj.mask"
   ]
  },
  {
   "cell_type": "code",
   "execution_count": null,
   "metadata": {},
   "outputs": [],
   "source": [
    "pms = {'sk_threshold': 60,\n",
    "          'alpha': 9.0,\n",
    "          'orig_contrib': 0.7,\n",
    "          'seg_threshold': 40}\n",
    "tester1 = AtureTest(out_dir=Dirs['segmented'])\n",
    "acc = tester.run(params=pms, save_images=False, img_obj=io)"
   ]
  },
  {
   "cell_type": "code",
   "execution_count": null,
   "metadata": {},
   "outputs": [],
   "source": [
    "os.getcwd()"
   ]
  },
  {
   "cell_type": "code",
   "execution_count": null,
   "metadata": {},
   "outputs": [],
   "source": [
    "set_base"
   ]
  },
  {
   "cell_type": "code",
   "execution_count": null,
   "metadata": {},
   "outputs": [],
   "source": []
  }
 ],
 "metadata": {
  "kernelspec": {
   "display_name": "ature_env",
   "language": "python",
   "name": "ature_env"
  },
  "language_info": {
   "codemirror_mode": {
    "name": "ipython",
    "version": 3
   },
   "file_extension": ".py",
   "mimetype": "text/x-python",
   "name": "python",
   "nbconvert_exporter": "python",
   "pygments_lexer": "ipython3",
   "version": "3.5.2"
  }
 },
 "nbformat": 4,
 "nbformat_minor": 2
}
