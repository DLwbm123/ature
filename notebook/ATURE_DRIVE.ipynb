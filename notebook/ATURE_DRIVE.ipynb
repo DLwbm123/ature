{
 "cells": [
  {
   "cell_type": "code",
   "execution_count": null,
   "metadata": {},
   "outputs": [],
   "source": [
    "base_dir = 'C:\\\\Projects\\\\ature'\n",
    "import os\n",
    "os.chdir(base_dir) #BASE DIRECTORY\n",
    "\n",
    "### DRIVE dataset\n",
    "data_file_path = 'data\\\\DRIVE\\\\test\\\\images'\n",
    "mask_path = 'data\\\\DRIVE\\\\test\\\\mask'\n",
    "ground_truth_path = 'data\\\\DRIVE\\\\test\\\\1st_manual'\n",
    "mask_suffix =  '_test_mask.gif'\n",
    "ground_truth_suffix = '_manual1.gif'\n",
    "\n",
    "input_image = '19_test.tif'"
   ]
  },
  {
   "cell_type": "code",
   "execution_count": null,
   "metadata": {},
   "outputs": [],
   "source": [
    "#!/home/akhanal1/Spring2018/pl-env/bin/python3.5\n",
    "import sys\n",
    "import numpy as np\n",
    "import itertools as itr\n",
    "from random import shuffle\n",
    "from commons.segmentation import AtureTest\n",
    "from PIL import Image as IMG\n",
    "from commons.IMAGE import SegmentedImage\n",
    "import cv2\n",
    "import preprocess.utils.filter_utils as filutils\n",
    "import preprocess.utils.img_utils as imgutils\n",
    "import copy\n",
    "\n",
    "\n",
    "SK_THRESHOLD_PARAMS = np.arange(40, 61, 20)\n",
    "ALPHA_PARAMS = np.arange(5, 7, 0.5)\n",
    "GABOR_CONTRIBUTION_PARAMS = np.arange(0.6, 1.1, 0.2)\n",
    "SEGMENTATION_THRESHOLD_PARAMS = np.arange(9, 15, 0.5)\n",
    "\n",
    "PARAMS_ITR = itr.product(SK_THRESHOLD_PARAMS, ALPHA_PARAMS, GABOR_CONTRIBUTION_PARAMS, SEGMENTATION_THRESHOLD_PARAMS)\n",
    "\n",
    "PARAMS_COMBINATION = list(PARAMS_ITR)\n",
    "shuffle(PARAMS_COMBINATION)\n",
    "\n",
    "keys = ('sk_threshold', 'alpha', 'gabor_contrib', 'seg_threshold')\n",
    "\n",
    "all_params = list(dict(zip(keys, param)) for param in PARAMS_COMBINATION)\n",
    "\n",
    "params = {'sk_threshold': 60,\n",
    "          'alpha': 9.0,\n",
    "          'orig_contrib': 0.7,\n",
    "          'seg_threshold': 20}"
   ]
  },
  {
   "cell_type": "code",
   "execution_count": null,
   "metadata": {},
   "outputs": [],
   "source": [
    "%load_ext autoreload\n",
    "%autoreload 2"
   ]
  },
  {
   "cell_type": "code",
   "execution_count": null,
   "metadata": {},
   "outputs": [],
   "source": [
    "def get_mask_file(file_name): return file_name.split('_')[0] + mask_suffix\n",
    "def get_ground_truth_file(file_name): return file_name.split('_')[0] + ground_truth_suffix\n",
    "\n",
    "img_obj = SegmentedImage()\n",
    "\n",
    "img_obj.load_file(data_dir=data_file_path, file_name=input_image)\n",
    "img_obj.load_mask(mask_dir=mask_path, fget_mask=get_mask_file, erode=True)\n",
    "img_obj.load_ground_truth(gt_dir=ground_truth_path, fget_ground_truth=get_ground_truth_file)\n",
    "\n",
    "img_obj.res['orig'] = img_obj.image_arr[:, :, 1]\n",
    "img_obj.working_arr = img_obj.image_arr[:, :, 1]\n",
    "\n",
    "img_obj.apply_mask()\n",
    "img_obj.apply_bilateral()\n",
    "img_obj.apply_gabor()\n",
    "\n",
    "img_obj.apply_bilateral()\n",
    "img_obj.working_arr = img_obj.res['bilateral']\n",
    "# img_obj.apply_bilateral()\n",
    "# img_obj.working_arr = img_obj.res['bilateral']\n",
    "\n",
    "img_obj.generate_skeleton(threshold=params['sk_threshold'])\n",
    "img_obj.generate_lattice_graph()"
   ]
  },
  {
   "cell_type": "code",
   "execution_count": null,
   "metadata": {},
   "outputs": [],
   "source": [
    "### Run for image files with in-time mask erosion\n",
    "tester = AtureTest(out_dir='out')\n",
    "acc = tester.run(params=params, save_images=False, img_obj=img_obj)\n",
    "# tester.run_all(params_combination=all_params)"
   ]
  },
  {
   "cell_type": "code",
   "execution_count": null,
   "metadata": {},
   "outputs": [],
   "source": [
    "IMG.fromarray(img_obj.res['orig'])"
   ]
  },
  {
   "cell_type": "code",
   "execution_count": null,
   "metadata": {},
   "outputs": [],
   "source": [
    "IMG.fromarray(img_obj.res['segmented'])"
   ]
  },
  {
   "cell_type": "code",
   "execution_count": null,
   "metadata": {},
   "outputs": [],
   "source": [
    "print(img_obj.res['scores'])"
   ]
  },
  {
   "cell_type": "code",
   "execution_count": null,
   "metadata": {},
   "outputs": [],
   "source": [
    "IMG.fromarray(img_obj.res['segmented_rgb'])"
   ]
  },
  {
   "cell_type": "code",
   "execution_count": null,
   "metadata": {},
   "outputs": [],
   "source": [
    "fni = np.full(img_obj.res['segmented'].shape, 250, dtype=np.uint8)\n",
    "for i in range(fni.shape[0]):\n",
    "    for j in range(fni.shape[1]):\n",
    "        if img_obj.res['segmented'][i,j] == 0 and img_obj.ground_truth[i,j] == 255:\n",
    "                       fni[i, j] = img_obj.working_arr[i, j]"
   ]
  },
  {
   "cell_type": "code",
   "execution_count": null,
   "metadata": {},
   "outputs": [],
   "source": [
    "m = img_obj.working_arr.copy()\n",
    "for n1, n2 in img_obj.res['graph'].edges():\n",
    "    m[n1] = 255\n",
    "    m[n2] = 255\n",
    "IMG.fromarray(m)"
   ]
  },
  {
   "cell_type": "code",
   "execution_count": null,
   "metadata": {},
   "outputs": [],
   "source": []
  },
  {
   "cell_type": "code",
   "execution_count": null,
   "metadata": {},
   "outputs": [],
   "source": [
    "IMG.fromarray(np.array(rgb, dtype=np.uint8))"
   ]
  },
  {
   "cell_type": "code",
   "execution_count": null,
   "metadata": {},
   "outputs": [],
   "source": [
    "io = SegmentedImage()\n",
    "io.working_arr = np.array(m.copy(),dtype=np.uint8)\n",
    "io.res['orig'] = io.working_arr\n",
    "io.generate_lattice_graph()\n",
    "io.ground_truth = img_obj.ground_truth\n",
    "io.mask = img_obj.mask"
   ]
  },
  {
   "cell_type": "code",
   "execution_count": null,
   "metadata": {},
   "outputs": [],
   "source": [
    "io.generate_skeleton(threshold=135)\n",
    "rgb = np.zeros([m.shape[0], m.shape[1], 3])\n",
    "imgutils.rgb_scores(arr_2d=io.res['skeleton'], truth=io.ground_truth, arr_rgb=rgb)"
   ]
  },
  {
   "cell_type": "code",
   "execution_count": null,
   "metadata": {},
   "outputs": [],
   "source": [
    "pms = {'sk_threshold': 60,\n",
    "          'alpha': 9.0,\n",
    "          'orig_contrib': 0.7,\n",
    "          'seg_threshold': 40}\n",
    "tester1 = AtureTest(out_dir='out')\n",
    "acc = tester.run(params=pms, save_images=False, img_obj=io)"
   ]
  },
  {
   "cell_type": "code",
   "execution_count": null,
   "metadata": {},
   "outputs": [],
   "source": [
    "IMG.fromarray(io.res['orig'])"
   ]
  },
  {
   "cell_type": "code",
   "execution_count": null,
   "metadata": {},
   "outputs": [],
   "source": [
    "imgutils.histogram(fni, bins=10)"
   ]
  },
  {
   "cell_type": "code",
   "execution_count": null,
   "metadata": {},
   "outputs": [],
   "source": []
  },
  {
   "cell_type": "code",
   "execution_count": null,
   "metadata": {},
   "outputs": [],
   "source": []
  },
  {
   "cell_type": "code",
   "execution_count": null,
   "metadata": {},
   "outputs": [],
   "source": [
    "ig = SegmentedImage()"
   ]
  },
  {
   "cell_type": "code",
   "execution_count": null,
   "metadata": {},
   "outputs": [],
   "source": []
  },
  {
   "cell_type": "code",
   "execution_count": null,
   "metadata": {},
   "outputs": [],
   "source": [
    "ig.working_arr = img_obj.working_arr[:,200:300]\n",
    "ig.res['orig'] = img_obj.working_arr[:,200:300]\n",
    "ig.res['skeleton'] = img_obj.res['skeleton'][:,200:300]"
   ]
  },
  {
   "cell_type": "code",
   "execution_count": null,
   "metadata": {},
   "outputs": [],
   "source": [
    "IMG.fromarray(ig.working_arr)"
   ]
  },
  {
   "cell_type": "code",
   "execution_count": null,
   "metadata": {},
   "outputs": [],
   "source": [
    "ig.ground_truth = img_obj.ground_truth[:,200:300]\n",
    "ig.mask = img_obj.mask[:,200:300]\n",
    "ig.apply_bilateral()\n",
    "ig.working_arr = ig.res['bilateral']\n",
    "ig.generate_lattice_graph()\n",
    "ig.working_arr = ig.res['bilateral']\n",
    "ig.generate_lattice_graph()"
   ]
  },
  {
   "cell_type": "code",
   "execution_count": null,
   "metadata": {},
   "outputs": [],
   "source": [
    "pms = {'sk_threshold': 60,\n",
    "          'alpha': 7.0,\n",
    "          'orig_contrib': 0.2,\n",
    "          'seg_threshold': 24}\n",
    "tester1 = AtureTest(out_dir='out')\n",
    "a = tester.run(params=pms, save_images=False, img_obj=ig)"
   ]
  },
  {
   "cell_type": "code",
   "execution_count": null,
   "metadata": {},
   "outputs": [],
   "source": [
    "IMG.fromarray(ig.res['segmented_rgb'])"
   ]
  },
  {
   "cell_type": "code",
   "execution_count": null,
   "metadata": {},
   "outputs": [],
   "source": [
    "ig.res['scores']"
   ]
  },
  {
   "cell_type": "code",
   "execution_count": null,
   "metadata": {},
   "outputs": [],
   "source": [
    "cost = []\n",
    "for n1,n2 in io.res['graph'].edges():\n",
    "    cost.append(io.res['graph'][n1][n2]['cost'])"
   ]
  },
  {
   "cell_type": "code",
   "execution_count": null,
   "metadata": {},
   "outputs": [],
   "source": [
    "sorted(cost, reverse=True)"
   ]
  },
  {
   "cell_type": "code",
   "execution_count": null,
   "metadata": {},
   "outputs": [],
   "source": []
  }
 ],
 "metadata": {
  "kernelspec": {
   "display_name": "ature_env",
   "language": "python",
   "name": "ature_env"
  },
  "language_info": {
   "codemirror_mode": {
    "name": "ipython",
    "version": 3
   },
   "file_extension": ".py",
   "mimetype": "text/x-python",
   "name": "python",
   "nbconvert_exporter": "python",
   "pygments_lexer": "ipython3",
   "version": "3.6.2"
  }
 },
 "nbformat": 4,
 "nbformat_minor": 2
}
