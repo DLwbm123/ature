{
 "cells": [
  {
   "cell_type": "markdown",
   "metadata": {},
   "source": [
    "### Initialize notebook"
   ]
  },
  {
   "cell_type": "code",
   "execution_count": 1,
   "metadata": {},
   "outputs": [
    {
     "name": "stderr",
     "output_type": "stream",
     "text": [
      "/home/ak/Spring2018/ature_env/lib/python3.5/site-packages/h5py/__init__.py:36: FutureWarning: Conversion of the second argument of issubdtype from `float` to `np.floating` is deprecated. In future, it will be treated as `np.float64 == np.dtype(float).type`.\n",
      "  from ._conv import register_converters as _register_converters\n"
     ]
    }
   ],
   "source": [
    "#!/home/akhanal1/Spring2018/pl-env/bin/python3.5\n",
    "# Torch imports\n",
    "import torch\n",
    "import torchvision\n",
    "import torchvision.transforms as transforms\n",
    "import torch.optim as optim\n",
    "from torch.autograd import Variable\n",
    "import torch.nn as nn\n",
    "import torch.nn.functional as F\n",
    "from torch.utils.data.dataset import Dataset\n",
    "import PIL.Image as IMG\n",
    "from torch.utils.data.sampler import WeightedRandomSampler\n",
    "from sklearn.metrics import classification_report\n",
    "\n",
    "# Other imports\n",
    "import matplotlib.pyplot as plt\n",
    "import numpy as np\n",
    "import os\n",
    "import sys\n",
    "sys.path.append('/home/ak/Spring2018/ature')\n",
    "os.chdir('/home/ak/Spring2018/ature')\n",
    "\n",
    "from neuralnet.utils.torch_dataset import TorchPatchesGenerator\n",
    "from utils import img_utils as imgutil\n",
    "from commons.IMAGE import Image\n",
    "from neuralnet.torchtrainer import NNTrainer\n",
    "import neuralnet.utils.measurements as mnt\n",
    "import neuralnet.utils.data_utils as nndutils\n",
    "\n",
    "%load_ext autoreload\n",
    "%autoreload 2"
   ]
  },
  {
   "cell_type": "code",
   "execution_count": 43,
   "metadata": {},
   "outputs": [],
   "source": [
    "### Define folders. Create if needed.\n",
    "sep = os.sep\n",
    "Dirs = {}\n",
    "Dirs['checkpoint']   = 'assests' +sep+ 'nnet_models'\n",
    "Dirs['data']      = 'data'+sep+'DRIVE'+sep+'training'\n",
    "Dirs['images']    = Dirs['data'] +sep+ 'images'\n",
    "Dirs['mask']      = Dirs['data'] +sep+ 'mask'\n",
    "Dirs['truth']     = Dirs['data'] +sep+ '1st_manual'\n",
    "\n",
    "TestDirs = {}\n",
    "TestDirs['data']      = 'data'+sep+'DRIVE'+sep+'test'\n",
    "TestDirs['images']    = TestDirs['data'] +sep+ 'test_images'\n",
    "TestDirs['mask']      = TestDirs['data'] +sep+ 'mask'\n",
    "TestDirs['truth']     = TestDirs['data'] +sep+ '1st_manual'\n",
    "\n",
    "ValidationDirs = {}\n",
    "ValidationDirs['data']      = 'data'+sep+'DRIVE'+sep+'test'\n",
    "ValidationDirs['images']    = ValidationDirs['data'] +sep+ 'validation_images'\n",
    "ValidationDirs['mask']      = ValidationDirs['data'] +sep+ 'mask'\n",
    "ValidationDirs['truth']     = ValidationDirs['data'] +sep+ '1st_manual'\n",
    "\n",
    "for k, folder in Dirs.items():\n",
    "    os.makedirs(folder, exist_ok=True)\n",
    "for k, folder in TestDirs.items():\n",
    "    os.makedirs(folder, exist_ok=True)\n",
    "for k, folder in ValidationDirs.items():\n",
    "    os.makedirs(folder, exist_ok=True)\n",
    "\n",
    "def get_mask_file(file_name): \n",
    "    return file_name.split('_')[0] + '_training_mask.gif'\n",
    "\n",
    "def get_ground_truth_file(file_name): \n",
    "    return file_name.split('_')[0] + '_manual1.gif'\n",
    "\n",
    "def get_mask_file_test(file_name): \n",
    "    return file_name.split('_')[0] + '_test_mask.gif'\n",
    "\n",
    "classes = { 'background': 0, 'vessel': 1,}\n",
    "batch_size = 64\n",
    "num_classes = len(classes)\n",
    "epochs = 10\n",
    "patch_size = 31\n",
    "use_gpu = False\n",
    "\n",
    "#### Images to train/validate per epoch ####\n",
    "train_size = 20000\n",
    "validation_size = 5000\n",
    "checkpoint_file = 'PytorchCheckpoint.nn.tar'"
   ]
  },
  {
   "cell_type": "markdown",
   "metadata": {},
   "source": [
    "### Define the network"
   ]
  },
  {
   "cell_type": "code",
   "execution_count": 44,
   "metadata": {},
   "outputs": [
    {
     "name": "stdout",
     "output_type": "stream",
     "text": [
      "Output width[ 31 -conv-> 16.0 -maxpool-> 16.0 ]\n",
      "Output width[ 16.0 -conv-> 16.0 -maxpool-> 16.0 ]\n",
      "Output width[ 16.0 -conv-> 16.0 -maxpool-> 8.0 ]\n",
      "Output width[ 8.0 -conv-> 8.0 -maxpool-> 8.0 ]\n"
     ]
    }
   ],
   "source": [
    "class Net(nn.Module):\n",
    "    def __init__(self, width, channels):\n",
    "        super(Net, self).__init__()\n",
    "        \n",
    "        self.channels = channels\n",
    "        self.width = width\n",
    "    \n",
    "        self.kern_size = 5\n",
    "        self.kern_stride = 2      \n",
    "        self.kern_padding = 2\n",
    "        self.mxp_kern_size = 1\n",
    "        self.mxp_stride = 1 \n",
    "        self.pool1 = nn.MaxPool2d(kernel_size=self.mxp_kern_size, stride=self.mxp_stride)\n",
    "        self.conv1 = nn.Conv2d(self.channels, 24, self.kern_size, \n",
    "                               stride=self.kern_stride, padding=self.kern_padding)\n",
    "        self._update_output_size()\n",
    "        \n",
    "        self.kern_size = 3\n",
    "        self.kern_stride = 1      \n",
    "        self.kern_padding = 1\n",
    "        self.mxp_kern_size = 1\n",
    "        self.mxp_stride = 1 \n",
    "        self.pool2 = nn.MaxPool2d(kernel_size=self.mxp_kern_size, stride=self.mxp_stride)\n",
    "        self.conv2 = nn.Conv2d(24, 52, self.kern_size, \n",
    "                               stride=self.kern_stride, padding=self.kern_padding)\n",
    "        self._update_output_size()\n",
    "        \n",
    "        self.kern_size = 5\n",
    "        self.kern_stride = 1      \n",
    "        self.kern_padding = 2\n",
    "        self.mxp_kern_size = 2\n",
    "        self.mxp_stride = 2 \n",
    "        self.pool3 = nn.MaxPool2d(kernel_size=self.mxp_kern_size, stride=self.mxp_stride)\n",
    "        self.conv3 = nn.Conv2d(52, 96, self.kern_size, \n",
    "                               stride=self.kern_stride, padding=self.kern_padding)\n",
    "        self._update_output_size()\n",
    "        \n",
    "        self.kern_size = 3\n",
    "        self.kern_stride = 1      \n",
    "        self.kern_padding = 1\n",
    "        self.mxp_kern_size = 1\n",
    "        self.mxp_stride = 1 \n",
    "        self.pool4 = nn.MaxPool2d(kernel_size=self.mxp_kern_size, stride=self.mxp_stride)\n",
    "        self.conv4 = nn.Conv2d(96, 30, self.kern_size, \n",
    "                               stride=self.kern_stride, padding=self.kern_padding)\n",
    "        self._update_output_size()\n",
    "        \n",
    "        self.linearWidth = 30*int(self.width)*int(self.width)\n",
    "        self.fc1 = nn.Linear(self.linearWidth, 512)\n",
    "        self.fc2 = nn.Linear(512, 16)\n",
    "        self.fc3 = nn.Linear(16, num_classes)\n",
    "\n",
    "    def forward(self, x):\n",
    "        x = self.pool1(F.relu(self.conv1(x)))\n",
    "        x = self.pool2(F.relu(self.conv2(x)))\n",
    "        x = F.dropout(x, training=self.training, p=0.2)\n",
    "        x = self.pool3(F.relu(self.conv3(x)))\n",
    "        x = F.dropout(x, training=self.training, p=0.3)\n",
    "        x = self.pool4(F.relu(self.conv4(x)))\n",
    "        x = x.view(-1, self.linearWidth)\n",
    "        x = F.dropout(x, training=self.training)\n",
    "        x = F.relu(self.fc1(x))\n",
    "        x = F.dropout(x, training=self.training)\n",
    "        x = F.relu(self.fc2(x))\n",
    "        x = self.fc3(x)\n",
    "        return F.log_softmax(x, dim=1)\n",
    "    \n",
    "    def _update_output_size(self):       \n",
    "        temp = self.width\n",
    "        self.width = ((self.width - self.kern_size + 2 * self.kern_padding) / self.kern_stride) + 1\n",
    "        temp1 = self.width\n",
    "        self.width = ((self.width - self.mxp_kern_size)/self.mxp_stride) + 1\n",
    "        print('Output width[ ' + str(temp) + ' -conv-> ' + str(temp1) + ' -maxpool-> ' + str(self.width) + ' ]')\n",
    "\n",
    "width = 31\n",
    "channels = 1\n",
    "net = Net(width, channels)\n",
    "optimizer = optim.Adam(net.parameters(), lr=0.00001)"
   ]
  },
  {
   "cell_type": "markdown",
   "metadata": {},
   "source": [
    "### Load train data"
   ]
  },
  {
   "cell_type": "code",
   "execution_count": 45,
   "metadata": {},
   "outputs": [
    {
     "name": "stdout",
     "output_type": "stream",
     "text": [
      "### 4388140 patches found.\n"
     ]
    }
   ],
   "source": [
    "transform = transforms.Compose([\n",
    "        imgutil.whiten_image2d,\n",
    "        transforms.ToPILImage(),\n",
    "        transforms.RandomHorizontalFlip(),\n",
    "        transforms.RandomRotation(40),\n",
    "        transforms.RandomVerticalFlip(),\n",
    "        transforms.ToTensor()\n",
    "    ])\n",
    "\n",
    "trainset = TorchPatchesGenerator(Dirs=Dirs, patch_size=patch_size, \n",
    "                                 transform=transform,\n",
    "                                 fget_mask=get_mask_file, \n",
    "                                 fget_truth=get_ground_truth_file) \n",
    "\n",
    "### Fix skewed classes by sampling based on class weights\n",
    "labels = np.array(trainset.IDs)[:,3]\n",
    "_, ccounts_train = np.unique(labels, return_counts=True)\n",
    "cweights_train = 1.0/ccounts_train\n",
    "dweights_train = np.array([cweights_train[t] for t in labels])\n",
    "\n",
    "train_size = trainset.__len__() if train_size is None else train_size\n",
    "trainloader = torch.utils.data.DataLoader(trainset, batch_size=batch_size, \n",
    "                                          shuffle=False, num_workers=3, \n",
    "                                          sampler=WeightedRandomSampler(dweights_train, train_size))"
   ]
  },
  {
   "cell_type": "markdown",
   "metadata": {},
   "source": [
    "### Load Validation Data"
   ]
  },
  {
   "cell_type": "code",
   "execution_count": 46,
   "metadata": {},
   "outputs": [
    {
     "name": "stdout",
     "output_type": "stream",
     "text": [
      "### 658074 patches found.\n"
     ]
    }
   ],
   "source": [
    "transform_val = transforms.Compose([\n",
    "        imgutil.whiten_image2d,\n",
    "        transforms.ToPILImage(),\n",
    "        transforms.ToTensor()\n",
    "    ])\n",
    "\n",
    "validation_set = TorchPatchesGenerator(Dirs=ValidationDirs, patch_size=patch_size, \n",
    "                                       transform=transform_val,\n",
    "                                       fget_mask=get_mask_file_test, \n",
    "                                       fget_truth=get_ground_truth_file) \n",
    "\n",
    "labels_val = np.array(validation_set.IDs)[:,3]\n",
    "_, ccounts_val = np.unique(labels_val, return_counts=True)\n",
    "cweights_val = 1.0/ccounts_val\n",
    "dweights_val = np.array([cweights_val[t] for t in labels_val])\n",
    "\n",
    "validation_size = validation_set.__len__() if validation_size is None else validation_size\n",
    "validationloader = torch.utils.data.DataLoader(validation_set, batch_size=batch_size, \n",
    "                                            shuffle=False, num_workers=3,\n",
    "                                            sampler=WeightedRandomSampler(dweights_val, \n",
    "                                                                          validation_size, replacement=True))"
   ]
  },
  {
   "cell_type": "markdown",
   "metadata": {},
   "source": [
    "### Train and evaluate the Network"
   ]
  },
  {
   "cell_type": "code",
   "execution_count": 48,
   "metadata": {},
   "outputs": [
    {
     "name": "stdout",
     "output_type": "stream",
     "text": [
      "Training...\n",
      "Epoch:[1/10] Batches:[200/313]   Loss: 0.693 Accuracy: 0.422\n",
      "Epoch:[1/10] Batches:[313/313]   Loss: 0.695 Accuracy: 0.438\n",
      "Evaluating...\n",
      "_________ACCURACY___of___[79/79]batches: 50.12%\n",
      "Accuracy improved from  0.0 to 50.12. Saving model..\n",
      "Epoch:[2/10] Batches:[200/313]   Loss: 0.691 Accuracy: 0.641\n",
      "Epoch:[2/10] Batches:[313/313]   Loss: 0.676 Accuracy: 0.594\n",
      "Evaluating...\n",
      "_________ACCURACY___of___[79/79]batches: 66.82%\n",
      "Accuracy improved from  50.12 to 66.82. Saving model..\n",
      "Epoch:[3/10] Batches:[200/313]   Loss: 0.600 Accuracy: 0.703\n",
      "Epoch:[3/10] Batches:[313/313]   Loss: 0.380 Accuracy: 0.906\n",
      "Evaluating...\n",
      "_________ACCURACY___of___[79/79]batches: 73.84%\n",
      "Accuracy improved from  66.82 to 73.84. Saving model..\n",
      "Epoch:[4/10] Batches:[200/313]   Loss: 0.492 Accuracy: 0.750\n",
      "Epoch:[4/10] Batches:[313/313]   Loss: 0.394 Accuracy: 0.812\n",
      "Evaluating...\n",
      "_________ACCURACY___of___[79/79]batches: 80.26%\n",
      "Accuracy improved from  73.84 to 80.26. Saving model..\n",
      "Epoch:[5/10] Batches:[200/313]   Loss: 0.458 Accuracy: 0.797\n",
      "Epoch:[5/10] Batches:[313/313]   Loss: 0.446 Accuracy: 0.750\n",
      "Evaluating...\n",
      "_________ACCURACY___of___[79/79]batches: 81.16%\n",
      "Accuracy improved from  80.26 to 81.16. Saving model..\n",
      "Epoch:[6/10] Batches:[200/313]   Loss: 0.436 Accuracy: 0.797\n",
      "Epoch:[6/10] Batches:[313/313]   Loss: 0.409 Accuracy: 0.812\n",
      "Evaluating...\n",
      "_________ACCURACY___of___[79/79]batches: 81.78%\n",
      "Accuracy improved from  81.16 to 81.78. Saving model..\n",
      "Epoch:[7/10] Batches:[200/313]   Loss: 0.425 Accuracy: 0.859\n",
      "Epoch:[7/10] Batches:[313/313]   Loss: 0.447 Accuracy: 0.812\n",
      "Evaluating...\n",
      "_________ACCURACY___of___[79/79]batches: 82.86%\n",
      "Accuracy improved from  81.78 to 82.86. Saving model..\n",
      "Epoch:[8/10] Batches:[200/313]   Loss: 0.411 Accuracy: 0.891\n",
      "Epoch:[8/10] Batches:[313/313]   Loss: 0.424 Accuracy: 0.812\n",
      "Evaluating...\n",
      "_________ACCURACY___of___[79/79]batches: 83.14%\n",
      "Accuracy improved from  82.86 to 83.14. Saving model..\n",
      "Epoch:[9/10] Batches:[200/313]   Loss: 0.396 Accuracy: 0.859\n",
      "Epoch:[9/10] Batches:[313/313]   Loss: 0.336 Accuracy: 0.875\n",
      "Evaluating...\n",
      "_________ACCURACY___of___[79/79]batches: 83.30%\n",
      "Accuracy improved from  83.14 to 83.3. Saving model..\n",
      "Epoch:[10/10] Batches:[200/313]   Loss: 0.381 Accuracy: 0.906\n",
      "Epoch:[10/10] Batches:[313/313]   Loss: 0.250 Accuracy: 0.938\n",
      "Evaluating...\n",
      "_________ACCURACY___of___[79/79]batches: 84.44%\n",
      "Accuracy improved from  83.3 to 84.44. Saving model..\n"
     ]
    }
   ],
   "source": [
    "trainer = NNTrainer(model=net, checkpoint_dir=Dirs['checkpoint'], checkpoint_file=checkpoint_file)\n",
    "# trainer.resume_from_checkpoint()\n",
    "trainer.train(optimizer=optimizer, dataloader=trainloader, epochs=epochs, use_gpu=use_gpu, \n",
    "              validationloader=validationloader)\n",
    "# trainer.resume_from_checkpoint()"
   ]
  },
  {
   "cell_type": "markdown",
   "metadata": {},
   "source": [
    "### Test on a image"
   ]
  },
  {
   "cell_type": "code",
   "execution_count": 59,
   "metadata": {},
   "outputs": [
    {
     "name": "stdout",
     "output_type": "stream",
     "text": [
      "### 219737 patches found.\n"
     ]
    }
   ],
   "source": [
    "transform_test = transforms.Compose([\n",
    "        imgutil.whiten_image2d,\n",
    "        transforms.ToPILImage(),\n",
    "        transforms.ToTensor()\n",
    "    ])\n",
    "\n",
    "testset = TorchPatchesGenerator(Dirs=TestDirs, patch_size=patch_size, \n",
    "                                transform=transform_test,\n",
    "                                fget_mask=get_mask_file_test, \n",
    "                                fget_truth=get_ground_truth_file,\n",
    "                                segment_mode=True) \n",
    "\n",
    "sampler=WeightedRandomSampler(np.ones(testset.__len__()), 5000, replacement=False)\n",
    "testloader = torch.utils.data.DataLoader(testset, batch_size=100, \n",
    "                                          shuffle=False, num_workers=3, sampler=None)"
   ]
  },
  {
   "cell_type": "code",
   "execution_count": null,
   "metadata": {
    "scrolled": false
   },
   "outputs": [
    {
     "name": "stdout",
     "output_type": "stream",
     "text": [
      "\n",
      "Evaluating...\n",
      "_________ACCURACY___of___[73/2198]batches: 84.99%\r"
     ]
    }
   ],
   "source": [
    "IDs, IJs, scores, y_pred, y_true = trainer.evaluate(dataloader=testloader, use_gpu=use_gpu, force_checkpoint=False)\n",
    "# mnt.plot_confusion_matrix(y_pred=y_pred, y_true=y_true, classes=classes)"
   ]
  },
  {
   "cell_type": "markdown",
   "metadata": {},
   "source": [
    "### Convolve throughout the image to generate segmented image based on trained Network"
   ]
  },
  {
   "cell_type": "code",
   "execution_count": 57,
   "metadata": {},
   "outputs": [],
   "source": [
    "seg = np.zeros_like(testset.images[0].working_arr)\n",
    "for val in zip(IDs, IJs, sc):\n",
    "    image_id, (i, j), (_, prob) = val\n",
    "    seg[i, j] = 255 * prob"
   ]
  },
  {
   "cell_type": "code",
   "execution_count": null,
   "metadata": {},
   "outputs": [],
   "source": [
    "# IMG.fromarray(seg).save(checkpoint_file+'SEG.png')\n",
    "print(classification_report(y_true=y_true, y_pred=y_pred))"
   ]
  },
  {
   "cell_type": "code",
   "execution_count": null,
   "metadata": {},
   "outputs": [],
   "source": [
    "mnt.plot_confusion_matrix(y_pred=y_pred, y_true=y_true, classes=['background', 'vessel'])"
   ]
  },
  {
   "cell_type": "code",
   "execution_count": 58,
   "metadata": {},
   "outputs": [
    {
     "data": {
      "image/png": "[encoded data removed]",
      "text/plain": [
       "<PIL.Image.Image image mode=L size=565x584 at 0x7FC977C36DD8>"
      ]
     },
     "execution_count": 58,
     "metadata": {},
     "output_type": "execute_result"
    }
   ],
   "source": [
    "IMG.fromarray(seg)"
   ]
  },
  {
   "cell_type": "code",
   "execution_count": 54,
   "metadata": {},
   "outputs": [],
   "source": [
    "sc = scores.copy()"
   ]
  },
  {
   "cell_type": "code",
   "execution_count": 55,
   "metadata": {},
   "outputs": [],
   "source": [
    "sc = np.exp(sc)"
   ]
  },
  {
   "cell_type": "code",
   "execution_count": 56,
   "metadata": {},
   "outputs": [
    {
     "data": {
      "text/plain": [
       "array([[0.9172229 , 0.08277712],\n",
       "       [0.01282686, 0.98717315],\n",
       "       [0.71323399, 0.28676602],\n",
       "       ...,\n",
       "       [0.01490733, 0.98509267],\n",
       "       [0.89485133, 0.10514868],\n",
       "       [0.71210343, 0.28789656]])"
      ]
     },
     "execution_count": 56,
     "metadata": {},
     "output_type": "execute_result"
    }
   ],
   "source": [
    "sc"
   ]
  },
  {
   "cell_type": "code",
   "execution_count": null,
   "metadata": {},
   "outputs": [],
   "source": []
  }
 ],
 "metadata": {
  "kernelspec": {
   "display_name": "ature_env",
   "language": "python",
   "name": "ature_env"
  },
  "language_info": {
   "codemirror_mode": {
    "name": "ipython",
    "version": 3
   },
   "file_extension": ".py",
   "mimetype": "text/x-python",
   "name": "python",
   "nbconvert_exporter": "python",
   "pygments_lexer": "ipython3",
   "version": "3.5.2"
  }
 },
 "nbformat": 4,
 "nbformat_minor": 2
}
