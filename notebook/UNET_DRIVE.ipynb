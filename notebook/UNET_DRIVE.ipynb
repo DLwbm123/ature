{
 "cells": [
  {
   "cell_type": "markdown",
   "metadata": {},
   "source": [
    "### Initialize notebook"
   ]
  },
  {
   "cell_type": "code",
   "execution_count": 161,
   "metadata": {},
   "outputs": [],
   "source": [
    "BASE_PROJECT_DIR = '/home/akhanal1/ature'\n",
    "BASE_PROJECT_DIR = '/home/ak/PycharmProjects/ature'\n",
    "\n",
    "import os\n",
    "import sys\n",
    "import traceback\n",
    "\n",
    "sys.path.append(BASE_PROJECT_DIR)\n",
    "os.chdir(BASE_PROJECT_DIR)\n",
    "\n",
    "import torch\n",
    "import torch.optim as optim\n",
    "from neuralnet.unet.model import UNet\n",
    "from neuralnet.unet.unet_dataloader import PatchesGenerator\n",
    "from neuralnet.unet.unet_trainer import UNetNNTrainer\n",
    "import torchvision.transforms as transforms\n",
    "import auto_split as asp\n",
    "from neuralnet.unet.runs import DRIVE as uDRIVE\n",
    "from neuralnet.thrnet.runs import DRIVE as pDRIVE\n",
    "\n",
    "RUNS = [DRIVE]"
   ]
  },
  {
   "cell_type": "code",
   "execution_count": 162,
   "metadata": {},
   "outputs": [],
   "source": [
    "from PIL import Image as IMG\n",
    "import numpy as np\n",
    "import utils.img_utils as iu\n",
    "from commons.IMAGE import Image\n",
    "import json"
   ]
  },
  {
   "cell_type": "code",
   "execution_count": 163,
   "metadata": {},
   "outputs": [],
   "source": [
    "image = Image()\n",
    "imap = Image()"
   ]
  },
  {
   "cell_type": "code",
   "execution_count": 167,
   "metadata": {},
   "outputs": [],
   "source": [
    "image.load_file(uDRIVE['Dirs']['image'],  '19_test.tif')\n",
    "image.working_arr=image.image_arr[:,:,1]"
   ]
  },
  {
   "cell_type": "code",
   "execution_count": 168,
   "metadata": {},
   "outputs": [],
   "source": [
    "imap.load_file(pDRIVE['Dirs']['image'],  '19_test.png')\n",
    "imap.working_arr = imap.image_arr\n",
    "imap.load_ground_truth(pDRIVE['Dirs']['truth'], pDRIVE['Funcs']['truth_getter'])"
   ]
  },
  {
   "cell_type": "code",
   "execution_count": 133,
   "metadata": {},
   "outputs": [],
   "source": []
  },
  {
   "cell_type": "code",
   "execution_count": 171,
   "metadata": {},
   "outputs": [],
   "source": [
    "iseg = imap.working_arr.copy()\n",
    "iseg[iseg>=170]=255\n",
    "iseg[iseg<170]=0"
   ]
  },
  {
   "cell_type": "code",
   "execution_count": 172,
   "metadata": {},
   "outputs": [
    {
     "data": {
      "text/plain": [
       "{'Accuracy': 0.9792399078676203,\n",
       " 'F1': 0.8739650413983441,\n",
       " 'Precision': 0.8803143185440527,\n",
       " 'Recall': 0.8677066968689489}"
      ]
     },
     "execution_count": 172,
     "metadata": {},
     "output_type": "execute_result"
    }
   ],
   "source": [
    "rgb = iu.get_rgb_scores(iseg, imap.ground_truth)\n",
    "iu.get_praf1(iseg, imap.ground_truth)"
   ]
  },
  {
   "cell_type": "code",
   "execution_count": 173,
   "metadata": {},
   "outputs": [
    {
     "data": {
      "image/png": "[encoded data removed]",
      "text/plain": [
       "<PIL.Image.Image image mode=RGB size=565x584 at 0x7FB70CBE0EF0>"
      ]
     },
     "execution_count": 173,
     "metadata": {},
     "output_type": "execute_result"
    }
   ],
   "source": [
    "IMG.fromarray(rgb)"
   ]
  },
  {
   "cell_type": "markdown",
   "metadata": {},
   "source": [
    "### Load train data"
   ]
  },
  {
   "cell_type": "code",
   "execution_count": 136,
   "metadata": {},
   "outputs": [],
   "source": [
    "files = os.listdir(uDRIVE['Dirs']['image'])"
   ]
  },
  {
   "cell_type": "code",
   "execution_count": 26,
   "metadata": {},
   "outputs": [],
   "source": [
    "j = np.array(j*255, dtype=np.uint8).squeeze()"
   ]
  },
  {
   "cell_type": "code",
   "execution_count": 140,
   "metadata": {},
   "outputs": [],
   "source": [
    "train = []\n",
    "test = []\n",
    "for f in files:\n",
    "    if 'train' in f:\n",
    "        train.append(f)\n",
    "    else:\n",
    "        test.append(f)"
   ]
  },
  {
   "cell_type": "code",
   "execution_count": 146,
   "metadata": {},
   "outputs": [],
   "source": [
    "test1 = test[0:10]\n",
    "val = test[10:20]"
   ]
  },
  {
   "cell_type": "code",
   "execution_count": 151,
   "metadata": {},
   "outputs": [],
   "source": [
    "conf = {'train':train, 'validation':val, 'test':test1}"
   ]
  },
  {
   "cell_type": "code",
   "execution_count": 155,
   "metadata": {},
   "outputs": [],
   "source": [
    "file = open('runconf.txt', 'w')\n",
    "file.write(json.dumps(conf))\n",
    "file.flush()\n",
    "file.close()"
   ]
  },
  {
   "cell_type": "code",
   "execution_count": 159,
   "metadata": {},
   "outputs": [
    {
     "data": {
      "text/plain": [
       "True"
      ]
     },
     "execution_count": 159,
     "metadata": {},
     "output_type": "execute_result"
    }
   ],
   "source": [
    "test == test1+val"
   ]
  },
  {
   "cell_type": "code",
   "execution_count": null,
   "metadata": {},
   "outputs": [],
   "source": [
    "03_test.tif PRF1A:  [0.83, 0.718, 0.77, 0.956]\n",
    "07_test.tif PRF1A:  [0.852, 0.71, 0.775, 0.956]\n",
    "09_test.tif PRF1A:  [0.857, 0.698, 0.77, 0.957]\n",
    "12_test.tif PRF1A:  [0.852, 0.709, 0.774, 0.958]\n",
    "16_test.tif PRF1A:  [0.853, 0.724, 0.784, 0.959]\n",
    "05_test.tif PRF1A:  [0.86, 0.716, 0.781, 0.958]\n",
    "10_test.tif PRF1A:  [0.857, 0.719, 0.782, 0.958]\n",
    "17_test.tif PRF1A:  [0.859, 0.718, 0.782, 0.958]\n",
    "13_test.tif PRF1A:  [0.861, 0.719, 0.784, 0.958]\n",
    "Score imp"
   ]
  },
  {
   "cell_type": "markdown",
   "metadata": {},
   "source": [
    "### Load Validation Data"
   ]
  }
 ],
 "metadata": {
  "kernelspec": {
   "display_name": "ature_env",
   "language": "python",
   "name": "ature_env"
  },
  "language_info": {
   "codemirror_mode": {
    "name": "ipython",
    "version": 3
   },
   "file_extension": ".py",
   "mimetype": "text/x-python",
   "name": "python",
   "nbconvert_exporter": "python",
   "pygments_lexer": "ipython3",
   "version": "3.6.4"
  }
 },
 "nbformat": 4,
 "nbformat_minor": 2
}
