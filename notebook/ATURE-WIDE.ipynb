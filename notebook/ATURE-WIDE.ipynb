{
 "cells": [
  {
   "cell_type": "code",
   "execution_count": null,
   "metadata": {},
   "outputs": [],
   "source": [
    "import os\n",
    "\n",
    "base_path = \"C:\\\\Projects\\\\ature\\\\\" # WINDOWS\n",
    "# base_path = \"home/ak/Projects/ature/\" # LINUX\n",
    "\n",
    "data_file_path = base_path + \"\\\\data\\\\av_wide_data_set\"\n",
    "out_path = base_path + \"\\\\out\\\\wide\"\n",
    "    \n",
    "os.chdir(base_path)\n",
    "\n",
    "from commons.IMAGE import Image\n",
    "from commons.ImgLATTICE import Lattice\n",
    "import preprocess.utils.img_utils as imgutils\n",
    "from commons.MAT import Mat\n",
    "from PIL import Image as IMG\n",
    "import numpy as np\n",
    "from commons import constants as const\n",
    "import cv2\n",
    "from preprocess.algorithms import fast_mst as fmst"
   ]
  },
  {
   "cell_type": "code",
   "execution_count": null,
   "metadata": {},
   "outputs": [],
   "source": []
  },
  {
   "cell_type": "code",
   "execution_count": null,
   "metadata": {},
   "outputs": [],
   "source": [
    "def run_segmentation(img_obj, lattice_obj, params, test_image):\n",
    "    \n",
    "    ##### Unpack all params\n",
    "    SKELETONIZE_THRESHOLD, IMG_LATTICE_COST_ASSIGNMENT_ALPHA, IMG_LATTICE_COST_GABOR_IMAGE_CONTRIBUTION, SEGMENTATION_THRESHOLD = params\n",
    "    \n",
    "    ##### Create skeleton based on threshold\n",
    "    img_obj.create_skeleton(threshold=SKELETONIZE_THRESHOLD, kernels=imgutils.get_chosen_skeleton_filter())\n",
    "    seed_node_list = imgutils.get_seed_node_list(img_obj.img_skeleton)\n",
    "\n",
    "    ##### Run segmnetation\n",
    "    graph = fmst.run_segmentation(image_object=img_obj,\n",
    "                          lattice_object=lattice_obj,\n",
    "                          seed_list=seed_node_list,\n",
    "                          segmentation_threshold=SEGMENTATION_THRESHOLD,\n",
    "                          alpha=IMG_LATTICE_COST_ASSIGNMENT_ALPHA,\n",
    "                          img_gabor_contribution=IMG_LATTICE_COST_GABOR_IMAGE_CONTRIBUTION,\n",
    "                          img_original_contribution=1-IMG_LATTICE_COST_GABOR_IMAGE_CONTRIBUTION)"
   ]
  },
  {
   "cell_type": "code",
   "execution_count": null,
   "metadata": {},
   "outputs": [],
   "source": [
    "############# ENTRY POINT HERE ###############\n",
    "############################################\n",
    "params = (70,   ### SKELETONIZE_THRESHOLD\n",
    "          5.0,    ### IMG_LATTICE_COST_ASSIGNMENT_ALPHA\n",
    "          0.7,  ### IMG_LATTICE_COST_GABOR_IMAGE_CONTRIBUTION\n",
    "          7.0)  ### SEGMENTATION_THRESHOLD\n",
    "\n",
    "#### Work on all images in a directory\n",
    "os.chdir(data_file_path)\n",
    "for test_image in os.listdir(os.getcwd()):\n",
    "    \n",
    "    print('### WORKING ON: ' + test_image)\n",
    "    file = Mat(file_name=test_image)\n",
    "    original = file.get_image('I2')\n",
    "    img_obj = Image(image_arr=original[:,:,1])\n",
    "    \n",
    "    img_obj.apply_bilateral()\n",
    "    img_obj.apply_gabor(kernel_bank=imgutils.get_chosen_gabor_bank()) \n",
    "    print('Filter applied.')\n",
    "    \n",
    "    lattice_obj = Lattice(image_arr_2d=img_obj.img_gabor)\n",
    "    lattice_obj.generate_lattice_graph()\n",
    "    print('Lattice created.')\n",
    "\n",
    "    run_segmentation(img_obj, lattice_obj, params, test_image)\n",
    "    \n",
    "    os.chdir(out_path)\n",
    "    IMG.fromarray(lattice_obj.accumulator).save(test_image + '.JPEG')\n",
    "    IMG.fromarray(original).save(test_image + '-ORIGINAL.JPEG')\n",
    "    \n",
    "    print('Done')"
   ]
  },
  {
   "cell_type": "code",
   "execution_count": null,
   "metadata": {},
   "outputs": [],
   "source": []
  },
  {
   "cell_type": "code",
   "execution_count": null,
   "metadata": {},
   "outputs": [],
   "source": []
  },
  {
   "cell_type": "code",
   "execution_count": null,
   "metadata": {},
   "outputs": [],
   "source": []
  }
 ],
 "metadata": {
  "kernelspec": {
   "display_name": "ature_env",
   "language": "python",
   "name": "ature_env"
  }
 },
 "nbformat": 4,
 "nbformat_minor": 2
}
